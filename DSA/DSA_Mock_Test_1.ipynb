{
 "cells": [
  {
   "cell_type": "markdown",
   "id": "64b1a22e",
   "metadata": {},
   "source": [
    "Given an integer array nums, move all 0's to the end of it while maintaining the relative order of the non-zero elements.<br>\n",
    "`Note` that you must do this in-place without making a copy of the array.<br>\n",
    "Example 1:<br>\n",
    "Input: nums = [0,1,0,3,12]<br>\n",
    "Output: [1,3,12,0,0]<br>\n",
    "\n",
    "Example 2:<br>\n",
    "Input: nums = [0]<br>\n",
    "Output: [0]<br>\n"
   ]
  },
  {
   "cell_type": "code",
   "execution_count": 4,
   "id": "0d7cd645",
   "metadata": {},
   "outputs": [
    {
     "data": {
      "text/plain": [
       "[1, 3, 12, 0, 0]"
      ]
     },
     "execution_count": 4,
     "metadata": {},
     "output_type": "execute_result"
    }
   ],
   "source": [
    "def MoveZero(nums):\n",
    "    n = len(nums)\n",
    "    left = 0\n",
    "    for right in range(n):\n",
    "        if nums[right] != 0:\n",
    "            nums[left], nums[right] = nums[right], nums[left]\n",
    "            left += 1\n",
    "    return nums\n",
    "\n",
    "\n",
    "MoveZero([0,1,0,3,12])"
   ]
  },
  {
   "cell_type": "markdown",
   "id": "15fe9547",
   "metadata": {},
   "source": [
    "Given a string s, find the first non-repeating character in it and return its index. If it does not exist, return -1.<br>\n",
    "Example 1:<br>\n",
    "Input: s = \"leetcode\"<br>\n",
    "Output: 0<br>\n",
    "\n",
    "Example 2:<br>\n",
    "Input: s = \"loveleetcode\"<br>\n",
    "Output: 2<br>\n",
    "\n",
    "Example 3:<br>\n",
    "Input: s = \"aabb\"<br>\n",
    "Output: -1"
   ]
  },
  {
   "cell_type": "code",
   "execution_count": 5,
   "id": "891e18e8",
   "metadata": {},
   "outputs": [
    {
     "data": {
      "text/plain": [
       "2"
      ]
     },
     "execution_count": 5,
     "metadata": {},
     "output_type": "execute_result"
    }
   ],
   "source": [
    "def firstUniqChar(s):\n",
    "    char_count = {}\n",
    "    for i, char in enumerate(s):\n",
    "        if char not in char_count:\n",
    "            char_count[char] = [0, i]\n",
    "        char_count[char][0] += 1\n",
    "    for char, count_index in char_count.items():\n",
    "        if count_index[0] == 1:\n",
    "            return count_index[1]\n",
    "    return -1\n",
    "\n",
    "firstUniqChar(\"loveleetcode\")"
   ]
  },
  {
   "cell_type": "code",
   "execution_count": null,
   "id": "db718024",
   "metadata": {},
   "outputs": [],
   "source": []
  }
 ],
 "metadata": {
  "kernelspec": {
   "display_name": "Python 3 (ipykernel)",
   "language": "python",
   "name": "python3"
  },
  "language_info": {
   "codemirror_mode": {
    "name": "ipython",
    "version": 3
   },
   "file_extension": ".py",
   "mimetype": "text/x-python",
   "name": "python",
   "nbconvert_exporter": "python",
   "pygments_lexer": "ipython3",
   "version": "3.9.12"
  }
 },
 "nbformat": 4,
 "nbformat_minor": 5
}
