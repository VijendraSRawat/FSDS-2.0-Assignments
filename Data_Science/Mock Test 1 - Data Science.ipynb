{
 "cells": [
  {
   "cell_type": "markdown",
   "id": "3b9e76b7",
   "metadata": {},
   "source": [
    "### 1). Write a function that takes a list of numbers as input and returns a new list containing only the even numbers from the input list. Use list comprehension to solve this problem.<br>\n",
    "**`Example`**:<br>\n",
    "Input: [1, 2, 3, 4, 5, 6, 7, 8, 9, 10]<br>\n",
    "Output: [2, 4, 6, 8, 10]"
   ]
  },
  {
   "cell_type": "code",
   "execution_count": 1,
   "id": "76ff19e0",
   "metadata": {},
   "outputs": [],
   "source": [
    "def filter_even_numbers(input_list):\n",
    "    return [num for num in input_list if num % 2 == 0]"
   ]
  },
  {
   "cell_type": "code",
   "execution_count": 2,
   "id": "4e9b6546",
   "metadata": {},
   "outputs": [
    {
     "name": "stdout",
     "output_type": "stream",
     "text": [
      "[2, 4, 6, 8, 10]\n"
     ]
    }
   ],
   "source": [
    "numbers = [1, 2, 3, 4, 5, 6, 7, 8, 9, 10]\n",
    "even_numbers = filter_even_numbers(numbers)\n",
    "print(even_numbers)"
   ]
  },
  {
   "cell_type": "code",
   "execution_count": null,
   "id": "ed3f00d9",
   "metadata": {},
   "outputs": [],
   "source": []
  }
 ],
 "metadata": {
  "kernelspec": {
   "display_name": "Python 3 (ipykernel)",
   "language": "python",
   "name": "python3"
  },
  "language_info": {
   "codemirror_mode": {
    "name": "ipython",
    "version": 3
   },
   "file_extension": ".py",
   "mimetype": "text/x-python",
   "name": "python",
   "nbconvert_exporter": "python",
   "pygments_lexer": "ipython3",
   "version": "3.9.12"
  }
 },
 "nbformat": 4,
 "nbformat_minor": 5
}
