{
 "cells": [
  {
   "cell_type": "markdown",
   "id": "f21b5c0a",
   "metadata": {},
   "source": [
    "### 2). Implement a decorator function called ‘timer’ that measures the execution time of a function. The ‘timer’ decorator should print the time taken by the decorated function to execute. Use the ‘time’ module in Python to calculate the execution time.<br>\n",
    "**`Example`**:<br>\n",
    "import time<br>\n",
    "\n",
    "@timer<br>\n",
    "def my_function():<br>\n",
    "&emsp;&emsp;# Function code goes here<br>\n",
    "&emsp;&emsp;time.sleep(2)<br>\n",
    "\n",
    "my_function()<br>\n",
    "\n",
    "Output:<br>\n",
    "\"Execution time: 2.00123 seconds\"<br>"
   ]
  },
  {
   "cell_type": "code",
   "execution_count": 1,
   "id": "9d84f7bd",
   "metadata": {},
   "outputs": [
    {
     "name": "stdout",
     "output_type": "stream",
     "text": [
      "Execution time: 2.004105806350708 seconds\n"
     ]
    }
   ],
   "source": [
    "import time\n",
    "\n",
    "def timer(func):\n",
    "    def wrapper(*args, **kwargs):\n",
    "        start_time = time.time()\n",
    "        result = func(*args, **kwargs)\n",
    "        end_time = time.time()\n",
    "        print(f\"Execution time: {end_time - start_time} seconds\")\n",
    "        return result\n",
    "    return wrapper\n",
    "\n",
    "@timer\n",
    "def my_function():\n",
    "    time.sleep(2)\n",
    "\n",
    "my_function()"
   ]
  },
  {
   "cell_type": "code",
   "execution_count": null,
   "id": "aa950001",
   "metadata": {},
   "outputs": [],
   "source": []
  }
 ],
 "metadata": {
  "kernelspec": {
   "display_name": "Python 3 (ipykernel)",
   "language": "python",
   "name": "python3"
  },
  "language_info": {
   "codemirror_mode": {
    "name": "ipython",
    "version": 3
   },
   "file_extension": ".py",
   "mimetype": "text/x-python",
   "name": "python",
   "nbconvert_exporter": "python",
   "pygments_lexer": "ipython3",
   "version": "3.9.12"
  }
 },
 "nbformat": 4,
 "nbformat_minor": 5
}
