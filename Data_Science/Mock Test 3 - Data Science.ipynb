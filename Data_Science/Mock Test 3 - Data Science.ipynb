{
 "cells": [
  {
   "cell_type": "markdown",
   "id": "6d06cead",
   "metadata": {},
   "source": [
    "### 3). Write a function called ‘calculate_mean’ that takes a list of numbers as input and returns the mean (average) of the numbers. The function should calculate the mean using the sum of the numbers divided by the total count.<br>\n",
    "**`Example`**:<br>\n",
    "\n",
    "def calculate_mean(numbers):<br>\n",
    "&emsp;&emsp;total = sum(numbers)<br>\n",
    "&emsp;&emsp;count = len(numbers)<br>\n",
    "&emsp;&emsp;mean = total / count<br>\n",
    "&emsp;&emsp;return mean<br>\n",
    "\n",
    "data = [10, 15, 20, 25, 30]<br>\n",
    "mean_value = calculate_mean(data)<br>\n",
    "print(\"Mean:\", mean_value)<br>\n",
    "\n",
    "Output:<br>\n",
    "Mean: 20.0"
   ]
  },
  {
   "cell_type": "code",
   "execution_count": 1,
   "id": "744fd504",
   "metadata": {},
   "outputs": [],
   "source": [
    "def calculate_mean(numbers):\n",
    "    count = 0\n",
    "    total_sum = 0\n",
    "\n",
    "    for num in numbers:\n",
    "        total_sum += num\n",
    "        count += 1\n",
    "\n",
    "    mean = total_sum / count\n",
    "    return mean"
   ]
  },
  {
   "cell_type": "code",
   "execution_count": 2,
   "id": "50c5066f",
   "metadata": {},
   "outputs": [
    {
     "data": {
      "text/plain": [
       "20.0"
      ]
     },
     "execution_count": 2,
     "metadata": {},
     "output_type": "execute_result"
    }
   ],
   "source": [
    "calculate_mean([10,15,20,25,30])"
   ]
  },
  {
   "cell_type": "code",
   "execution_count": null,
   "id": "e143d7e9",
   "metadata": {},
   "outputs": [],
   "source": []
  }
 ],
 "metadata": {
  "kernelspec": {
   "display_name": "Python 3 (ipykernel)",
   "language": "python",
   "name": "python3"
  },
  "language_info": {
   "codemirror_mode": {
    "name": "ipython",
    "version": 3
   },
   "file_extension": ".py",
   "mimetype": "text/x-python",
   "name": "python",
   "nbconvert_exporter": "python",
   "pygments_lexer": "ipython3",
   "version": "3.9.12"
  }
 },
 "nbformat": 4,
 "nbformat_minor": 5
}
