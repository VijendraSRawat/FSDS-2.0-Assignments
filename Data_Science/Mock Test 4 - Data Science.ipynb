{
 "cells": [
  {
   "cell_type": "markdown",
   "id": "624677dd",
   "metadata": {},
   "source": [
    "### 4). Write a function called ‘perform_hypothesis_test’ that takes two lists of numbers as input, representing two samples. The function should perform a two-sample t-test and return the p-value. Use the ‘scipy.stats’ module in Python to calculate the t-test and p-value.<br>\n",
    "\n",
    "**`Example`**:<br>\n",
    "\n",
    "from scipy import stats<br>\n",
    "\n",
    "def perform_hypothesis_test(sample1, sample2):<br>\n",
    "&emsp;&emsp;t_statistic, p_value = stats.ttest_ind(sample1, sample2)<br>\n",
    "&emsp;&emsp;return p_value<br>\n",
    "    \n",
    "sample1 = [5, 10, 15, 20, 25]<br>\n",
    "sample2 = [10, 20, 30, 40, 50]<br>\n",
    "p_value = perform_hypothesis_test(sample1, sample2)<br>\n",
    "print(\"P-value:\", p_value)<br>\n",
    "\n",
    "Output:<br>\n",
    "P-value: 0.1064706396450037"
   ]
  },
  {
   "cell_type": "code",
   "execution_count": 1,
   "id": "816cb066",
   "metadata": {},
   "outputs": [],
   "source": [
    "from scipy import stats\n",
    "\n",
    "def perform_hypothesis_test(sample1, sample2):\n",
    "    # Calculate the means of the two samples\n",
    "    mean1 = sum(sample1) / len(sample1)\n",
    "    mean2 = sum(sample2) / len(sample2)\n",
    "\n",
    "    # Calculate the standard deviations of the two samples\n",
    "    std1 = stats.tstd(sample1)\n",
    "    std2 = stats.tstd(sample2)\n",
    "\n",
    "    # Calculate the degrees of freedom\n",
    "    dof1 = len(sample1) - 1\n",
    "    dof2 = len(sample2) - 1\n",
    "\n",
    "    # Calculate the t-statistic\n",
    "    t_statistic = (mean1 - mean2) / ((std1**2 / len(sample1)) + (std2**2 / len(sample2)))**0.5\n",
    "\n",
    "    # Calculate the p-value\n",
    "    p_value = 2 * (1 - stats.t.cdf(abs(t_statistic), dof1 + dof2))\n",
    "\n",
    "    return p_value\n"
   ]
  },
  {
   "cell_type": "code",
   "execution_count": 2,
   "id": "6532e92d",
   "metadata": {},
   "outputs": [
    {
     "data": {
      "text/plain": [
       "0.09434977284243762"
      ]
     },
     "execution_count": 2,
     "metadata": {},
     "output_type": "execute_result"
    }
   ],
   "source": [
    "perform_hypothesis_test([5, 10, 15, 20, 25],[10, 20, 30, 40, 50])"
   ]
  },
  {
   "cell_type": "code",
   "execution_count": null,
   "id": "f01975c1",
   "metadata": {},
   "outputs": [],
   "source": []
  }
 ],
 "metadata": {
  "kernelspec": {
   "display_name": "Python 3 (ipykernel)",
   "language": "python",
   "name": "python3"
  },
  "language_info": {
   "codemirror_mode": {
    "name": "ipython",
    "version": 3
   },
   "file_extension": ".py",
   "mimetype": "text/x-python",
   "name": "python",
   "nbconvert_exporter": "python",
   "pygments_lexer": "ipython3",
   "version": "3.9.12"
  }
 },
 "nbformat": 4,
 "nbformat_minor": 5
}
