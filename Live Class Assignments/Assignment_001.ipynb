{
 "cells": [
  {
   "cell_type": "markdown",
   "id": "01e43a57",
   "metadata": {},
   "source": [
    "## 1). Find out all the types of error that we have encountered in our lecture and why? Also include the examples."
   ]
  },
  {
   "cell_type": "markdown",
   "id": "b677fc1b",
   "metadata": {},
   "source": [
    "### i). For case sensetivity:"
   ]
  },
  {
   "cell_type": "code",
   "execution_count": 1,
   "id": "fbfdbe59",
   "metadata": {},
   "outputs": [
    {
     "ename": "NameError",
     "evalue": "name 'Ten' is not defined",
     "output_type": "error",
     "traceback": [
      "\u001b[1;31m---------------------------------------------------------------------------\u001b[0m",
      "\u001b[1;31mNameError\u001b[0m                                 Traceback (most recent call last)",
      "Input \u001b[1;32mIn [1]\u001b[0m, in \u001b[0;36m<cell line: 3>\u001b[1;34m()\u001b[0m\n\u001b[0;32m      1\u001b[0m TEN \u001b[38;5;241m=\u001b[39m \u001b[38;5;241m10\u001b[39m\n\u001b[0;32m      2\u001b[0m ten \u001b[38;5;241m=\u001b[39m \u001b[38;5;241m20\u001b[39m\n\u001b[1;32m----> 3\u001b[0m \u001b[38;5;28mprint\u001b[39m(\u001b[43mTen\u001b[49m)\n",
      "\u001b[1;31mNameError\u001b[0m: name 'Ten' is not defined"
     ]
    }
   ],
   "source": [
    "TEN = 10\n",
    "ten = 20\n",
    "print(Ten)"
   ]
  },
  {
   "cell_type": "markdown",
   "id": "451e37e4",
   "metadata": {},
   "source": [
    "### ii). We should not use reserved words as variable names"
   ]
  },
  {
   "cell_type": "code",
   "execution_count": 2,
   "id": "a02fb26d",
   "metadata": {},
   "outputs": [
    {
     "name": "stdout",
     "output_type": "stream",
     "text": [
      "hello bhai\n"
     ]
    },
    {
     "ename": "TypeError",
     "evalue": "'str' object is not callable",
     "output_type": "error",
     "traceback": [
      "\u001b[1;31m---------------------------------------------------------------------------\u001b[0m",
      "\u001b[1;31mTypeError\u001b[0m                                 Traceback (most recent call last)",
      "Input \u001b[1;32mIn [2]\u001b[0m, in \u001b[0;36m<cell line: 6>\u001b[1;34m()\u001b[0m\n\u001b[0;32m      3\u001b[0m \u001b[38;5;28mprint\u001b[39m \u001b[38;5;241m=\u001b[39m \u001b[38;5;124m\"\u001b[39m\u001b[38;5;124mhello bhai\u001b[39m\u001b[38;5;124m\"\u001b[39m\n\u001b[0;32m      4\u001b[0m \u001b[38;5;28mtype\u001b[39m(\u001b[38;5;28mprint\u001b[39m)\n\u001b[1;32m----> 6\u001b[0m \u001b[38;5;28;43mprint\u001b[39;49m\u001b[43m(\u001b[49m\u001b[38;5;124;43m\"\u001b[39;49m\u001b[38;5;124;43mHello bhai\u001b[39;49m\u001b[38;5;124;43m\"\u001b[39;49m\u001b[43m)\u001b[49m\n",
      "\u001b[1;31mTypeError\u001b[0m: 'str' object is not callable"
     ]
    }
   ],
   "source": [
    "print(\"hello bhai\")\n",
    "\n",
    "print = \"hello bhai\"\n",
    "type(print)\n",
    "\n",
    "print(\"Hello bhai\")"
   ]
  },
  {
   "cell_type": "code",
   "execution_count": 3,
   "id": "48dfdd1c",
   "metadata": {},
   "outputs": [],
   "source": [
    "del print "
   ]
  },
  {
   "cell_type": "markdown",
   "id": "ed2722fc",
   "metadata": {},
   "source": [
    "### iii). Whenever we will take user input variable, we should mention the datatype. Because by default it takes as string literal. Thy for next use, the input can create an issue, like through an error or may lead to an unexpected output."
   ]
  },
  {
   "cell_type": "code",
   "execution_count": 4,
   "id": "75b6626a",
   "metadata": {},
   "outputs": [
    {
     "name": "stdout",
     "output_type": "stream",
     "text": [
      "Name: Vijendra Singh\n",
      "place: Delhi\n",
      "year_of_birth: 03/05/1997\n"
     ]
    },
    {
     "ename": "TypeError",
     "evalue": "unsupported operand type(s) for -: 'int' and 'str'",
     "output_type": "error",
     "traceback": [
      "\u001b[1;31m---------------------------------------------------------------------------\u001b[0m",
      "\u001b[1;31mTypeError\u001b[0m                                 Traceback (most recent call last)",
      "Input \u001b[1;32mIn [4]\u001b[0m, in \u001b[0;36m<cell line: 5>\u001b[1;34m()\u001b[0m\n\u001b[0;32m      2\u001b[0m place \u001b[38;5;241m=\u001b[39m \u001b[38;5;28minput\u001b[39m(\u001b[38;5;124m\"\u001b[39m\u001b[38;5;124mplace: \u001b[39m\u001b[38;5;124m\"\u001b[39m)\n\u001b[0;32m      3\u001b[0m year_of_birth \u001b[38;5;241m=\u001b[39m \u001b[38;5;28minput\u001b[39m(\u001b[38;5;124m\"\u001b[39m\u001b[38;5;124myear_of_birth: \u001b[39m\u001b[38;5;124m\"\u001b[39m)\n\u001b[1;32m----> 5\u001b[0m age \u001b[38;5;241m=\u001b[39m \u001b[38;5;241;43m2022\u001b[39;49m\u001b[43m \u001b[49m\u001b[38;5;241;43m-\u001b[39;49m\u001b[43m \u001b[49m\u001b[43myear_of_birth\u001b[49m\n\u001b[0;32m      7\u001b[0m \u001b[38;5;28mprint\u001b[39m(\u001b[38;5;124mf\u001b[39m\u001b[38;5;124m\"\"\"\u001b[39m\n\u001b[0;32m      8\u001b[0m \u001b[38;5;124mMy name is: \u001b[39m\u001b[38;5;132;01m{\u001b[39;00mname\u001b[38;5;132;01m}\u001b[39;00m\n\u001b[0;32m      9\u001b[0m \u001b[38;5;124mI live at: \u001b[39m\u001b[38;5;132;01m{\u001b[39;00mplace\u001b[38;5;132;01m}\u001b[39;00m\n\u001b[0;32m     10\u001b[0m \u001b[38;5;132;01m{\u001b[39;00mname\u001b[38;5;132;01m}\u001b[39;00m\u001b[38;5;124m is of age: \u001b[39m\u001b[38;5;132;01m{\u001b[39;00mage\u001b[38;5;132;01m}\u001b[39;00m\n\u001b[0;32m     11\u001b[0m \u001b[38;5;124m\"\"\"\u001b[39m)\n",
      "\u001b[1;31mTypeError\u001b[0m: unsupported operand type(s) for -: 'int' and 'str'"
     ]
    }
   ],
   "source": [
    "name = input(\"Name: \") \n",
    "place = input(\"place: \")\n",
    "year_of_birth = input(\"year_of_birth: \")\n",
    "\n",
    "age = 2022 - year_of_birth\n",
    "\n",
    "print(f\"\"\"\n",
    "My name is: {name}\n",
    "I live at: {place}\n",
    "{name} is of age: {age}\n",
    "\"\"\")"
   ]
  },
  {
   "cell_type": "markdown",
   "id": "5455cff7",
   "metadata": {},
   "source": [
    "### iv). If we mentioned the datatype of input variable, then we need to remember, while putting the value, we need to put exact mentioned datatype's value."
   ]
  },
  {
   "cell_type": "code",
   "execution_count": 6,
   "id": "c4f1c09d",
   "metadata": {},
   "outputs": [
    {
     "name": "stdout",
     "output_type": "stream",
     "text": [
      "Enter value of A: 10.45\n",
      "Enter value of B: 23.98\n"
     ]
    },
    {
     "ename": "ValueError",
     "evalue": "invalid literal for int() with base 10: '23.98'",
     "output_type": "error",
     "traceback": [
      "\u001b[1;31m---------------------------------------------------------------------------\u001b[0m",
      "\u001b[1;31mValueError\u001b[0m                                Traceback (most recent call last)",
      "Input \u001b[1;32mIn [6]\u001b[0m, in \u001b[0;36m<cell line: 2>\u001b[1;34m()\u001b[0m\n\u001b[0;32m      1\u001b[0m A \u001b[38;5;241m=\u001b[39m \u001b[38;5;28mfloat\u001b[39m(\u001b[38;5;28minput\u001b[39m(\u001b[38;5;124m\"\u001b[39m\u001b[38;5;124mEnter value of A: \u001b[39m\u001b[38;5;124m\"\u001b[39m))\n\u001b[1;32m----> 2\u001b[0m B \u001b[38;5;241m=\u001b[39m \u001b[38;5;28;43mint\u001b[39;49m\u001b[43m(\u001b[49m\u001b[38;5;28;43minput\u001b[39;49m\u001b[43m(\u001b[49m\u001b[38;5;124;43m\"\u001b[39;49m\u001b[38;5;124;43mEnter value of B: \u001b[39;49m\u001b[38;5;124;43m\"\u001b[39;49m\u001b[43m)\u001b[49m\u001b[43m)\u001b[49m\n\u001b[0;32m      4\u001b[0m \u001b[38;5;28mprint\u001b[39m(\u001b[38;5;124mf\u001b[39m\u001b[38;5;124m\"\u001b[39m\u001b[38;5;124mSum of A and B is: \u001b[39m\u001b[38;5;132;01m{\u001b[39;00mA\u001b[38;5;241m+\u001b[39mB\u001b[38;5;132;01m}\u001b[39;00m\u001b[38;5;124m\"\u001b[39m)\n",
      "\u001b[1;31mValueError\u001b[0m: invalid literal for int() with base 10: '23.98'"
     ]
    }
   ],
   "source": [
    "A = float(input(\"Enter value of A: \"))\n",
    "B = int(input(\"Enter value of B: \"))\n",
    "\n",
    "print(f\"Sum of A and B is: {A+B}\")"
   ]
  },
  {
   "cell_type": "markdown",
   "id": "20e82193",
   "metadata": {},
   "source": [
    "### v). We can't change an empty string to any datatype"
   ]
  },
  {
   "cell_type": "code",
   "execution_count": 7,
   "id": "393ddac6",
   "metadata": {},
   "outputs": [
    {
     "name": "stdout",
     "output_type": "stream",
     "text": [
      "data type before: <class 'str'>, value of A: \n"
     ]
    },
    {
     "ename": "ValueError",
     "evalue": "invalid literal for int() with base 10: ''",
     "output_type": "error",
     "traceback": [
      "\u001b[1;31m---------------------------------------------------------------------------\u001b[0m",
      "\u001b[1;31mValueError\u001b[0m                                Traceback (most recent call last)",
      "Input \u001b[1;32mIn [7]\u001b[0m, in \u001b[0;36m<cell line: 3>\u001b[1;34m()\u001b[0m\n\u001b[0;32m      1\u001b[0m A \u001b[38;5;241m=\u001b[39m \u001b[38;5;124m\"\u001b[39m\u001b[38;5;124m\"\u001b[39m\n\u001b[0;32m      2\u001b[0m \u001b[38;5;28mprint\u001b[39m(\u001b[38;5;124mf\u001b[39m\u001b[38;5;124m\"\u001b[39m\u001b[38;5;124mdata type before: \u001b[39m\u001b[38;5;132;01m{\u001b[39;00m\u001b[38;5;28mtype\u001b[39m(A)\u001b[38;5;132;01m}\u001b[39;00m\u001b[38;5;124m, value of A: \u001b[39m\u001b[38;5;132;01m{\u001b[39;00mA\u001b[38;5;132;01m}\u001b[39;00m\u001b[38;5;124m\"\u001b[39m)\n\u001b[1;32m----> 3\u001b[0m A \u001b[38;5;241m=\u001b[39m \u001b[38;5;28;43mint\u001b[39;49m\u001b[43m(\u001b[49m\u001b[43mA\u001b[49m\u001b[43m)\u001b[49m\n\u001b[0;32m      4\u001b[0m \u001b[38;5;28mprint\u001b[39m(\u001b[38;5;124mf\u001b[39m\u001b[38;5;124m\"\u001b[39m\u001b[38;5;124mdata type after: \u001b[39m\u001b[38;5;132;01m{\u001b[39;00m\u001b[38;5;28mtype\u001b[39m(A)\u001b[38;5;132;01m}\u001b[39;00m\u001b[38;5;124m, value of A: \u001b[39m\u001b[38;5;132;01m{\u001b[39;00mA\u001b[38;5;132;01m}\u001b[39;00m\u001b[38;5;124m\"\u001b[39m)\n",
      "\u001b[1;31mValueError\u001b[0m: invalid literal for int() with base 10: ''"
     ]
    }
   ],
   "source": [
    "A = \"\"\n",
    "print(f\"data type before: {type(A)}, value of A: {A}\")\n",
    "A = int(A)\n",
    "print(f\"data type after: {type(A)}, value of A: {A}\")"
   ]
  },
  {
   "cell_type": "markdown",
   "id": "057d1909",
   "metadata": {},
   "source": [
    "## 2). Take input A and B and print their sum, mul, div, square of the nos."
   ]
  },
  {
   "cell_type": "code",
   "execution_count": 8,
   "id": "964bd33b",
   "metadata": {},
   "outputs": [
    {
     "name": "stdout",
     "output_type": "stream",
     "text": [
      "Enter 1st number: 7\n",
      "Enter 2nd number: 2\n",
      "Sum of the numbers :  9\n",
      "Multiplication of the numbers :  14\n",
      "Division of the numbers :  3.5\n",
      "Square of the 1st number :  49\n",
      "Square of the 2nd number :  4\n"
     ]
    }
   ],
   "source": [
    "a = int(input(\"Enter 1st number: \"))\n",
    "b = int(input(\"Enter 2nd number: \"))\n",
    "print('Sum of the numbers : ',a+b)\n",
    "print('Multiplication of the numbers : ',a*b)\n",
    "print('Division of the numbers : ',a/b)\n",
    "print('Square of the 1st number : ',a**2)\n",
    "print('Square of the 2nd number : ',b**2)"
   ]
  },
  {
   "cell_type": "markdown",
   "id": "18440c62",
   "metadata": {},
   "source": [
    "## 3). How many reserve keywords are there in python and why we should not use them as a variable name."
   ]
  },
  {
   "cell_type": "markdown",
   "id": "0487c0b6",
   "metadata": {},
   "source": [
    "There are only 33 reserve keywords in python.\n",
    "\n",
    "We shouldn't use those as variable name because if I will use those words as variable, then those might revert in the data type of the variable, and for future use of those variable as keywords, will through an error."
   ]
  },
  {
   "cell_type": "markdown",
   "id": "b01815e4",
   "metadata": {},
   "source": [
    "## 4). Create email ids with the user inputs. in the following format -lastname.firstname@gmail.com "
   ]
  },
  {
   "cell_type": "code",
   "execution_count": 9,
   "id": "586cec62",
   "metadata": {},
   "outputs": [
    {
     "name": "stdout",
     "output_type": "stream",
     "text": [
      "Enter the first name: Vijendra\n",
      "Enter the last name: Rawat\n",
      "your email id is :  RawatVijendra@gmail.com\n"
     ]
    }
   ],
   "source": [
    "first_name = input(\"Enter the first name: \")\n",
    "last_name = input(\"Enter the last name: \")\n",
    "\n",
    "print('your email id is : ',last_name+first_name+\"@gmail.com\")"
   ]
  },
  {
   "cell_type": "markdown",
   "id": "86bde99d",
   "metadata": {},
   "source": [
    "## 5). Try to print the following lines -                                                                                               Hi I'm Sunny                                                                                                                                        My address is 22\\3                                                                                                                                 I earn 20$ daily."
   ]
  },
  {
   "cell_type": "code",
   "execution_count": 10,
   "id": "f8325d7c",
   "metadata": {},
   "outputs": [
    {
     "name": "stdout",
     "output_type": "stream",
     "text": [
      "The 1st statement is: Hi I'm Sunny\n",
      "The 2nd statement is: My address is 22\\3\n",
      "The 3rd statement is: I earn 20$ daily.\n"
     ]
    }
   ],
   "source": [
    "statement_1 = \"Hi I'm Sunny\"\n",
    "statement_2 = \"My address is 22\\\\3\"\n",
    "statement_3 = \"I earn 20$ daily.\"\n",
    "\n",
    "print(f\"The 1st statement is: {statement_1}\")\n",
    "print(f\"The 2nd statement is: {statement_2}\")\n",
    "print(f\"The 3rd statement is: {statement_3}\")"
   ]
  },
  {
   "cell_type": "markdown",
   "id": "951e6229",
   "metadata": {},
   "source": [
    "## 6). Take user input (name, address, date of birth etc) to fill a form for your college and print their email IDs"
   ]
  },
  {
   "cell_type": "code",
   "execution_count": 11,
   "id": "6d5cf219",
   "metadata": {},
   "outputs": [
    {
     "name": "stdout",
     "output_type": "stream",
     "text": [
      "Enter your first name: Vijendra\n",
      "Enter your last name: Rawat\n",
      "Enter your house_no: 78\n",
      "Enter your Village/City name: Basukedar\n",
      "Enter your Post Office: Naini Poundar\n",
      "Enter your Police Station: Augustyamuni\n",
      "Enter your Postal Code: 246425\n",
      "Enter your District: Rudraprayag\n",
      "Enter your State: Uttarakhand\n",
      "Enter your date of birth: 03/05/1997\n",
      "\n",
      "Your full name: Vijendra Rawat\n",
      "\n",
      "Your full address:- \n",
      "house_no: 78,\n",
      "Village/City name: Basukedar,\n",
      "Post Office: Naini Poundar,\n",
      "Police Station: Augustyamuni,\n",
      "Postal Code: 246425,\n",
      "District: Rudraprayag,\n",
      "State: Uttarakhand\n",
      "\n",
      "Your D.O.B. is: 03/05/1997\n",
      "\n",
      "The user email id is: rawat.vijendra@gmail.com\n"
     ]
    }
   ],
   "source": [
    "first_name = input(\"Enter your first name: \")\n",
    "last_name = input(\"Enter your last name: \")\n",
    "\n",
    "house_no = input(\"Enter your house_no: \")\n",
    "vill_or_city = input(\"Enter your Village/City name: \")\n",
    "po = input(\"Enter your Post Office: \")\n",
    "ps = input(\"Enter your Police Station: \")\n",
    "pin = input(\"Enter your Postal Code: \")\n",
    "dist = input(\"Enter your District: \")\n",
    "state = input(\"Enter your State: \")\n",
    "\n",
    "dob = input(\"Enter your date of birth: \")\n",
    "\n",
    "print(f\"\\nYour full name: {first_name} {last_name}\")\n",
    "\n",
    "print()\n",
    "\n",
    "print(f\"\"\"Your full address:- \n",
    "house_no: {house_no},\n",
    "Village/City name: {vill_or_city},\n",
    "Post Office: {po},\n",
    "Police Station: {ps},\n",
    "Postal Code: {pin},\n",
    "District: {dist},\n",
    "State: {state}\"\"\")\n",
    "\n",
    "print()\n",
    "\n",
    "print(f\"Your D.O.B. is: {dob}\")\n",
    "\n",
    "print()\n",
    "\n",
    "\n",
    "print(f\"The user email id is: {(last_name.lower())}.{(first_name.lower())}@gmail.com\")"
   ]
  },
  {
   "cell_type": "markdown",
   "id": "95841502",
   "metadata": {},
   "source": [
    "## 7). Convert the following -\"22.4\" into integer     \"22\" into complex no."
   ]
  },
  {
   "cell_type": "code",
   "execution_count": 12,
   "id": "e8cd5f4c",
   "metadata": {},
   "outputs": [
    {
     "name": "stdout",
     "output_type": "stream",
     "text": [
      "The data type of given number is: <class 'float'>, value of x: 22.4\n",
      "After converting '22.4' into integer: 22\n",
      "\n",
      "The data type of given number is: <class 'int'>, value of x: 22\n",
      "After converting '22' into float: 22.0\n"
     ]
    }
   ],
   "source": [
    "x = 22.4\n",
    "print(f\"The data type of given number is: {type(x)}, value of x: {x}\")\n",
    "x = int(x)\n",
    "print(f\"After converting '22.4' into integer: {x}\")\n",
    "\n",
    "print()\n",
    "\n",
    "y = 22\n",
    "print(f\"The data type of given number is: {type(y)}, value of x: {y}\")\n",
    "y = float(y)\n",
    "print(f\"After converting '22' into float: {y}\")"
   ]
  }
 ],
 "metadata": {
  "kernelspec": {
   "display_name": "Python 3 (ipykernel)",
   "language": "python",
   "name": "python3"
  },
  "language_info": {
   "codemirror_mode": {
    "name": "ipython",
    "version": 3
   },
   "file_extension": ".py",
   "mimetype": "text/x-python",
   "name": "python",
   "nbconvert_exporter": "python",
   "pygments_lexer": "ipython3",
   "version": "3.9.12"
  }
 },
 "nbformat": 4,
 "nbformat_minor": 5
}
