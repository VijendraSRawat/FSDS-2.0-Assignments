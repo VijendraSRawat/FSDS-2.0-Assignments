{
 "cells": [
  {
   "cell_type": "markdown",
   "id": "e1097ef8",
   "metadata": {},
   "source": [
    "## 1). What is indentation error? Why indentation is important? Give one simple example?"
   ]
  },
  {
   "cell_type": "raw",
   "id": "24375bc1",
   "metadata": {},
   "source": [
    "--> indentation error is when we don't put proper spaces or tabs in starting of the code or statements.\n",
    "--> indentation is important because python will know that i have to execute that statements"
   ]
  },
  {
   "cell_type": "code",
   "execution_count": 3,
   "id": "9c5daa3a",
   "metadata": {},
   "outputs": [
    {
     "name": "stdout",
     "output_type": "stream",
     "text": [
      "This is your name\n"
     ]
    }
   ],
   "source": [
    "name = \"Vijendra\"\n",
    "if name == \"Vijendra\" :\n",
    "    print('This is your name')\n",
    "else :\n",
    "    print('This is not your name')"
   ]
  },
  {
   "cell_type": "markdown",
   "id": "edb4e807",
   "metadata": {},
   "source": [
    "## 2). Correct the following code and write the comment where you made the correction?\n",
    "\n",
    "class_started = bool(input(\"Hey friend, is class started?: [0-False/1-True]\"))\n",
    "\n",
    "if class_started:\n",
    "   print(\"Since class started...\")\n",
    "   print(\"Lets concentrate\")\n",
    "else:\n",
    "   print(\"Since class is not started...\")\n",
    "   print(\"let's revise\")  "
   ]
  },
  {
   "cell_type": "code",
   "execution_count": 19,
   "id": "8e8eee7e",
   "metadata": {},
   "outputs": [
    {
     "name": "stdout",
     "output_type": "stream",
     "text": [
      "Hey friend, is class started?: [0-False/1-True] : 1\n",
      "Since class started...\n",
      "Lets concentrate\n"
     ]
    }
   ],
   "source": [
    "class_started = bool(int(input(\"Hey friend, is class started?: [0-False/1-True] : \"))) #convert True/False in int\n",
    "\n",
    "if class_started == True: #statement is true then go for if otherwise else\n",
    "   print(\"Since class started...\")\n",
    "   print(\"Lets concentrate\")\n",
    "else:\n",
    "   print(\"Since class is not started...\")\n",
    "   print(\"let's revise\") "
   ]
  },
  {
   "cell_type": "markdown",
   "id": "e85f44ab",
   "metadata": {},
   "source": [
    "## 3). Use if else condition to verify that dataype of input() method in python is always string."
   ]
  },
  {
   "cell_type": "code",
   "execution_count": 21,
   "id": "e671288c",
   "metadata": {},
   "outputs": [
    {
     "name": "stdout",
     "output_type": "stream",
     "text": [
      "Enter the message : 0\n",
      "This Message is string data type\n"
     ]
    }
   ],
   "source": [
    "Message = input(\"Enter the message : \")\n",
    "if type(Message) == str :\n",
    "    print('This Message is string data type')\n",
    "else :\n",
    "    print('This Message is not string data type')"
   ]
  },
  {
   "cell_type": "markdown",
   "id": "7f64ece9",
   "metadata": {},
   "source": [
    "## 4). Take 3 variables and assign integer values to them. Find the largest variable, by only using the if and else conditions."
   ]
  },
  {
   "cell_type": "code",
   "execution_count": 28,
   "id": "e86847e7",
   "metadata": {},
   "outputs": [
    {
     "name": "stdout",
     "output_type": "stream",
     "text": [
      "Enter first no. : 234\n",
      "Enter second no. : 455\n",
      "Enter third no. : 788\n",
      "This is the largest variable :  788\n"
     ]
    }
   ],
   "source": [
    "num1 = int(input('Enter first no. : '))\n",
    "num2 = int(input('Enter second no. : '))\n",
    "num3 = int(input('Enter third no. : '))\n",
    "if num1 > num2 :\n",
    "    temp = num1\n",
    "else :\n",
    "    temp = num2\n",
    "    \n",
    "if num2 > num3 :\n",
    "    temp1 = num2\n",
    "else :\n",
    "    temp1 = num3\n",
    "    \n",
    "if temp > temp1 :\n",
    "    print(\"This is the largest variable : \",temp)\n",
    "else :\n",
    "    print(\"This is the largest variable : \",temp1)\n"
   ]
  },
  {
   "cell_type": "markdown",
   "id": "e8ab2b00",
   "metadata": {},
   "source": [
    "## 5). What would be the solution?\n",
    "\n",
    "1). True\n",
    "\n",
    "2). False\n",
    "\n",
    "a = 6\n",
    "b = 10\n",
    "print( not ( not a == 10 or not b == 10) )"
   ]
  },
  {
   "cell_type": "code",
   "execution_count": 33,
   "id": "5180b5d0",
   "metadata": {},
   "outputs": [
    {
     "name": "stdout",
     "output_type": "stream",
     "text": [
      "False\n"
     ]
    }
   ],
   "source": [
    "a = 6\n",
    "b = 10\n",
    "print( not ( not a == 10 or not b == 10) ) #not a == 10 is True but not b == 10 is false so according to the OR operator inside bracket is true and outside bracket is false so final in false."
   ]
  },
  {
   "cell_type": "markdown",
   "id": "34964d91",
   "metadata": {},
   "source": [
    "## 6). Find the answer as well as find out the reason behind the result? -\n",
    "--> case 1:\n",
    "\n",
    "  A = 5.0\n",
    "  B = 10/2\n",
    "  print(A is B)\n",
    "\n",
    "--> case 2:\n",
    "\n",
    "  A = 5.0\n",
    "  B = int(10/2)\n",
    "  print(A is B)\n",
    "  \n",
    "--> case 3:\n",
    "\n",
    "  A = 5.0\n",
    "  B = float(10/2)\n",
    "  print(A is B)"
   ]
  },
  {
   "cell_type": "code",
   "execution_count": 52,
   "id": "5807740e",
   "metadata": {},
   "outputs": [
    {
     "name": "stdout",
     "output_type": "stream",
     "text": [
      "False\n"
     ]
    }
   ],
   "source": [
    "A = 5.0\n",
    "B = 10/2\n",
    "print(A is B)\n",
    "# gives us false because A and B are pointing to same object means they are not pointing to same memory block"
   ]
  },
  {
   "cell_type": "code",
   "execution_count": 55,
   "id": "13afd891",
   "metadata": {},
   "outputs": [
    {
     "name": "stdout",
     "output_type": "stream",
     "text": [
      "False\n"
     ]
    }
   ],
   "source": [
    "A = 5.0\n",
    "B = int(10/2)\n",
    "print(A is B)\n",
    "# gives us false because A and B are pointing to same object means they are not pointing to same memory block"
   ]
  },
  {
   "cell_type": "code",
   "execution_count": 57,
   "id": "ae0864e5",
   "metadata": {},
   "outputs": [
    {
     "name": "stdout",
     "output_type": "stream",
     "text": [
      "False\n"
     ]
    }
   ],
   "source": [
    "A = 5.0\n",
    "B = float(10/2)\n",
    "print(A is B)\n",
    "# gives us false because A and B are pointing to same object means they are not pointing to same memory block"
   ]
  },
  {
   "cell_type": "markdown",
   "id": "8c44e324",
   "metadata": {},
   "source": [
    "## 7). Write a program that asks the user to enter a number. You should print out a message to the user, either “That number is divisible by either 3 or 5”, or “That number is not divisible by either 3 or 5”. Be sure to consider the data type of the input you are taking in from the user. Use a single if/else block to solve this problem."
   ]
  },
  {
   "cell_type": "code",
   "execution_count": 117,
   "id": "1a85b09a",
   "metadata": {},
   "outputs": [
    {
     "name": "stdout",
     "output_type": "stream",
     "text": [
      "Enter the number for Dividend : 50\n",
      "That number is divisible by either 3 or 5 \n"
     ]
    }
   ],
   "source": [
    "div = int(input('Enter the number for Dividend : '))\n",
    "if (div % 3) == 0 or (div % 5) == 0 :\n",
    "    print('That number is divisible by either 3 or 5 ')\n",
    "else :\n",
    "    print('That number is not divisible by either 3 or 5')"
   ]
  },
  {
   "cell_type": "markdown",
   "id": "2c92a9af",
   "metadata": {},
   "source": [
    "## 8). Take user input for length and width. Then calculate the area of rectangle. Also print as per length and width whether its a square of rectangle."
   ]
  },
  {
   "cell_type": "code",
   "execution_count": 82,
   "id": "d27f9833",
   "metadata": {},
   "outputs": [
    {
     "name": "stdout",
     "output_type": "stream",
     "text": [
      "Enter the rectangle length : 5\n",
      "Enter the rectangle width : 5\n",
      "Square of rectangle :  25\n"
     ]
    }
   ],
   "source": [
    "length = int(input('Enter the rectangle length : '))\n",
    "width = int(input('Enter the rectangle width : '))\n",
    "if length == width :\n",
    "    print(\"Square of rectangle : \",length**2)\n",
    "else :\n",
    "    print(\"Area of rectangle\",length*width)"
   ]
  },
  {
   "cell_type": "markdown",
   "id": "6efb70d7",
   "metadata": {},
   "source": [
    "## 9). Take two variable radius_1 and radius_2 and calculate the area of circle_1 and circle_2. Also print which circle has large area. If area is equal then print area is equal."
   ]
  },
  {
   "cell_type": "code",
   "execution_count": 104,
   "id": "dbf6b0db",
   "metadata": {},
   "outputs": [
    {
     "name": "stdout",
     "output_type": "stream",
     "text": [
      "Enter first radius : 2\n",
      "Enter second radius : 3\n",
      "Area of circle_1 :  12.56\n",
      "Area of circle_2 :  28.26\n",
      "circle_2 has large area\n"
     ]
    }
   ],
   "source": [
    "radius_1 = int(input('Enter first radius : '))\n",
    "radius_2 = int(input('Enter second radius : '))\n",
    "Area_circle_1 = 3.14*(radius_1**2)\n",
    "print('Area of circle_1 : ',Area_circle_1)\n",
    "Area_circle_2 = 3.14*(radius_2**2)\n",
    "print('Area of circle_2 : ',Area_circle_2)\n",
    "if Area_circle_1 >= Area_circle_2 :\n",
    "    if Area_circle_1 == Area_circle_2 :\n",
    "        print('Area is equal')\n",
    "    else :\n",
    "        print('circle_1 has large area')\n",
    "else :\n",
    "    print('circle_2 has large area')\n",
    "    "
   ]
  },
  {
   "cell_type": "markdown",
   "id": "ec466557",
   "metadata": {},
   "source": [
    "## 10).Check whether a year is leap year or not. Use nested if...else to solve this problem. A leap year is exactly divisible by 4 except for century years (years ending with 00). The century year is a leap year only if it is perfectly divisible by 400. "
   ]
  },
  {
   "cell_type": "code",
   "execution_count": 107,
   "id": "437cb323",
   "metadata": {},
   "outputs": [
    {
     "name": "stdout",
     "output_type": "stream",
     "text": [
      "Enter the year to check whether it is leap year or not : 600\n",
      "This is not a leap year\n"
     ]
    }
   ],
   "source": [
    "year = int(input('Enter the year to check whether it is leap year or not : '))\n",
    "if (year % 4 == 0) :\n",
    "    if (year % 100 == 0):\n",
    "        if (year % 400 == 0):\n",
    "            print('This is a leap year')\n",
    "        else :\n",
    "            print('This is not a leap year')\n",
    "    else :\n",
    "        print('This is a leap year')\n",
    "else :\n",
    "    print('This is not a leap year')"
   ]
  },
  {
   "cell_type": "code",
   "execution_count": null,
   "id": "499db1e4",
   "metadata": {},
   "outputs": [],
   "source": []
  }
 ],
 "metadata": {
  "kernelspec": {
   "display_name": "Python 3 (ipykernel)",
   "language": "python",
   "name": "python3"
  },
  "language_info": {
   "codemirror_mode": {
    "name": "ipython",
    "version": 3
   },
   "file_extension": ".py",
   "mimetype": "text/x-python",
   "name": "python",
   "nbconvert_exporter": "python",
   "pygments_lexer": "ipython3",
   "version": "3.9.12"
  }
 },
 "nbformat": 4,
 "nbformat_minor": 5
}
