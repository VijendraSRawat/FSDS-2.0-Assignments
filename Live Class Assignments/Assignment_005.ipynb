{
 "cells": [
  {
   "cell_type": "markdown",
   "id": "3adddc66",
   "metadata": {},
   "source": [
    "## 1). On amazon website we have the following available items -                          amazon_website = [(\"watch\", 5000), (\"phone\", 10000), (\"laptop\", 50000), (\"shirt\", 1000)]              Take the user input N no. of times and find out the total cost to be paid?                                                                                                                                                                                                   OR                                                                                                                                                      You can ask the user quntity or the count of item?                                                                          if the item is not present in the amazon website then print that item as out of stock and do add it total                                                                                                                                                   HINT: while, for loop.. indexing"
   ]
  },
  {
   "cell_type": "code",
   "execution_count": 10,
   "id": "1d8c7753",
   "metadata": {},
   "outputs": [
    {
     "name": "stdout",
     "output_type": "stream",
     "text": [
      "Enter the items you want to buy with comma seprated : laptop,watch\n",
      "Total bill :  55000\n"
     ]
    }
   ],
   "source": [
    "amazon_website = [(\"watch\", 5000), (\"phone\", 10000), (\"laptop\", 50000), (\"shirt\", 1000)] \n",
    "dict_x = {i[0]:i[1] for i in amazon_website}\n",
    "list_x = list(input('Enter the items you want to buy with comma seprated : ').split(','))\n",
    "total_price = 0\n",
    "for i in range(len(list_x)) :\n",
    "    try :\n",
    "        total_price+=dict_x[list_x[i]]\n",
    "    except :\n",
    "        continue\n",
    "print('Total bill : ',total_price)"
   ]
  },
  {
   "cell_type": "code",
   "execution_count": 14,
   "id": "1e384324",
   "metadata": {},
   "outputs": [
    {
     "name": "stdout",
     "output_type": "stream",
     "text": [
      "Enter your item : (enter complete if you done shopping)watch\n",
      "Enter its quntity : 2\n",
      "Enter your item : (enter complete if you done shopping)shirt\n",
      "Enter its quntity : 3\n",
      "Enter your item : (enter complete if you done shopping)books\n",
      "Enter its quntity : 5\n",
      "Enter your item : (enter complete if you done shopping)complete\n",
      "item that are out of stock : \n",
      "books\n",
      "Your bill :  13000\n"
     ]
    }
   ],
   "source": [
    "# OR\n",
    "\n",
    "total_price = 0\n",
    "b = []\n",
    "while True :\n",
    "    item = input('Enter your item : (enter complete if you done shopping)')\n",
    "    if item == 'complete' :\n",
    "        break\n",
    "    quntity = int(input('Enter its quntity : '))\n",
    "    try :\n",
    "        total_price+=(dict_x[item]*quntity)\n",
    "    except :\n",
    "        b.append(item)\n",
    "print('item that are out of stock : ')\n",
    "print(''.join(b))\n",
    "print('Your bill : ',total_price)"
   ]
  },
  {
   "cell_type": "markdown",
   "id": "7bd1f67b",
   "metadata": {},
   "source": [
    "## 2). What will be the output of the following code snippet?"
   ]
  },
  {
   "cell_type": "code",
   "execution_count": 15,
   "id": "edcf82f9",
   "metadata": {},
   "outputs": [
    {
     "name": "stdout",
     "output_type": "stream",
     "text": [
      "2 3 4 5 6 6 "
     ]
    }
   ],
   "source": [
    "arr = [1, 2, 3, 4, 5, 6]\n",
    "for i in range(1, 6):\n",
    "    arr[i - 1] = arr[i]\n",
    "for i in range(0, 6): \n",
    "    print(arr[i], end = \" \")"
   ]
  },
  {
   "cell_type": "markdown",
   "id": "86ccb67b",
   "metadata": {},
   "source": [
    "## 3). Write a Python program to find the repeated items of a tuple."
   ]
  },
  {
   "cell_type": "code",
   "execution_count": 18,
   "id": "e5519422",
   "metadata": {},
   "outputs": [
    {
     "name": "stdout",
     "output_type": "stream",
     "text": [
      "Enter a input with comma seprated : hello,are,you,there,?,hello,are,you,listening,or,not\n",
      "Repeated items in the tuples are : \n",
      "hello\n",
      "are\n",
      "you\n"
     ]
    }
   ],
   "source": [
    "tuple_x = tuple(input('Enter a input with comma seprated : ').split(','))\n",
    "dict_x = {}\n",
    "for i in range(len(tuple_x)) :\n",
    "    try :\n",
    "        dict_x[tuple_x[i]] += 1\n",
    "    except :\n",
    "        dict_x[tuple_x[i]] = 1\n",
    "print('Repeated items in the tuples are : ')\n",
    "for a,v in dict_x.items() :\n",
    "    if dict_x[a]>1 :\n",
    "        print(a)\n",
    "        dict_x[a]=0"
   ]
  },
  {
   "cell_type": "markdown",
   "id": "abdf76db",
   "metadata": {},
   "source": [
    "## 4). Replace last value of tuples in a list with 500. Try using list comprehension            Example -:Input -:[(10, 20, 40), (40, 50, 60), (70, 80, 90)]        Output -:[(10, 20, 500), (40, 50, 500), (70, 80, 500)]"
   ]
  },
  {
   "cell_type": "code",
   "execution_count": 20,
   "id": "789b0c40",
   "metadata": {},
   "outputs": [
    {
     "name": "stdout",
     "output_type": "stream",
     "text": [
      "[(10, 20, 500), (40, 50, 500), (70, 80, 500)]\n"
     ]
    }
   ],
   "source": [
    "x = [(10, 20, 40), (40, 50, 60), (70, 80, 90)]\n",
    "x = [tuple([x[j][i] if i!=(len(x[j])-1) else 500 for i in range(len(x[j]))]) for j in range(len(x))]\n",
    "print(x)"
   ]
  },
  {
   "cell_type": "code",
   "execution_count": null,
   "id": "b227ba86",
   "metadata": {},
   "outputs": [],
   "source": []
  }
 ],
 "metadata": {
  "kernelspec": {
   "display_name": "Python 3 (ipykernel)",
   "language": "python",
   "name": "python3"
  },
  "language_info": {
   "codemirror_mode": {
    "name": "ipython",
    "version": 3
   },
   "file_extension": ".py",
   "mimetype": "text/x-python",
   "name": "python",
   "nbconvert_exporter": "python",
   "pygments_lexer": "ipython3",
   "version": "3.9.12"
  }
 },
 "nbformat": 4,
 "nbformat_minor": 5
}
