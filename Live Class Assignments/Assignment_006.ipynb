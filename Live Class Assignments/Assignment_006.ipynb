{
 "cells": [
  {
   "cell_type": "markdown",
   "id": "aa6ee709",
   "metadata": {},
   "source": [
    "## 1). Write a function which will try to find out len of a string without using an inbuilt len function "
   ]
  },
  {
   "cell_type": "code",
   "execution_count": 1,
   "id": "f3209a83",
   "metadata": {},
   "outputs": [],
   "source": [
    "def test(a):\n",
    "    count = 0 \n",
    "    for i in a:\n",
    "        count = count + 1\n",
    "    return count"
   ]
  },
  {
   "cell_type": "code",
   "execution_count": 2,
   "id": "798bff79",
   "metadata": {},
   "outputs": [
    {
     "data": {
      "text/plain": [
       "8"
      ]
     },
     "execution_count": 2,
     "metadata": {},
     "output_type": "execute_result"
    }
   ],
   "source": [
    "test('vijendra')"
   ]
  },
  {
   "cell_type": "markdown",
   "id": "731ea6c7",
   "metadata": {},
   "source": [
    "## 2). Write a function which  will be able to print an index of list element without using an index function"
   ]
  },
  {
   "cell_type": "code",
   "execution_count": 3,
   "id": "b85e7e02",
   "metadata": {},
   "outputs": [],
   "source": [
    "l1 = [1,2,3+2j,'vijju',7.8]\n",
    "\n",
    "def test1(li):\n",
    "    for i in range(0,test(li)):\n",
    "        print( li[i] , \": \" ,i)"
   ]
  },
  {
   "cell_type": "code",
   "execution_count": 4,
   "id": "2ad814f6",
   "metadata": {},
   "outputs": [
    {
     "name": "stdout",
     "output_type": "stream",
     "text": [
      "1 :  0\n",
      "2 :  1\n",
      "(3+2j) :  2\n",
      "vijju :  3\n",
      "7.8 :  4\n"
     ]
    }
   ],
   "source": [
    "test1(l1)"
   ]
  },
  {
   "cell_type": "markdown",
   "id": "996df96b",
   "metadata": {},
   "source": [
    "## 3). Write a function which will be able to print an ip address of your system"
   ]
  },
  {
   "cell_type": "code",
   "execution_count": 5,
   "id": "fd6e1d40",
   "metadata": {},
   "outputs": [],
   "source": [
    "import socket \n",
    "def test2():\n",
    "    ip= socket.gethostbyname(socket.gethostname())\n",
    "    return ip"
   ]
  },
  {
   "cell_type": "code",
   "execution_count": 6,
   "id": "4bc5ef9a",
   "metadata": {},
   "outputs": [
    {
     "data": {
      "text/plain": [
       "'10.102.155.188'"
      ]
     },
     "execution_count": 6,
     "metadata": {},
     "output_type": "execute_result"
    }
   ],
   "source": [
    "test2()"
   ]
  },
  {
   "cell_type": "markdown",
   "id": "fb134e87",
   "metadata": {},
   "source": [
    "## 4). Write a function which will shutdown your system"
   ]
  },
  {
   "cell_type": "code",
   "execution_count": null,
   "id": "e4c0fecc",
   "metadata": {},
   "outputs": [],
   "source": [
    "import os\n",
    "os.system(\"shutdown /s /t 14\")\n",
    "\n",
    "# /s - shutdown\n",
    "# /r - restart \n",
    "# /t 1 - timer in second"
   ]
  },
  {
   "cell_type": "markdown",
   "id": "b40307e7",
   "metadata": {},
   "source": [
    "## 5). Write a function which will take input as a list with any kind of numeric value and give an out as a multiplication of all the numeric data l = [3.5, 6.56, 4,5,\"sudh\" , \"ineuron\" , 'fsda bootcamp 2.0'] "
   ]
  },
  {
   "cell_type": "code",
   "execution_count": 7,
   "id": "1c978a67",
   "metadata": {},
   "outputs": [],
   "source": [
    "l1 = [3.5, 6.56, 4,5,\"sudh\" , \"ineuron\" , 'fsda bootcamp 2.0']\n",
    "def test3(l1):\n",
    "    mul = 1 \n",
    "    for i in l1 :\n",
    "        if type(i) == int or type(i) == float : \n",
    "            mul = mul *i\n",
    "    return mul"
   ]
  },
  {
   "cell_type": "code",
   "execution_count": 8,
   "id": "69d9c5d4",
   "metadata": {},
   "outputs": [
    {
     "data": {
      "text/plain": [
       "459.19999999999993"
      ]
     },
     "execution_count": 8,
     "metadata": {},
     "output_type": "execute_result"
    }
   ],
   "source": [
    "test3(l1)"
   ]
  },
  {
   "cell_type": "markdown",
   "id": "66a01506",
   "metadata": {},
   "source": [
    "## 6). Write a function which will be able to read all the mails  "
   ]
  },
  {
   "cell_type": "code",
   "execution_count": 9,
   "id": "d127a09d",
   "metadata": {},
   "outputs": [
    {
     "name": "stdout",
     "output_type": "stream",
     "text": [
      "From : \"Grammarly Insights\" <info@send.grammarly.com>\n",
      "\n",
      "Subject : Keep writing to see your super stats.\n",
      "\n",
      "From : Google <no-reply@accounts.google.com>\n",
      "\n",
      "Subject : Security alert\n",
      "\n",
      "From : The Google Account Team <google-noreply@google.com>\n",
      "\n",
      "Subject : Monti, review your Google Account settings\n",
      "\n",
      "From : Google <no-reply@accounts.google.com>\n",
      "\n",
      "Subject : 2-Step Verification turned on\n",
      "\n"
     ]
    }
   ],
   "source": [
    "import smtplib\n",
    "import time\n",
    "import imaplib\n",
    "import email\n",
    "import traceback \n",
    "ORG_EMAIL = \"@gmail.com\" \n",
    "FROM_EMAIL = 'veerp008@gmail.com'\n",
    "FROM_PWD = 'kohesvhqmussrvut'\n",
    "SMTP_SERVER = \"imap.gmail.com\" \n",
    "SMTP_PORT = 993\n",
    "imaplib._MAXLINE = 400000000\n",
    "\n",
    "def read_email_from_gmail():\n",
    "    try:\n",
    "        mail = imaplib.IMAP4_SSL(SMTP_SERVER)\n",
    "        mail.login(FROM_EMAIL,FROM_PWD)\n",
    "        mail.select('inbox')\n",
    "\n",
    "        data = mail.search(None, 'ALL')\n",
    "        mail_ids = data[1]\n",
    "        id_list = mail_ids[0].split()   \n",
    "        first_email_id = int(id_list[0])\n",
    "        latest_email_id = int(id_list[-1])\n",
    "\n",
    "        for i in range(latest_email_id,first_email_id, -1):\n",
    "            data = mail.fetch(str(i), '(RFC822)' )\n",
    "            for response_part in data:\n",
    "                arr = response_part[0]\n",
    "                if isinstance(arr, tuple):\n",
    "                    msg = email.message_from_string(str(arr[1],'utf-8'))\n",
    "                    email_subject = msg['subject']\n",
    "                    email_from = msg['from']\n",
    "                    print('From : ' + email_from + '\\n')\n",
    "                    print('Subject : ' + email_subject + '\\n')\n",
    "\n",
    "    except Exception as e:\n",
    "        traceback.print_exc() \n",
    "        print(str(e))\n",
    "\n",
    "read_email_from_gmail()"
   ]
  },
  {
   "cell_type": "markdown",
   "id": "eabce264",
   "metadata": {},
   "source": [
    "## 7). Write a function which will be able to send a mail to anyone "
   ]
  },
  {
   "cell_type": "code",
   "execution_count": 10,
   "id": "72ffc4d8",
   "metadata": {},
   "outputs": [],
   "source": [
    "import smtplib , ssl\n",
    "port = 465  # For SSL\n",
    "smtp_server = \"smtp.gmail.com\"\n",
    "sender_email = \"veerp008@gmail.com\"  # Enter your address\n",
    "receiver_email = \"rawatvijendra008@gmail.com\"  # Enter receiver address\n",
    "password = 'kohesvhqmussrvut'\n",
    "message = \"\"\"this is my message from python code in my live class\"\"\"\n",
    "\n",
    "context = ssl.create_default_context()\n",
    "with smtplib.SMTP_SSL(smtp_server, port, context=context) as server:\n",
    "    server.login(sender_email, password)\n",
    "    server.sendmail(sender_email, receiver_email, message)"
   ]
  },
  {
   "cell_type": "markdown",
   "id": "d6e5d256",
   "metadata": {},
   "source": [
    "## 8). Write a function which will be able to read a doc/word file from your system "
   ]
  },
  {
   "cell_type": "code",
   "execution_count": 11,
   "id": "2d1df3da",
   "metadata": {},
   "outputs": [
    {
     "name": "stdout",
     "output_type": "stream",
     "text": [
      "Twinkle twinkle little star.\n",
      "How I wonder what you are.\n",
      "Up above the world so high.\n",
      "Like a diamond in the sky.\n",
      "Twinkle twinkle little star.\n",
      "How I wonder what you are.\n",
      "\n",
      "Twinkle twinkle little star.\n",
      "How I wonder what you are.\n",
      "Up above the world so high.\n",
      "Like a diamond in the sky.\n",
      "Twinkle twinkle little star.\n",
      "How I wonder what you are.\n"
     ]
    }
   ],
   "source": [
    "import docx2txt\n",
    "a = docx2txt.process('Poem.docx')\n",
    "print(a)"
   ]
  },
  {
   "cell_type": "code",
   "execution_count": null,
   "id": "7486c6ac",
   "metadata": {},
   "outputs": [],
   "source": []
  }
 ],
 "metadata": {
  "kernelspec": {
   "display_name": "Python 3 (ipykernel)",
   "language": "python",
   "name": "python3"
  },
  "language_info": {
   "codemirror_mode": {
    "name": "ipython",
    "version": 3
   },
   "file_extension": ".py",
   "mimetype": "text/x-python",
   "name": "python",
   "nbconvert_exporter": "python",
   "pygments_lexer": "ipython3",
   "version": "3.9.12"
  }
 },
 "nbformat": 4,
 "nbformat_minor": 5
}
