{
 "cells": [
  {
   "cell_type": "markdown",
   "id": "60e39a1f",
   "metadata": {},
   "source": [
    "### 1). Print the first 5 positive integers in ascending order with one number in each line"
   ]
  },
  {
   "cell_type": "code",
   "execution_count": 6,
   "id": "360c1c65",
   "metadata": {},
   "outputs": [
    {
     "name": "stdout",
     "output_type": "stream",
     "text": [
      "1\n",
      "2\n",
      "3\n",
      "4\n",
      "5\n"
     ]
    }
   ],
   "source": [
    "for i in range(5) :\n",
    "    print (i+1)"
   ]
  },
  {
   "cell_type": "markdown",
   "id": "14195ff9",
   "metadata": {},
   "source": [
    "### 2). Print the following pattern <br><br> `*` <br> `**` <br> `***` <br> `****` <br> `*****`<br>There are no spaces between consecutive stars. There are no spaces at the end of each line."
   ]
  },
  {
   "cell_type": "code",
   "execution_count": 8,
   "id": "40e2c489",
   "metadata": {},
   "outputs": [
    {
     "name": "stdout",
     "output_type": "stream",
     "text": [
      "\n",
      "*\n",
      "**\n",
      "***\n",
      "****\n",
      "*****\n"
     ]
    }
   ],
   "source": [
    "for i in range (6) :\n",
    "    for j in range (1,i+1) :\n",
    "        print(\"*\",end = '')\n",
    "    print()"
   ]
  },
  {
   "cell_type": "markdown",
   "id": "8b1ff635",
   "metadata": {},
   "source": [
    "### 3). Accept an integer as input and print its square as output."
   ]
  },
  {
   "cell_type": "code",
   "execution_count": 9,
   "id": "103ab4a8",
   "metadata": {},
   "outputs": [
    {
     "name": "stdout",
     "output_type": "stream",
     "text": [
      "Enter an integer : 34\n",
      "It's square : 1156\n"
     ]
    }
   ],
   "source": [
    "x = int(input('Enter an integer : '))\n",
    "print(f\"It's square : {x**2}\")"
   ]
  },
  {
   "cell_type": "markdown",
   "id": "a99f603f",
   "metadata": {},
   "source": [
    "### 4). Accept two integers as input and print their sum as output. "
   ]
  },
  {
   "cell_type": "code",
   "execution_count": 11,
   "id": "6bf1c414",
   "metadata": {},
   "outputs": [
    {
     "name": "stdout",
     "output_type": "stream",
     "text": [
      "Enter first integer : 34\n",
      "Enter second integer : 23\n",
      "Sum : 57\n"
     ]
    }
   ],
   "source": [
    "a = int(input('Enter first integer : '))\n",
    "b = int(input('Enter second integer : '))\n",
    "print(f\"Sum : {a+b}\")"
   ]
  },
  {
   "cell_type": "markdown",
   "id": "77f365c5",
   "metadata": {},
   "source": [
    "### 5). Accept two words as input and print the two words after adding a space between them"
   ]
  },
  {
   "cell_type": "code",
   "execution_count": 13,
   "id": "c7a44f6c",
   "metadata": {},
   "outputs": [
    {
     "name": "stdout",
     "output_type": "stream",
     "text": [
      "ineuron\n",
      "fsds\n",
      "ineuron fsds\n"
     ]
    }
   ],
   "source": [
    "print(input(), input())"
   ]
  },
  {
   "cell_type": "markdown",
   "id": "3ce6bbf5",
   "metadata": {},
   "source": [
    "### 6). Accept the registration number of a vehicle as input and print its state-code as output."
   ]
  },
  {
   "cell_type": "code",
   "execution_count": 1,
   "id": "9a1ecd7d",
   "metadata": {},
   "outputs": [
    {
     "name": "stdout",
     "output_type": "stream",
     "text": [
      "Enter the vehicle registration number : up16th1426\n",
      "up\n"
     ]
    }
   ],
   "source": [
    "RN = input('Enter the vehicle registration number : ')\n",
    "if len(RN) == 10 and RN[0:2].isalpha() == True :\n",
    "    print(RN[0:2])\n",
    "else :\n",
    "    print('Enter right information')"
   ]
  },
  {
   "cell_type": "markdown",
   "id": "bb24406f",
   "metadata": {},
   "source": [
    "### 7). Accept a five-digit number as input and print the sum of its digits as output."
   ]
  },
  {
   "cell_type": "code",
   "execution_count": 31,
   "id": "1f5e4e75",
   "metadata": {},
   "outputs": [
    {
     "name": "stdout",
     "output_type": "stream",
     "text": [
      "Enter five-digit number : 12345\n",
      "15\n"
     ]
    }
   ],
   "source": [
    "input('Enter five-digit number : ')\n",
    "d1 = int(d[0])\n",
    "d2 = int(d[1])\n",
    "d3 = int(d[2])\n",
    "d4 = int(d[3])\n",
    "d5 = int(d[4])\n",
    "dsum = d1 + d2 + d3 + d4 + d5\n",
    "print(dsum)"
   ]
  },
  {
   "cell_type": "markdown",
   "id": "c6fa4c42",
   "metadata": {},
   "source": [
    "### 8). Accept five words as input and print the sentence formed by these words after adding a space between consecutive words and a full stop at the end. "
   ]
  },
  {
   "cell_type": "code",
   "execution_count": 21,
   "id": "5191835d",
   "metadata": {},
   "outputs": [
    {
     "name": "stdout",
     "output_type": "stream",
     "text": [
      "Enter first word : I\n",
      "Enter second word : am\n",
      "Enter third word : student\n",
      "Enter fourth word : of\n",
      "Enter fifth word : FSDS\n",
      "I am student of FSDS.\n"
     ]
    }
   ],
   "source": [
    "w1 = input('Enter first word : ')\n",
    "w2 = input('Enter second word : ')\n",
    "w3 = input('Enter third word : ')\n",
    "w4 = input('Enter fourth word : ')\n",
    "w5 = input('Enter fifth word : ')\n",
    "print(w1+' '+w2+' '+w3+' '+w4+' '+w5+'.')"
   ]
  },
  {
   "cell_type": "markdown",
   "id": "df3aa1ac",
   "metadata": {},
   "source": [
    "### 9). Accept the date in DD-MM-YYYY format as input and print the year as output."
   ]
  },
  {
   "cell_type": "code",
   "execution_count": 28,
   "id": "8a78448d",
   "metadata": {},
   "outputs": [
    {
     "name": "stdout",
     "output_type": "stream",
     "text": [
      "Enter the date in DD-MM-YYYY format : 12-03-1989\n",
      "1989\n"
     ]
    }
   ],
   "source": [
    "date = input('Enter the date in DD-MM-YYYY format : ')\n",
    "if len(date) == 10 and int(date[0:2]) <= 31 and date[2] == '-' and int(date[3:5]) <= 12 and date[5] == '-' :\n",
    "    print(date[-4:])\n",
    "else :\n",
    "    print('Enter the date in correct format')"
   ]
  },
  {
   "cell_type": "markdown",
   "id": "4b13cbdc",
   "metadata": {},
   "source": [
    "### 10). Accept a sequence of five single digit numbers separated by commas as input. Print the product of all five numbers."
   ]
  },
  {
   "cell_type": "code",
   "execution_count": 32,
   "id": "781cf0c1",
   "metadata": {},
   "outputs": [
    {
     "name": "stdout",
     "output_type": "stream",
     "text": [
      "Enter five-digit number : 12345\n",
      "120\n"
     ]
    }
   ],
   "source": [
    "d = input('Enter five-digit number : ')\n",
    "d1 = int(d[0])\n",
    "d2 = int(d[1])\n",
    "d3 = int(d[2])\n",
    "d4 = int(d[3])\n",
    "d5 = int(d[4])\n",
    "dpro = d1 * d2 * d3 * d4 * d5\n",
    "print(dpro)"
   ]
  },
  {
   "cell_type": "markdown",
   "id": "20adc275",
   "metadata": {},
   "source": [
    "### 11). Accept two positive integers x and y as input. Print the number of digits in xy"
   ]
  },
  {
   "cell_type": "code",
   "execution_count": 49,
   "id": "63944031",
   "metadata": {},
   "outputs": [
    {
     "name": "stdout",
     "output_type": "stream",
     "text": [
      "Enter first positive number : 34\n",
      "Enter second positive number : 9332\n",
      "number of digits in the multiplication : 6\n"
     ]
    }
   ],
   "source": [
    "x1 = int(input('Enter first positive number : '))\n",
    "y1 = int(input('Enter second positive number : '))\n",
    "mul = x1 * y1\n",
    "mul = str(mul)\n",
    "di = len(mul)\n",
    "print(f\"number of digits in the multiplication : {di}\")"
   ]
  },
  {
   "cell_type": "markdown",
   "id": "80821ccd",
   "metadata": {},
   "source": [
    "### 12). Accept a string as input. If the input string is of odd length, then continue with it. If the input string is of even length, make the string of odd length as below:<br>• If the last character is a period (.), then remove it <br>• If the last character is not a period, then add a period (.) to the end of the string"
   ]
  },
  {
   "cell_type": "code",
   "execution_count": 6,
   "id": "e85b1c9c",
   "metadata": {},
   "outputs": [
    {
     "name": "stdout",
     "output_type": "stream",
     "text": [
      "Enter a string : red.\n",
      "red \n"
     ]
    }
   ],
   "source": [
    "sen = input('Enter a string : ')\n",
    "if len(sen) % 2 == 0 and sen[-1] == '.' :\n",
    "    sen = sen.replace('.',' ')\n",
    "    print(sen)\n",
    "elif len(sen) % 2 == 0 and sen[-1] != '.' :\n",
    "    sen = sen + '.'\n",
    "    print(sen)\n",
    "else :\n",
    "    print(sen)"
   ]
  },
  {
   "cell_type": "markdown",
   "id": "498982ad",
   "metadata": {},
   "source": [
    "### 13). Accept three positive integers as input and check if they form the sides of a right triangle. Print YES if they form one, and NO is they do not. The input will have three lines, with one integer on each line. The output should be a single line containing one of these two strings: YES or NO."
   ]
  },
  {
   "cell_type": "code",
   "execution_count": 10,
   "id": "84313f39",
   "metadata": {},
   "outputs": [
    {
     "name": "stdout",
     "output_type": "stream",
     "text": [
      "Enter first side of right triangle : 8\n",
      "Enter second side of right triangle : 6\n",
      "Enter third side of right triangle : 10\n",
      "YES\n"
     ]
    }
   ],
   "source": [
    "b = int(input('Enter first side of right triangle : '))\n",
    "h = int(input('Enter second side of right triangle : '))\n",
    "h1 = int(input('Enter third side of right triangle : '))\n",
    "if h1**2 == h**2 + b**2 or h**2 == b**2 + h1**2 or b**2 == h1**2 + h**2 :\n",
    "    print('YES')\n",
    "else :\n",
    "    print('NO')"
   ]
  },
  {
   "cell_type": "markdown",
   "id": "6e818889",
   "metadata": {},
   "source": [
    "### 14). EvenOdd is a tech startup. Each employee at the startup is given an employee id which is a unique positive integer. On one warm Sunday evening, five employees of the company come together for a meeting and sit at a circular table:The employees follow a strange convention. They will continue the meeting only if the following condition is satisfied.<br>The sum of the employee-ids of every pair of adjacent employees at the table must be an even number.They are so lazy that they won’t move around to satisfy the above condition, If the current seating plan doesn’t satisfy the condition, the meeting will be cancelled. You are given the employee-id of all five employees. Your task is to decide if the meeting happened or not.The input will be five lined, each containing an integer. The ith line will have the employee-id of Ei. The output will be a single line containing one of these two strings: YES or NO"
   ]
  },
  {
   "cell_type": "code",
   "execution_count": 13,
   "id": "0dd758c2",
   "metadata": {},
   "outputs": [
    {
     "name": "stdout",
     "output_type": "stream",
     "text": [
      "Enter first employee-id number : 23\n",
      "Enter second employee-id number : 43\n",
      "Enter third employee-id number : 121\n",
      "Enter fourth employee-id number : 341\n",
      "Enter fifth employee-id number : 47\n",
      "YES\n"
     ]
    }
   ],
   "source": [
    "E1 = int(input('Enter first employee-id number : '))\n",
    "E2 = int(input('Enter second employee-id number : '))\n",
    "E3 = int(input('Enter third employee-id number : '))\n",
    "E4 = int(input('Enter fourth employee-id number : '))\n",
    "E5 = int(input('Enter fifth employee-id number : '))\n",
    "if (E1 + E2) % 2 != 0 :\n",
    "    print('NO')\n",
    "elif (E2 + E3) % 2 != 0 :\n",
    "    print('NO')\n",
    "elif (E3 + E4) % 2 != 0 :\n",
    "    print('NO')\n",
    "elif (E4 + E5) % 2 != 0 :\n",
    "    print('NO')\n",
    "elif (E1 + E1) % 2 != 0 :\n",
    "    print('NO')\n",
    "else :\n",
    "    print('YES')"
   ]
  },
  {
   "cell_type": "markdown",
   "id": "42df7a58",
   "metadata": {},
   "source": [
    "### 15). Accept a string as input and print the vowels present in the string in alphabetical order. If the string doesn’t contain any vowels, then print the string none as output. Each vowel that appears in the input string – irrespective of its case should appear just once in lower case in the output"
   ]
  },
  {
   "cell_type": "code",
   "execution_count": 18,
   "id": "2de7e7cc",
   "metadata": {},
   "outputs": [
    {
     "name": "stdout",
     "output_type": "stream",
     "text": [
      "i am student of fsds batch in ineuron.\n",
      "aeiou\n"
     ]
    }
   ],
   "source": [
    "st = input()\n",
    "st = st.lower()\n",
    "vowels = ''\n",
    "if 'a' in st :\n",
    "    vowels += 'a'\n",
    "if 'e' in st :\n",
    "    vowels += 'e'\n",
    "if 'i' in st :\n",
    "    vowels += 'i'\n",
    "if 'o' in st :\n",
    "    vowels += 'o'\n",
    "if 'u' in st :\n",
    "    vowels += 'u'\n",
    "if vowels != \"\" :\n",
    "    print(vowels)\n",
    "else :\n",
    "    print('none')"
   ]
  },
  {
   "cell_type": "markdown",
   "id": "2c88345a",
   "metadata": {},
   "source": [
    "### 16). You are given the date of birth of two persons, not necessarily from the same family. Your task is to find the younger of the two. If both of them share the same date of birth, then the younger of the two is assumed to be that person whose name comes first in alphabetical order.The input will have four lines. The first two lines correspond to the first person, while the last two lines correspond to the second person. For each person, the first line corresponds to the name and the second line corresponds to the date of birth in “DD-MM-YYYY” format. Your output should be the name of the younger of the two."
   ]
  },
  {
   "cell_type": "code",
   "execution_count": 6,
   "id": "647bc3e1",
   "metadata": {},
   "outputs": [
    {
     "name": "stdout",
     "output_type": "stream",
     "text": [
      "Enter the first person name : abhi\n",
      "Enter first person dob in DD-MM-YYYY format : 12-10-1997\n",
      "Enter the second person name : birju\n",
      "Enter second person dob in DD-MM-YYYY format : 12-10-1997\n",
      "abhi\n"
     ]
    }
   ],
   "source": [
    "n = input('Enter the first person name : ')\n",
    "n = n.lower()\n",
    "dob = input('Enter first person dob in DD-MM-YYYY format : ')\n",
    "if len(dob) == 10 and int(dob[0:2]) <= 31 and dob[2] == '-' and int(dob[3:5]) <= 12 and dob[5] == '-' :\n",
    "    pass\n",
    "else :\n",
    "    print('Enter correct format in DOB')\n",
    "n1 = input('Enter the second person name : ')\n",
    "n1 = n1.lower()\n",
    "dob1 = input('Enter second person dob in DD-MM-YYYY format : ')\n",
    "if len(dob1) == 10 and int(dob1[0:2]) <= 31 and dob1[2] == '-' and int(dob1[3:5]) <= 12 and dob1[5] == '-' :\n",
    "    pass\n",
    "else :\n",
    "    print('Enter correct format in DOB')\n",
    "if dob == dob1 :\n",
    "    if n < n1 :\n",
    "        print(n)\n",
    "    else :\n",
    "        print(n1)\n",
    "elif int(dob[-4:]) != int(dob1[-4:]) :\n",
    "    if int(dob[-4:]) < int(dob1[-4:]) :\n",
    "        print(n1)\n",
    "    else :\n",
    "        print(n)\n",
    "elif int(dob[3:5]) != int(dob1[3:5]) :\n",
    "    if int(dob[3:5]) < int(dob1[3:5]) :\n",
    "        print(n1)\n",
    "    else :\n",
    "        print(n)\n",
    "else :\n",
    "    if int(dob[0:2]) < int(dob1[0:2]) :\n",
    "        print(n1)\n",
    "    else :\n",
    "        print(n)"
   ]
  },
  {
   "cell_type": "markdown",
   "id": "2db028db",
   "metadata": {},
   "source": [
    "### 17). Accept a string as input. Your task is to determine if the input string is a valid password or not. For a string to be a valid password, it must satisfy all the conditions given below:<br>(1) It should have at least 8 and at most 32 characters<br>(2) It should start with an uppercase or lowercase letter<br>(3) It should not have any of these characters: / \\ = ' \"<br>(4) It should not have spaces<br>It could have any character that is not mentioned in the list of characters to be avoided (points 3 and 4). Output True if the string forms a valid password and False otherwise"
   ]
  },
  {
   "cell_type": "code",
   "execution_count": 9,
   "id": "583a1956",
   "metadata": {},
   "outputs": [
    {
     "name": "stdout",
     "output_type": "stream",
     "text": [
      "Enter the password : vkviwfg/\n",
      "False\n"
     ]
    }
   ],
   "source": [
    "pa = input('Enter the password : ')\n",
    "if len(pa) >= 8 or len(pa) <= 32 :\n",
    "    pass\n",
    "if pa[0].isupper() == True or pa[0].islower() == True :\n",
    "    pass\n",
    "if '/' in pa or '=' in pa or '\\'' in pa or '\"' in pa or ' ' in pa :\n",
    "    print('False')\n",
    "else :\n",
    "    print('True')"
   ]
  },
  {
   "cell_type": "markdown",
   "id": "e0ab816c",
   "metadata": {},
   "source": [
    "### 18). Accept a positive integer n as input and print the first n positive integers, one number on each line."
   ]
  },
  {
   "cell_type": "code",
   "execution_count": 12,
   "id": "d88e0a85",
   "metadata": {},
   "outputs": [
    {
     "name": "stdout",
     "output_type": "stream",
     "text": [
      "Enter the integer : 12\n",
      "1\n",
      "2\n",
      "3\n",
      "4\n",
      "5\n",
      "6\n",
      "7\n",
      "8\n",
      "9\n",
      "10\n",
      "11\n",
      "12\n"
     ]
    }
   ],
   "source": [
    "n = int(input('Enter the integer : '))\n",
    "for i in range(1,n+1) :\n",
    "    print(i)"
   ]
  },
  {
   "cell_type": "markdown",
   "id": "e353589a",
   "metadata": {},
   "source": [
    "### 19). Accept a positive integer n as input, where n is greater than 1. Print PRIME if n is a prime number and NOTPRIME otherwise."
   ]
  },
  {
   "cell_type": "code",
   "execution_count": 19,
   "id": "f6247ed5",
   "metadata": {},
   "outputs": [
    {
     "name": "stdout",
     "output_type": "stream",
     "text": [
      "Enter a number : 11433231\n",
      "NOTPRIME\n"
     ]
    }
   ],
   "source": [
    "n1 = int(input('Enter a number : '))\n",
    "if n1 > 1 :\n",
    "    for i in range(2, int(n/2)+1) :\n",
    "        if (n1 % i) == 0:\n",
    "            print('NOTPRIME')\n",
    "            break\n",
    "    else :\n",
    "        print('PRIME')\n",
    "            "
   ]
  },
  {
   "cell_type": "markdown",
   "id": "546983fb",
   "metadata": {},
   "source": [
    "### 20). Accept two strings as input and form a new string by removing all characters from the second string which are present in the first string. Print this new string as output. You can assume that all input strings will be in lower case."
   ]
  },
  {
   "cell_type": "code",
   "execution_count": 25,
   "id": "f7a64195",
   "metadata": {},
   "outputs": [
    {
     "name": "stdout",
     "output_type": "stream",
     "text": [
      "Enter first string : Ineuron FSDS\n",
      "Enter second string : september batch\n",
      "ptmbbatch\n"
     ]
    }
   ],
   "source": [
    "st1 = input('Enter first string : ')\n",
    "st1 = st1.lower()\n",
    "st2 = input('Enter second string : ')\n",
    "st2 = st2.lower()\n",
    "for st3 in st1:\n",
    "     if st3 in st2:\n",
    "            st2 = st2.replace(st3,'')\n",
    "print(st2)"
   ]
  },
  {
   "cell_type": "markdown",
   "id": "1d94c26b",
   "metadata": {},
   "source": [
    "### 21). Accept a phone number as input. A valid phone number should satisfy the following constraints.<br>(1) The number should start with one of these digits: 6, 7, 8, 9<br>(2) The number should be exactly 10 digits long.<br>(3) No digit should appear more than 7 times in the number.<br>(4) No digit should appear more than 5 times in a row in the number.<br>If the fourth condition is not very clear, then consider this example: <br>the number 9888888765 is invalid because the digit 8 appears more than 5 times in a row. Print the string valid if the phone number is valid. If not, print the string invalid."
   ]
  },
  {
   "cell_type": "code",
   "execution_count": 32,
   "id": "ad32cbe8",
   "metadata": {},
   "outputs": [
    {
     "name": "stdout",
     "output_type": "stream",
     "text": [
      "Enter a phone number : 6754324356\n",
      "valid\n"
     ]
    }
   ],
   "source": [
    "n=input('Enter a phone number : ')\n",
    "a=False\n",
    "if len(n)==10 and int(n[0])>5 and n.isdigit() :\n",
    "    for i in range(10):\n",
    "        if n.count(n[i])<8:\n",
    "            a=True\n",
    "            if n[i]*6 in n:\n",
    "                a=False\n",
    "                break\n",
    "        else:\n",
    "            break\n",
    "if a:\n",
    "    print('valid')\n",
    "else:\n",
    "    print('invalid')"
   ]
  },
  {
   "cell_type": "markdown",
   "id": "b3a21ddb",
   "metadata": {},
   "source": [
    "### 22). In the first line of input, accept a sequence of space-separated words. In the second line of input, accept a single word. If this word is not present in the sequence, print NO. If this word is present in the sequence, then print YES and in the next line of the output, print the number of times the word appears in the sequence."
   ]
  },
  {
   "cell_type": "code",
   "execution_count": 37,
   "id": "724a0f09",
   "metadata": {},
   "outputs": [
    {
     "name": "stdout",
     "output_type": "stream",
     "text": [
      "Enter the words : First I saw the white bear, then I saw the black; Then I saw the camel with a hump upon his back; Then I saw the grey wolf, with mutton in his maw; Then I saw the wombat waddle in the straw; Then I saw the elephant a-waving of his trunk; Then I saw the monkeys – mercy, how unpleasantly they smelt!\n",
      "Enter a word : saw\n",
      "YES\n",
      "7\n"
     ]
    }
   ],
   "source": [
    "s1 = input('Enter the words : ').split(' ')\n",
    "s2 = input('Enter a word : ')\n",
    "if s2 in s1 :\n",
    "    print('YES')\n",
    "    print(s1.count(s2))\n",
    "else :\n",
    "    print('NO')"
   ]
  },
  {
   "cell_type": "markdown",
   "id": "c3472033",
   "metadata": {},
   "source": [
    "### 23). Write a function named factorial that accepts an integer n as argument. It should return the factorial of n if n is a positive integer. It should return -1 if n is a negative integer, and it should return 1 if n is zero."
   ]
  },
  {
   "cell_type": "code",
   "execution_count": 11,
   "id": "fc08e817",
   "metadata": {},
   "outputs": [
    {
     "name": "stdout",
     "output_type": "stream",
     "text": [
      "Enter a number : 0\n",
      "1\n"
     ]
    }
   ],
   "source": [
    "print(fact(int(input('Enter a number : '))))\n",
    "def fact(n) :\n",
    "    if n<0 :\n",
    "        return -1\n",
    "    elif n == 0 :\n",
    "        return 1\n",
    "    else :\n",
    "        f = 1\n",
    "        for i in range(1,n+1) :\n",
    "            f *= i\n",
    "        return f"
   ]
  },
  {
   "cell_type": "markdown",
   "id": "1531b46a",
   "metadata": {},
   "source": [
    "### 24). The range of a list of numbers is the difference between the maximum and minimum values in the list Write a function named get_range that accepts a non-empty list of real numbers as argument. It should return the range of the list.<br>(1) Avoid using built-in function such as max and min.<br>(2) You do not have to accept input from the user or print output to the console.<br>You just have to write the function definition."
   ]
  },
  {
   "cell_type": "code",
   "execution_count": 1,
   "id": "a9955446",
   "metadata": {},
   "outputs": [],
   "source": [
    "def get_max(L):\n",
    "    maximum = L[0]\n",
    "    for x in L:\n",
    "        if x > maximum:\n",
    "            maximum = x\n",
    "    return maximum\n",
    "def get_min(L):\n",
    "    minimum = L[0]\n",
    "    for x in L:\n",
    "        if x < minimum:\n",
    "            minimum = x\n",
    "    return minimum\n",
    "def get_range(L):\n",
    "    maximum = get_max(L)\n",
    "    minimum = get_min(L)\n",
    "    return maximum - minimum"
   ]
  },
  {
   "cell_type": "code",
   "execution_count": 2,
   "id": "e6b975bd",
   "metadata": {},
   "outputs": [
    {
     "data": {
      "text/plain": [
       "42"
      ]
     },
     "execution_count": 2,
     "metadata": {},
     "output_type": "execute_result"
    }
   ],
   "source": [
    "get_range([7,9,3,4,19,45,8])"
   ]
  },
  {
   "cell_type": "markdown",
   "id": "67e09e77",
   "metadata": {},
   "source": [
    "### 25). Write a function named read_file that accepts a text file named filename as argument. Within the function, read the file and print each line of the file on a separate line in the console. You shouldn't print any extra characters at the end of a line. There shouldn't be an empty line between any two consecutive lines.<br>(1) filename is a string variable that holds the name of the file. For example, in the first test case, it is filename = 'public_1.txt'.<br>(2) You do not have to accept input from the console. You have to write the function definition and print the contents of the file within the function"
   ]
  },
  {
   "cell_type": "code",
   "execution_count": 17,
   "id": "64ef68d4",
   "metadata": {},
   "outputs": [],
   "source": [
    "def read_file(filename):\n",
    "    with open(filename, 'r') as file:\n",
    "        for line in file:\n",
    "            print(line.rstrip())"
   ]
  },
  {
   "cell_type": "code",
   "execution_count": 18,
   "id": "4369808c",
   "metadata": {},
   "outputs": [
    {
     "name": "stdout",
     "output_type": "stream",
     "text": [
      "Ineuron FSDS Sep 2022 Batch\n"
     ]
    }
   ],
   "source": [
    "read_file('doha.txt')"
   ]
  },
  {
   "cell_type": "markdown",
   "id": "2add2085",
   "metadata": {},
   "source": [
    "### 26). A simple algorithm has to be designed to find out whether a student belongs to the Data Science branch or not. The input will be a student's roll number, which is of the form BR18B0000. Here, BR represents the branch code, 18 represents the year of joining, B represents the education level and 0000 represents the specific identification given to the student of that batch. The branch code for Data Science is DS. Print True if the student belongs to Data Science branch and False otherwise."
   ]
  },
  {
   "cell_type": "code",
   "execution_count": 8,
   "id": "5aed5ac3",
   "metadata": {},
   "outputs": [
    {
     "name": "stdout",
     "output_type": "stream",
     "text": [
      "Enter your roll number : DS87G8970\n",
      "True\n"
     ]
    }
   ],
   "source": [
    "RN = input('Enter your roll number : ')\n",
    "if len(RN) == 9 :\n",
    "    if RN[0:2].isalpha() and RN[2:4].isdigit() and RN[4].isalpha() and RN[5:].isdigit() :\n",
    "        if 'DS' in RN[0:2] :\n",
    "            print('True')\n",
    "        else :\n",
    "            print('False')"
   ]
  },
  {
   "cell_type": "markdown",
   "id": "1feb6740",
   "metadata": {},
   "source": [
    "### 27). The police are trying to track a criminal based on the evidence available at a crime site. Their main clue is a vehicle's damaged number plate. Only the string TN07 is visible. The format of the registration number is AA00AA00, where the first two letters are alphabets, next two are numbers, next two are again alphabets followed by two numbers at the end. A number plate is picked from a database of registration numbers and is given to you as input. Your task is to determine if this could belong to the criminal or not. Print True if the number plate contains TN07 and False otherwise."
   ]
  },
  {
   "cell_type": "code",
   "execution_count": 9,
   "id": "dfb13aef",
   "metadata": {},
   "outputs": [
    {
     "name": "stdout",
     "output_type": "stream",
     "text": [
      "Enter the registration number : TG90TN07\n",
      "True\n"
     ]
    }
   ],
   "source": [
    "NP = input('Enter the registration number : ')\n",
    "if len(NP) == 8 :\n",
    "    if NP[0:2].isalpha() and NP[2:4].isdigit() and NP[4:6].isalpha() and NP[6:8].isdigit() :\n",
    "        if NP[0:2] or NP[4:6] == 'TN' and NP[2:4] or NP[6:] == '07' :\n",
    "            print('True')\n",
    "        else :\n",
    "            print('False')"
   ]
  },
  {
   "cell_type": "markdown",
   "id": "d06a8d96",
   "metadata": {},
   "source": [
    "### 28). You are given a string and two non-negative integers as input. The two integers specify the start and end indices of a substring in the given string. Create a new string by replicating the substring a minimum number of times so that the resulting string is longer than the input string. The input parameters are the string, start index of the substring and the end index of substring (endpoints inclusive) each on a different line."
   ]
  },
  {
   "cell_type": "code",
   "execution_count": 13,
   "id": "e5736bdc",
   "metadata": {},
   "outputs": [
    {
     "name": "stdout",
     "output_type": "stream",
     "text": [
      "it\n",
      "1\n",
      "3\n",
      "ttt\n"
     ]
    }
   ],
   "source": [
    "n=input()\n",
    "a=int(input())\n",
    "b=int(input())\n",
    "x=n[a:b+1]\n",
    "y=len(n)\n",
    "ans=\"\"\n",
    "while(y>=len(ans)):\n",
    "    ans+=x\n",
    "print(ans)"
   ]
  },
  {
   "cell_type": "markdown",
   "id": "f9b91649",
   "metadata": {},
   "source": [
    "### 29). A class teacher has decided to split her entire class into four groups, namely Sapphire, Peridot, Ruby, and Emerald for sports competitions. For dividing the students into these four groups,<br> she has followed the pattern given below:<br>Sapphire - 1, 5, 9, 13, 17, 21, ...<br>Peridot - 2, 6, 10, 14, 18, 22, ...<br>Ruby - 3, 7, 11, 15, 19, 23, ...<br>Emerald - 4, 8, 12, 16, 20, 24, ...<br>All the students are represented by their roll numbers. Based on the above pattern, given the roll number as input, print the group the student belongs to. Note that the roll number can be any positive integer and not necessarily less than 25."
   ]
  },
  {
   "cell_type": "code",
   "execution_count": 15,
   "id": "3cb5538b",
   "metadata": {},
   "outputs": [
    {
     "name": "stdout",
     "output_type": "stream",
     "text": [
      "Enter your roll number : 7\n",
      "Ruby\n"
     ]
    }
   ],
   "source": [
    "roll_n = int(input('Enter your roll number : '))\n",
    "for i in range(1,roll_n+1,4):\n",
    "    if roll_n==i:\n",
    "        print('Sapphire')\n",
    "for j in range(2,roll_n+1,4):\n",
    "    if roll_n==j:\n",
    "        print('Peridot')\n",
    "for k in range(3,roll_n+1,4):\n",
    "    if roll_n==k:\n",
    "        print('Ruby')\n",
    "for l in range(4,roll_n+1,4):\n",
    "    if roll_n==l:\n",
    "        print('Emerald')"
   ]
  },
  {
   "cell_type": "markdown",
   "id": "3b473b8e",
   "metadata": {},
   "source": [
    "### 30). A data science company wants to hire data scientists from abc college. The company follows a certain criteria for selection: for a student to be selected, the number of backlogs should be at most 5 and the CGPA (Cumulative Grade Point Average) should be greater than 6. If the student does not fit the above criteria, then the student is not offered the job. If the student is selected, then the salary offered is equal to 5 times his/her CGPA (in lakhs).Accept the number of backlogs (integer) and the CGPA (float) of the student as input. Your task is to determine if the student is selected or not. If the student is selected, then print the package. If not, then print the string Not Selected."
   ]
  },
  {
   "cell_type": "code",
   "execution_count": 6,
   "id": "5f765928",
   "metadata": {},
   "outputs": [
    {
     "name": "stdout",
     "output_type": "stream",
     "text": [
      "Enter the number of backlogs you have : 4\n",
      "Enter your CGPA : 7.33\n",
      "Your package offered by company for data scientist : 36.65LPA\n"
     ]
    }
   ],
   "source": [
    "back = int(input('Enter the number of backlogs you have : '))\n",
    "cgpa = float(input('Enter your CGPA : '))\n",
    "if back > 5 or cgpa < 6 :\n",
    "    print('Not Selected')\n",
    "else :\n",
    "    print(f'Your package offered by company for data scientist : {cgpa*5}LPA')"
   ]
  },
  {
   "cell_type": "markdown",
   "id": "706f0882",
   "metadata": {},
   "source": [
    "### 31). Accept a string as input and print PALINDROME if it is a palindrome, and NOT PALINDROME otherwise"
   ]
  },
  {
   "cell_type": "code",
   "execution_count": 12,
   "id": "2a257df6",
   "metadata": {},
   "outputs": [
    {
     "name": "stdout",
     "output_type": "stream",
     "text": [
      "Enter a string : repaper\n",
      "PALINDROME\n"
     ]
    }
   ],
   "source": [
    "a = input('Enter a string : ')\n",
    "if a == a[::-1] :\n",
    "    print('PALINDROME')\n",
    "else :\n",
    "    print('NOT PALINDROME')"
   ]
  },
  {
   "cell_type": "markdown",
   "id": "c06d81b5",
   "metadata": {},
   "source": [
    "### 32). In a portal login website, you are asked to write a function get_password_strength to decide the strength of a password. The strength is decided based on the total score of the password, Use following conditions:<br>1) If password has length greater than 7 then score increases by one point.<br>2) If password has at least one upper case and one lower case alphabets score increases by one point.<br>3) If password has at least one number and no consecutive numbers like 12 or 234 then score increases by one point.<br>4) If password has at least one special character (any character other than numbers and alphabets) then score increases by one point.<br>5) If password contains username, then it is invalid password.<br>If the password has score of four points, three points, two points, or one point then print Very Strong, Strong, Moderate, or Weak respectively. If the password is invalid, then print PASSWORD SHOULD NOT CONTAIN USERNAME and If the score is zero, then print Use a different password.The arguments to the function are username and password which are already defined"
   ]
  },
  {
   "cell_type": "code",
   "execution_count": 13,
   "id": "818344f8",
   "metadata": {},
   "outputs": [],
   "source": [
    "def get_password_strength(username, password) :\n",
    "    if username.lower() in password.lower() :\n",
    "        return \"PASSWORD SHOULD NOT CONTAIN USERNAME\"\n",
    "    score = 0\n",
    "    if len(password) > 7 :\n",
    "        score += 1\n",
    "    if any(c.isupper() for c in password) and any(c.islower() for c in password) :\n",
    "        score += 1\n",
    "    if any(c.isdigit() for c in password) and not any(str(i)+str(i+1) in password for i in range(9)) :\n",
    "        score += 1\n",
    "    if any(not c.isalnum() for c in password) :\n",
    "        score += 1\n",
    "    if score == 4 :\n",
    "        return \"Very Strong\"\n",
    "    elif score == 3 :\n",
    "        return \"Strong\"\n",
    "    elif score == 2 :\n",
    "        return \"Moderate\"\n",
    "    elif score == 1 :\n",
    "        return \"Weak\"\n",
    "    else :\n",
    "        return \"Use a different password\""
   ]
  },
  {
   "cell_type": "code",
   "execution_count": 16,
   "id": "622f8d2f",
   "metadata": {},
   "outputs": [
    {
     "data": {
      "text/plain": [
       "'Very Strong'"
      ]
     },
     "execution_count": 16,
     "metadata": {},
     "output_type": "execute_result"
    }
   ],
   "source": [
    "get_password_strength('ineuron','Fsds@872')"
   ]
  },
  {
   "cell_type": "markdown",
   "id": "50971907",
   "metadata": {},
   "source": [
    "### 33). Decorator that logs the date and time"
   ]
  },
  {
   "cell_type": "code",
   "execution_count": 17,
   "id": "0da309ff",
   "metadata": {},
   "outputs": [],
   "source": [
    "from datetime import datetime\n",
    "def log_datetime(func):\n",
    "    '''Log the date and time of a function'''\n",
    "\n",
    "    def wrapper():\n",
    "        print(f'Function: {func.__name__}\\nRun on: {datetime.today().strftime(\"%Y-%m-%d %H:%M:%S\")}')\n",
    "        print(f'{\"-\"*30}')\n",
    "        func()\n",
    "    return wrapper\n",
    "\n",
    "\n",
    "@log_datetime\n",
    "def daily_backup():\n",
    "\n",
    "    print('Daily backup job has finished.')   "
   ]
  },
  {
   "cell_type": "code",
   "execution_count": 19,
   "id": "5ba0ebae",
   "metadata": {},
   "outputs": [
    {
     "name": "stdout",
     "output_type": "stream",
     "text": [
      "Function: daily_backup\n",
      "Run on: 2023-03-22 12:09:19\n",
      "------------------------------\n",
      "Daily backup job has finished.\n"
     ]
    }
   ],
   "source": [
    "daily_backup()"
   ]
  },
  {
   "cell_type": "markdown",
   "id": "1fc679a0",
   "metadata": {},
   "source": [
    "### 34). Program to Get Data Items From a List Appearing Odd Number of Times"
   ]
  },
  {
   "cell_type": "code",
   "execution_count": 20,
   "id": "1a281623",
   "metadata": {},
   "outputs": [
    {
     "name": "stdout",
     "output_type": "stream",
     "text": [
      "[1, 3, 4, 6, 7, 8, 0]\n"
     ]
    }
   ],
   "source": [
    "a = [1,2,3,3,4,2,6,7,8,9,9,0,3]\n",
    "l = []\n",
    "for i in a :\n",
    "    if a.count(i) % 2 != 0 :\n",
    "        if i not in l :\n",
    "            l.append(i)\n",
    "print(l)"
   ]
  },
  {
   "cell_type": "markdown",
   "id": "8e7409eb",
   "metadata": {},
   "source": [
    "### 35). What are decorators in Python?"
   ]
  },
  {
   "cell_type": "markdown",
   "id": "6fc3fe57",
   "metadata": {},
   "source": [
    "In Python, a decorator is a special type of function that can be used to modify or enhance the behavior of another function without actually changing its source code. Decorators are implemented using the @ symbol followed by the name of the decorator function."
   ]
  },
  {
   "cell_type": "markdown",
   "id": "6330057c",
   "metadata": {},
   "source": [
    "### 36). remove items from a list while iterating but without creating a different copy of a list. Remove numbers greater than 50<br>number_list = [10, 20, 30, 40, 50, 60, 70, 80, 90, 100]<br>Expected Output : [10, 20, 30, 40, 50]"
   ]
  },
  {
   "cell_type": "code",
   "execution_count": 5,
   "id": "6b692b2f",
   "metadata": {},
   "outputs": [
    {
     "name": "stdout",
     "output_type": "stream",
     "text": [
      "[10, 20, 30, 40, 50]\n"
     ]
    }
   ],
   "source": [
    "number_list = [10, 20, 30, 40, 50, 60, 70, 80, 90, 100]\n",
    "for number in number_list[:] :\n",
    "    if number > 50 :\n",
    "        number_list.remove(number)\n",
    "print(number_list)"
   ]
  },
  {
   "cell_type": "markdown",
   "id": "775dd3f8",
   "metadata": {},
   "source": [
    "### 37). Display all duplicate items from a list <br>sample_list = [10, 20, 60, 30, 20, 40, 30, 60, 70, 80]<br>Expected Output: [20, 60, 30]"
   ]
  },
  {
   "cell_type": "code",
   "execution_count": 3,
   "id": "f8132727",
   "metadata": {},
   "outputs": [
    {
     "name": "stdout",
     "output_type": "stream",
     "text": [
      "[20, 60, 30]\n"
     ]
    }
   ],
   "source": [
    "sample_list = [10,20,60,30,20,40,30,60,70,80]\n",
    "Output = []\n",
    "for number in sample_list :\n",
    "    if sample_list.count(number) > 1 :\n",
    "        if number not in Output :\n",
    "            Output.append(number)\n",
    "print(Output)"
   ]
  },
  {
   "cell_type": "markdown",
   "id": "52d70ea1",
   "metadata": {},
   "source": [
    "### 38). Create an outer function that will accept two strings, x and y. (x= 'Emma' and y = 'Kelly'.Create an inner function inside an outer function that will concatenate x and y.At last, an outer function will join the word 'developer' to it."
   ]
  },
  {
   "cell_type": "code",
   "execution_count": 9,
   "id": "4adf59ee",
   "metadata": {},
   "outputs": [
    {
     "name": "stdout",
     "output_type": "stream",
     "text": [
      "EmmaKelly developer\n"
     ]
    }
   ],
   "source": [
    "def outer_function(x, y) :\n",
    "    def inner_function() :\n",
    "        return x + y\n",
    "    concatenated_string = inner_function()\n",
    "    return concatenated_string + ' developer'\n",
    "result = outer_function('Emma', 'Kelly')\n",
    "print(result)"
   ]
  },
  {
   "cell_type": "markdown",
   "id": "a7036c45",
   "metadata": {},
   "source": [
    "### 39. Modify the element of a nested list inside the following list Change the element 35 to 3500<br> list1 = [5, [10, 15, [20, 25, [30, 35], 40], 45], 50]"
   ]
  },
  {
   "cell_type": "code",
   "execution_count": 5,
   "id": "0d667931",
   "metadata": {},
   "outputs": [
    {
     "data": {
      "text/plain": [
       "[5, [10, 15, [20, 25, [30, 3500], 40], 45], 50]"
      ]
     },
     "execution_count": 5,
     "metadata": {},
     "output_type": "execute_result"
    }
   ],
   "source": [
    "list1 = [5,[10,15,[20,25,[30,35],40],45],50]\n",
    "list1[1][2][2][1] = 3500\n",
    "list1"
   ]
  },
  {
   "cell_type": "markdown",
   "id": "6e8dfbaa",
   "metadata": {},
   "source": [
    "### 40). Access the nested key increment from the following dictionary Access 12<br>emp_dict = {<br>&nbsp;&nbsp;&nbsp;\"company\": {<br>&nbsp;&nbsp;&nbsp;&nbsp;&nbsp;&nbsp;\"employee\": {<br>&nbsp;&nbsp;&nbsp;&nbsp;&nbsp;&nbsp;&nbsp;&nbsp;&nbsp;\"name\": \"Jess\",<br>&nbsp;&nbsp;&nbsp;&nbsp;&nbsp;&nbsp;&nbsp;&nbsp;&nbsp;\"payable\": {<br>&nbsp;&nbsp;&nbsp;&nbsp;&nbsp;&nbsp;&nbsp;&nbsp;&nbsp;&nbsp;&nbsp;&nbsp;\"salary\": 9000,<br>&nbsp;&nbsp;&nbsp;&nbsp;&nbsp;&nbsp;&nbsp;&nbsp;&nbsp;&nbsp;&nbsp;&nbsp;\"increment\": 12<br>&nbsp;&nbsp;&nbsp;&nbsp;&nbsp;&nbsp;&nbsp;&nbsp;&nbsp;}<br>&nbsp;&nbsp;&nbsp;&nbsp;&nbsp;&nbsp;}<br>&nbsp;&nbsp;&nbsp;}<br>}"
   ]
  },
  {
   "cell_type": "code",
   "execution_count": 9,
   "id": "eeecaa0e",
   "metadata": {},
   "outputs": [],
   "source": [
    "emp_dict = {\n",
    "    \"company\": {\n",
    "        \"employee\": {\n",
    "            \"name\": \"Jess\",\n",
    "            \"payable\": {\n",
    "                \"salary\": 9000,\n",
    "                \"increment\": 12\n",
    "            }\n",
    "        }\n",
    "    }\n",
    "}"
   ]
  },
  {
   "cell_type": "code",
   "execution_count": 10,
   "id": "de8f80a2",
   "metadata": {},
   "outputs": [
    {
     "data": {
      "text/plain": [
       "12"
      ]
     },
     "execution_count": 10,
     "metadata": {},
     "output_type": "execute_result"
    }
   ],
   "source": [
    "emp_dict[\"company\"][\"employee\"][\"payable\"][\"increment\"]"
   ]
  },
  {
   "cell_type": "markdown",
   "id": "1700f0ed",
   "metadata": {},
   "source": [
    "### 41). Print the sum of the current number and the previous number<br>Write a program to iterate the first 10 numbers and in each iteration, print the sum of the current and previous number.<br>Printing current and previous number sum in a range(10)<br>Current Number 0 Previous Number  0  Sum:  0<br>Current Number 1 Previous Number  0  Sum:  1<br>Current Number 2 Previous Number  1  Sum:  3<br>Current Number 3 Previous Number  2  Sum:  5<br>Current Number 4 Previous Number  3  Sum:  7<br>Current Number 5 Previous Number  4  Sum:  9<br>Current Number 6 Previous Number  5  Sum:  11<br>Current Number 7 Previous Number  6  Sum:  13<br>Current Number 8 Previous Number  7  Sum:  15<br>Current Number 9 Previous Number  8  Sum:  17"
   ]
  },
  {
   "cell_type": "code",
   "execution_count": 14,
   "id": "f174b202",
   "metadata": {},
   "outputs": [
    {
     "name": "stdout",
     "output_type": "stream",
     "text": [
      "Current Number 0 Previous Number 0 Sum : 0\n",
      "Current Number 1 Previous Number 0 Sum : 1\n",
      "Current Number 2 Previous Number 1 Sum : 3\n",
      "Current Number 3 Previous Number 2 Sum : 5\n",
      "Current Number 4 Previous Number 3 Sum : 7\n",
      "Current Number 5 Previous Number 4 Sum : 9\n",
      "Current Number 6 Previous Number 5 Sum : 11\n",
      "Current Number 7 Previous Number 6 Sum : 13\n",
      "Current Number 8 Previous Number 7 Sum : 15\n",
      "Current Number 9 Previous Number 8 Sum : 17\n"
     ]
    }
   ],
   "source": [
    "previous_number = 0\n",
    "for current_number in range(10):\n",
    "    current_sum = current_number + previous_number\n",
    "    print(f'Current Number {current_number} Previous Number {previous_number} Sum : {current_sum}' )\n",
    "    previous_number = current_number"
   ]
  },
  {
   "cell_type": "markdown",
   "id": "4afe5bea",
   "metadata": {},
   "source": [
    "### 42). Print characters from a string that are present at an even index number<br>Write a program to accept a string from the user and display characters that are present at an even index number.<br>For example, str = \"ineuron\" so you should display ‘i’, ‘e’, ‘r’, ‘n’."
   ]
  },
  {
   "cell_type": "code",
   "execution_count": 18,
   "id": "516f746e",
   "metadata": {},
   "outputs": [
    {
     "name": "stdout",
     "output_type": "stream",
     "text": [
      "Enter a string : ineuron fsds 2.0\n",
      "i e r n f d   . "
     ]
    }
   ],
   "source": [
    "a = input(\"Enter a string : \")\n",
    "for i in range(0, len(a), 2):\n",
    "    print(a[i], end=' ')"
   ]
  },
  {
   "cell_type": "markdown",
   "id": "1377837d",
   "metadata": {},
   "source": [
    "### 43). Print multiplication table form 1 to 10<br>1  2 3 4 5 6 7 8 9 10<br>2  4 6 8 10 12 14 16 18 20<br>3  6 9 12 15 18 21 24 27 30<br>4  8 12 16 20 24 28 32 36 40 <br>5  10 15 20 25 30 35 40 45 50<br>6  12 18 24 30 36 42 48 54 60 <br>7  14 21 28 35 42 49 56 63 70<br>8  16 24 32 40 48 56 64 72 80<br>9  18 27 36 45 54 63 72 81 90<br>10 20 30 40 50 60 70 80 90 100 "
   ]
  },
  {
   "cell_type": "code",
   "execution_count": 19,
   "id": "241c6130",
   "metadata": {},
   "outputs": [
    {
     "name": "stdout",
     "output_type": "stream",
     "text": [
      "1\t2\t3\t4\t5\t6\t7\t8\t9\t10\t\n",
      "2\t4\t6\t8\t10\t12\t14\t16\t18\t20\t\n",
      "3\t6\t9\t12\t15\t18\t21\t24\t27\t30\t\n",
      "4\t8\t12\t16\t20\t24\t28\t32\t36\t40\t\n",
      "5\t10\t15\t20\t25\t30\t35\t40\t45\t50\t\n",
      "6\t12\t18\t24\t30\t36\t42\t48\t54\t60\t\n",
      "7\t14\t21\t28\t35\t42\t49\t56\t63\t70\t\n",
      "8\t16\t24\t32\t40\t48\t56\t64\t72\t80\t\n",
      "9\t18\t27\t36\t45\t54\t63\t72\t81\t90\t\n",
      "10\t20\t30\t40\t50\t60\t70\t80\t90\t100\t\n"
     ]
    }
   ],
   "source": [
    "for i in range(1, 11):\n",
    "    for j in range(1, 11):\n",
    "        print(i * j, end=\"\\t\")\n",
    "    print()"
   ]
  },
  {
   "cell_type": "markdown",
   "id": "02be6e73",
   "metadata": {},
   "source": [
    "### 44). Remove duplicates from a list and create a tuple and find the minimum and maximum number<br>sample_list = [87, 45, 41, 65, 94, 41, 99, 94]<br>Expected Outcome:unique items [87, 45, 41, 65, 94, 99]<br>tuple (87, 45, 41, 65, 94, 99)<br>min: 41<br>max: 99"
   ]
  },
  {
   "cell_type": "code",
   "execution_count": 24,
   "id": "8035651a",
   "metadata": {},
   "outputs": [
    {
     "name": "stdout",
     "output_type": "stream",
     "text": [
      "unique items [41, 45, 65, 87, 94, 99]\n",
      "tuple (65, 99, 41, 45, 87, 94)\n",
      "min: 41\n",
      "max: 99\n"
     ]
    }
   ],
   "source": [
    "sample_list = [87, 45, 41, 65, 94, 41, 99, 94]\n",
    "unique_list = sorted(list(set(sample_list)))\n",
    "u_tuple = tuple(unique_list)\n",
    "min_val = unique_list[0]\n",
    "max_val = unique_list[-1]\n",
    "print(\"unique items\", unique_list)\n",
    "print(\"tuple\", unique_tuple)\n",
    "print(\"min:\", min_val)\n",
    "print(\"max:\", max_val)"
   ]
  },
  {
   "cell_type": "markdown",
   "id": "5dc79b75",
   "metadata": {},
   "source": [
    "### 45). Write a Python program to create a lambda function that adds 15 to a given number passed in as an argument, also create a lambda function that multiplies argument x with argument y and print the result."
   ]
  },
  {
   "cell_type": "code",
   "execution_count": 26,
   "id": "191de964",
   "metadata": {},
   "outputs": [
    {
     "name": "stdout",
     "output_type": "stream",
     "text": [
      "20\n",
      "12\n"
     ]
    }
   ],
   "source": [
    "b = lambda x : x + 15\n",
    "print(b(5))\n",
    "mul = lambda x, y : x * y\n",
    "print(mul(3, 4))"
   ]
  },
  {
   "cell_type": "markdown",
   "id": "7e9f994d",
   "metadata": {},
   "source": [
    "### 46). Write a Python program to sort a list of tuples using Lambda."
   ]
  },
  {
   "cell_type": "code",
   "execution_count": 28,
   "id": "8aaf03ff",
   "metadata": {},
   "outputs": [
    {
     "name": "stdout",
     "output_type": "stream",
     "text": [
      "[('FSDS', 2.0), ('September', 17), ('Ineuron', 2020), ('Batch', 2022)]\n"
     ]
    }
   ],
   "source": [
    "my_list = [('Ineuron', 2020), ('FSDS', 2.0), ('Batch', 2022), ('September', 17)]\n",
    "sorted_list = sorted(my_list, key=lambda x : x[1])\n",
    "print(sorted_list)"
   ]
  },
  {
   "cell_type": "markdown",
   "id": "b180c9fe",
   "metadata": {},
   "source": [
    "### 47). Write a Python program to extract year, month, date and time using Lambda."
   ]
  },
  {
   "cell_type": "code",
   "execution_count": 29,
   "id": "caf741ad",
   "metadata": {},
   "outputs": [
    {
     "name": "stdout",
     "output_type": "stream",
     "text": [
      "Year: 2023\n",
      "Month: 03\n",
      "Day: 24\n",
      "Time: 11:29:15\n"
     ]
    }
   ],
   "source": [
    "import datetime\n",
    "now = datetime.datetime.now()\n",
    "get_year = lambda x: x.strftime(\"%Y\")\n",
    "get_month = lambda x: x.strftime(\"%m\")\n",
    "get_day = lambda x: x.strftime(\"%d\")\n",
    "get_time = lambda x: x.strftime(\"%H:%M:%S\")\n",
    "year = get_year(now)\n",
    "month = get_month(now)\n",
    "day = get_day(now)\n",
    "time = get_time(now)\n",
    "print(\"Year:\", year)\n",
    "print(\"Month:\", month)\n",
    "print(\"Day:\", day)\n",
    "print(\"Time:\", time)"
   ]
  },
  {
   "cell_type": "markdown",
   "id": "44259777",
   "metadata": {},
   "source": [
    "### 48). Write a Python program to count the even, odd numbers in a given array of integers using Lambda."
   ]
  },
  {
   "cell_type": "code",
   "execution_count": 31,
   "id": "9360f1aa",
   "metadata": {},
   "outputs": [
    {
     "name": "stdout",
     "output_type": "stream",
     "text": [
      "Even numbers: 4\n",
      "Odd numbers: 6\n"
     ]
    }
   ],
   "source": [
    "my_array = [13, 82, 33, 44, 55, 86, 74, 83, 19,89]\n",
    "count_even = len(list(filter(lambda x: x % 2 == 0, my_array)))\n",
    "count_odd = len(list(filter(lambda x: x % 2 != 0, my_array)))\n",
    "print(\"Even numbers:\", count_even)\n",
    "print(\"Odd numbers:\", count_odd)"
   ]
  },
  {
   "cell_type": "markdown",
   "id": "98db6318",
   "metadata": {},
   "source": [
    "### 49.) Write a Python program to convert all the characters in uppercase and lowercase and eliminate duplicate letters from a given sequence.<br>Use map() function."
   ]
  },
  {
   "cell_type": "code",
   "execution_count": 32,
   "id": "27cff4c0",
   "metadata": {},
   "outputs": [
    {
     "name": "stdout",
     "output_type": "stream",
     "text": [
      "INEURON FSDS 2.0 SEPTEMBER BATCH\n",
      "ineuron fsds 2.0 september batch\n",
      "2Fp BcbIe.tauo0SDrhmn\n"
     ]
    }
   ],
   "source": [
    "def transform_string(s):\n",
    "    s_upper = ''.join(map(str.upper, s))\n",
    "    s_lower = ''.join(map(str.lower, s))\n",
    "    s_unique = ''.join(set(s))\n",
    "    return s_upper, s_lower, s_unique\n",
    "s = \"Ineuron FSDS 2.0 September Batch\"\n",
    "s_upper, s_lower, s_unique = transform_string(s)\n",
    "print(s_upper)\n",
    "print(s_lower)\n",
    "print(s_unique)"
   ]
  },
  {
   "cell_type": "markdown",
   "id": "29285f87",
   "metadata": {},
   "source": [
    "### 50). Write a Python program to square the elements of a list using map() function."
   ]
  },
  {
   "cell_type": "code",
   "execution_count": 33,
   "id": "7825b9fa",
   "metadata": {},
   "outputs": [
    {
     "name": "stdout",
     "output_type": "stream",
     "text": [
      "[121, 484, 64, 361, 625]\n"
     ]
    }
   ],
   "source": [
    "def square_list(lst):\n",
    "    return list(map(lambda x: x**2, lst))\n",
    "lst = [11, 22, 8, 19, 25]\n",
    "squared_lst = square_list(lst)\n",
    "print(squared_lst)"
   ]
  },
  {
   "cell_type": "code",
   "execution_count": null,
   "id": "ab3b5cd4",
   "metadata": {},
   "outputs": [],
   "source": []
  }
 ],
 "metadata": {
  "kernelspec": {
   "display_name": "Python 3 (ipykernel)",
   "language": "python",
   "name": "python3"
  },
  "language_info": {
   "codemirror_mode": {
    "name": "ipython",
    "version": 3
   },
   "file_extension": ".py",
   "mimetype": "text/x-python",
   "name": "python",
   "nbconvert_exporter": "python",
   "pygments_lexer": "ipython3",
   "version": "3.9.12"
  }
 },
 "nbformat": 4,
 "nbformat_minor": 5
}
