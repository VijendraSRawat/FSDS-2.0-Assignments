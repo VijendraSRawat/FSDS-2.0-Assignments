{
 "cells": [
  {
   "cell_type": "markdown",
   "id": "67534ed7",
   "metadata": {},
   "source": [
    "## 1). Count the number of times iNeuron appears in the string."
   ]
  },
  {
   "cell_type": "code",
   "execution_count": 28,
   "id": "ed9cb9f7",
   "metadata": {},
   "outputs": [
    {
     "data": {
      "text/plain": [
       "3"
      ]
     },
     "execution_count": 28,
     "metadata": {},
     "output_type": "execute_result"
    }
   ],
   "source": [
    "text = \"Welcome to iNeuron, You are a part of FSDS Bootcamp 2 in iNeuron. I hope you are enjoying the course by iNeuron\"\n",
    "text.count('iNeuron')"
   ]
  },
  {
   "cell_type": "markdown",
   "id": "2c74e432",
   "metadata": {},
   "source": [
    "## 2). Check if position 5 to 11 ends with the phrase iNeuron. in the string"
   ]
  },
  {
   "cell_type": "code",
   "execution_count": 29,
   "id": "00548855",
   "metadata": {},
   "outputs": [
    {
     "name": "stdout",
     "output_type": "stream",
     "text": [
      "iNeuron is not present in this position\n"
     ]
    }
   ],
   "source": [
    "txt = \"Hello, welcome to FSDS 2.0 at iNeuron.\"\n",
    "if txt[5:11] == 'iNeuron' :\n",
    "    print('iNeuron is present in this position')\n",
    "else :\n",
    "    print('iNeuron is not present in this position')"
   ]
  },
  {
   "cell_type": "markdown",
   "id": "5beafc75",
   "metadata": {},
   "source": [
    "## 3). Write a program that takes your full name as input and displays the abbreviations of the first and middle names except the last name which is displayed as it is. For example, if your name is Sunny Bhaveen Chandra, then the output should be S.B.Chandra."
   ]
  },
  {
   "cell_type": "code",
   "execution_count": 30,
   "id": "261825d5",
   "metadata": {},
   "outputs": [
    {
     "name": "stdout",
     "output_type": "stream",
     "text": [
      "Enter your name : Vijendra Singh Rawat\n",
      "V.S.Rawat\n"
     ]
    }
   ],
   "source": [
    "name = input('Enter your name : ')\n",
    "fname,mname,lname = name.split(' ')\n",
    "print(f'{fname[0]}.{mname[0]}.{lname}')"
   ]
  },
  {
   "cell_type": "markdown",
   "id": "bf6ac072",
   "metadata": {},
   "source": [
    "## 4). Join all items in a list into a string, using a hash(#) character as separator:"
   ]
  },
  {
   "cell_type": "code",
   "execution_count": 31,
   "id": "9691a64d",
   "metadata": {},
   "outputs": [
    {
     "data": {
      "text/plain": [
       "'My#name#is#Rishav#Dash'"
      ]
     },
     "execution_count": 31,
     "metadata": {},
     "output_type": "execute_result"
    }
   ],
   "source": [
    "LIST = [\"My\", \"name\", \"is\", \"Rishav\", \"Dash\"]\n",
    "'#'.join(LIST)"
   ]
  },
  {
   "cell_type": "markdown",
   "id": "40386968",
   "metadata": {},
   "source": [
    "## 5). Write example for the following string manipulation function,\n",
    "- isdecimal()\n",
    "- islower()\n",
    "- isupper()\n",
    "- isalpha()\n",
    "- isnumeric()"
   ]
  },
  {
   "cell_type": "code",
   "execution_count": 32,
   "id": "41fdc407",
   "metadata": {},
   "outputs": [
    {
     "name": "stdout",
     "output_type": "stream",
     "text": [
      "True\n",
      "True\n",
      "True\n",
      "True\n",
      "True\n"
     ]
    }
   ],
   "source": [
    "print('245'.isdecimal())\n",
    "print('vijendra'.islower())\n",
    "print('VIJENDRA'.isupper())\n",
    "print('alphabet'.isalpha())\n",
    "print('Ⅶ'.isnumeric())"
   ]
  },
  {
   "cell_type": "markdown",
   "id": "312a5dbe",
   "metadata": {},
   "source": [
    "## 6). Indian PAN card format follows the following formats -\n",
    "\n",
    "AYEPC7894X\n",
    "ABCDE9999Y Take user input for PAN_CARD and validate as per the above example."
   ]
  },
  {
   "cell_type": "code",
   "execution_count": 33,
   "id": "0a57625e",
   "metadata": {},
   "outputs": [
    {
     "name": "stdout",
     "output_type": "stream",
     "text": [
      "Enter PAN_CARD details : GTUUO9808P\n",
      "This is valid PAN_CARD details\n"
     ]
    }
   ],
   "source": [
    "PAN = input(\"Enter PAN_CARD details : \")\n",
    "x = PAN[0:5]\n",
    "y = PAN[5:9]\n",
    "z = PAN[9:10]\n",
    "if PAN.isupper() == True and x.isalpha() == True and y.isdigit() == True and z.isalpha() == True :\n",
    "    print('This is valid PAN_CARD details')\n",
    "else :\n",
    "    print('This is not valid PAN_CARD details')"
   ]
  },
  {
   "cell_type": "code",
   "execution_count": null,
   "id": "70b1a29d",
   "metadata": {},
   "outputs": [],
   "source": []
  }
 ],
 "metadata": {
  "kernelspec": {
   "display_name": "Python 3 (ipykernel)",
   "language": "python",
   "name": "python3"
  },
  "language_info": {
   "codemirror_mode": {
    "name": "ipython",
    "version": 3
   },
   "file_extension": ".py",
   "mimetype": "text/x-python",
   "name": "python",
   "nbconvert_exporter": "python",
   "pygments_lexer": "ipython3",
   "version": "3.9.12"
  }
 },
 "nbformat": 4,
 "nbformat_minor": 5
}
