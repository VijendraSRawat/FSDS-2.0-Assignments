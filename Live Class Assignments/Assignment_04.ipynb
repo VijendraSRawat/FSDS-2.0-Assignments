{
 "cells": [
  {
   "cell_type": "markdown",
   "id": "ef8fcd33",
   "metadata": {},
   "source": [
    "## 1). Find the largest number from the given list, use for loop."
   ]
  },
  {
   "cell_type": "code",
   "execution_count": 1,
   "id": "a0333712",
   "metadata": {},
   "outputs": [
    {
     "name": "stdout",
     "output_type": "stream",
     "text": [
      "Largest number from the given list :  525\n"
     ]
    }
   ],
   "source": [
    "numbers = [12, 75, 150, 180, 145, 525, 50]\n",
    "largest = numbers[0]\n",
    "for i in numbers :\n",
    "    if i > largest :\n",
    "        largest = i\n",
    "print('Largest number from the given list : ',largest)"
   ]
  },
  {
   "cell_type": "markdown",
   "id": "e1725336",
   "metadata": {},
   "source": [
    "## 2). Print all the even number between (1, 12)."
   ]
  },
  {
   "cell_type": "code",
   "execution_count": 2,
   "id": "b58777cf",
   "metadata": {},
   "outputs": [
    {
     "name": "stdout",
     "output_type": "stream",
     "text": [
      "2\n",
      "4\n",
      "6\n",
      "8\n",
      "10\n"
     ]
    }
   ],
   "source": [
    "for i in range(1,12) :\n",
    "    if i%2 == 0 :\n",
    "        print(i)"
   ]
  },
  {
   "cell_type": "markdown",
   "id": "e2176d2d",
   "metadata": {},
   "source": [
    "## 3). Calculate the sum of all numbers from 1 to a given number\n",
    "Expected Output:\n",
    "\n",
    "Enter number 10\n",
    "\n",
    "Sum is:  55"
   ]
  },
  {
   "cell_type": "code",
   "execution_count": 3,
   "id": "39daa0f5",
   "metadata": {},
   "outputs": [
    {
     "name": "stdout",
     "output_type": "stream",
     "text": [
      "Enter a number : 10\n",
      "Sum of all numbers from 1 to given number is :  55\n"
     ]
    }
   ],
   "source": [
    "n = int(input('Enter a number : '))\n",
    "sum = 0\n",
    "for num in range(1,n+1) :\n",
    "    sum = sum + num\n",
    "print('Sum of all numbers from 1 to given number is : ',sum)"
   ]
  },
  {
   "cell_type": "markdown",
   "id": "f134484d",
   "metadata": {},
   "source": [
    "## 4). Write a program to display only those numbers from a list that satisfy the following conditions\n",
    "\n",
    "The number must be divisible by five\n",
    "\n",
    "If the number is greater than 150, then skip it and move to the next number\n",
    "\n",
    "If the number is greater than 500, then stop the loop "
   ]
  },
  {
   "cell_type": "code",
   "execution_count": 7,
   "id": "e515280e",
   "metadata": {},
   "outputs": [
    {
     "name": "stdout",
     "output_type": "stream",
     "text": [
      "75\n",
      "150\n",
      "145\n"
     ]
    }
   ],
   "source": [
    "numbers = [12, 75, 150, 180, 145, 525, 50]\n",
    "for num in numbers :\n",
    "    if num > 500 :\n",
    "        break\n",
    "    elif num > 150 :\n",
    "        continue\n",
    "    elif num%5==0 :\n",
    "        print(num)"
   ]
  },
  {
   "cell_type": "markdown",
   "id": "d6235db1",
   "metadata": {},
   "source": [
    "## 5). Print the given list in reverse order."
   ]
  },
  {
   "cell_type": "code",
   "execution_count": 8,
   "id": "0a7ecb0b",
   "metadata": {},
   "outputs": [
    {
     "name": "stdout",
     "output_type": "stream",
     "text": [
      "[50, 40, 30, 20, 10]\n"
     ]
    }
   ],
   "source": [
    "list1 = [10, 20, 30, 40, 50]\n",
    "print(list1[::-1])"
   ]
  },
  {
   "cell_type": "code",
   "execution_count": null,
   "id": "16e337de",
   "metadata": {},
   "outputs": [],
   "source": []
  }
 ],
 "metadata": {
  "kernelspec": {
   "display_name": "Python 3 (ipykernel)",
   "language": "python",
   "name": "python3"
  },
  "language_info": {
   "codemirror_mode": {
    "name": "ipython",
    "version": 3
   },
   "file_extension": ".py",
   "mimetype": "text/x-python",
   "name": "python",
   "nbconvert_exporter": "python",
   "pygments_lexer": "ipython3",
   "version": "3.9.12"
  }
 },
 "nbformat": 4,
 "nbformat_minor": 5
}
