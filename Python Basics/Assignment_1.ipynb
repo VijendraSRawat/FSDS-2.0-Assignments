{
 "cells": [
  {
   "cell_type": "markdown",
   "id": "e2219a52",
   "metadata": {},
   "source": [
    "# 1). In the below elements which of them are values or an expression? \n",
    "eg:- values can be integer or string and expressions will be mathematical operators.\n",
    "*, 'hello', -87.8, -, /, +, 6"
   ]
  },
  {
   "cell_type": "raw",
   "id": "dd00e3a1",
   "metadata": {},
   "source": [
    "Expression = *, -, /, +\n",
    "Values = 'hello', -87.8, 6"
   ]
  },
  {
   "cell_type": "markdown",
   "id": "69a63a3b",
   "metadata": {},
   "source": [
    "## 2). What is the difference between string and variable?"
   ]
  },
  {
   "cell_type": "raw",
   "id": "b038aebc",
   "metadata": {},
   "source": [
    "string --> It's a value representing text.\n",
    "variable --> variable is a name that can refer to any value"
   ]
  },
  {
   "cell_type": "markdown",
   "id": "9348c8b2",
   "metadata": {},
   "source": [
    "## 3). Describe three different data types. "
   ]
  },
  {
   "cell_type": "raw",
   "id": "55f65a75",
   "metadata": {},
   "source": [
    "int --> we can use int data type to represent the positive or negative whole numbers (without fraction or decimal).\n",
    "string --> collection of one or more characters in a single quote,double quote or triple quote\n",
    "boolean --> in this data type two built-in values are there, True or False"
   ]
  },
  {
   "cell_type": "code",
   "execution_count": 1,
   "id": "9be680b5",
   "metadata": {},
   "outputs": [
    {
     "name": "stdout",
     "output_type": "stream",
     "text": [
      "<class 'int'> 67\n",
      "<class 'str'> your data is 100% secure\n",
      "<class 'complex'> (3+6j)\n"
     ]
    }
   ],
   "source": [
    "# Examples of the data types\n",
    "num = 67\n",
    "print(type(num),num)\n",
    "\n",
    "note = 'your data is 100% secure'\n",
    "print(type(note),note)\n",
    "\n",
    "comp = 3+6j\n",
    "print(type(comp),comp)"
   ]
  },
  {
   "cell_type": "markdown",
   "id": "197e77d8",
   "metadata": {},
   "source": [
    "## 4). What is an expression made up of? What do all expressions do?"
   ]
  },
  {
   "cell_type": "raw",
   "id": "87367a58",
   "metadata": {},
   "source": [
    "An expression is a combination of variables,values,operands,operators that is interpreted to produce some other value."
   ]
  },
  {
   "cell_type": "markdown",
   "id": "9c37dfe2",
   "metadata": {},
   "source": [
    "## 5). This assignment statements, like spam = 10. What is the difference between an expression and a statement?"
   ]
  },
  {
   "cell_type": "raw",
   "id": "9b04431f",
   "metadata": {},
   "source": [
    "An expression is a combination of variables,values,operators that is interpreted to produce some other value.\n",
    "statement represent an action or command eg. print statement"
   ]
  },
  {
   "cell_type": "markdown",
   "id": "2da591bb",
   "metadata": {},
   "source": [
    "## 6). After running the following code, what does the variable bacon contain?"
   ]
  },
  {
   "cell_type": "code",
   "execution_count": 2,
   "id": "e1e2b0e5",
   "metadata": {},
   "outputs": [
    {
     "name": "stdout",
     "output_type": "stream",
     "text": [
      "22\n"
     ]
    }
   ],
   "source": [
    "bacon = 22\n",
    "bacon + 1\n",
    "print(bacon) #bacon will contain 22"
   ]
  },
  {
   "cell_type": "markdown",
   "id": "66e6612d",
   "metadata": {},
   "source": [
    "## 7). What should the values of the following two terms be?"
   ]
  },
  {
   "cell_type": "code",
   "execution_count": 4,
   "id": "b69cd038",
   "metadata": {},
   "outputs": [
    {
     "name": "stdout",
     "output_type": "stream",
     "text": [
      "spamspamspam\n",
      "spamspamspam\n"
     ]
    }
   ],
   "source": [
    "print('spam'+'spamspam')\n",
    "print('spam'*3)\n",
    "# both will print same"
   ]
  },
  {
   "cell_type": "markdown",
   "id": "39674163",
   "metadata": {},
   "source": [
    "## 8). Why is eggs a valid variable name while 100 is invalid?"
   ]
  },
  {
   "cell_type": "raw",
   "id": "d5bfaa2d",
   "metadata": {},
   "source": [
    "According to python rule a variable name can't start with number so 100 is invalid variable name and eggs is valid variable name."
   ]
  },
  {
   "cell_type": "markdown",
   "id": "e48c9a49",
   "metadata": {},
   "source": [
    "## 9). What three functions can be used to get the integer, floating-point number, or string version of a value?"
   ]
  },
  {
   "cell_type": "raw",
   "id": "73345d3b",
   "metadata": {},
   "source": [
    "The int(), float(), and str() functions will evaluate to the integer, floating-point number and string versions of the value passed to them."
   ]
  },
  {
   "cell_type": "code",
   "execution_count": 5,
   "id": "ca3b0304",
   "metadata": {},
   "outputs": [
    {
     "name": "stdout",
     "output_type": "stream",
     "text": [
      "<class 'int'>\n",
      "<class 'float'>\n",
      "<class 'str'>\n"
     ]
    }
   ],
   "source": [
    "# Example\n",
    "\n",
    "num = 10\n",
    "print(type(int(num)))\n",
    "print(type(float(num)))\n",
    "print(type(str(num)))"
   ]
  },
  {
   "cell_type": "markdown",
   "id": "9214ed99",
   "metadata": {},
   "source": [
    "## 10). Why does this expression cause an error? How can you fix it?\n",
    "'I have eaten ' + 99 + 'burritos.'"
   ]
  },
  {
   "cell_type": "code",
   "execution_count": 6,
   "id": "d689a90f",
   "metadata": {},
   "outputs": [
    {
     "ename": "TypeError",
     "evalue": "can only concatenate str (not \"int\") to str",
     "output_type": "error",
     "traceback": [
      "\u001b[1;31m---------------------------------------------------------------------------\u001b[0m",
      "\u001b[1;31mTypeError\u001b[0m                                 Traceback (most recent call last)",
      "Input \u001b[1;32mIn [6]\u001b[0m, in \u001b[0;36m<cell line: 1>\u001b[1;34m()\u001b[0m\n\u001b[1;32m----> 1\u001b[0m \u001b[38;5;124;43m'\u001b[39;49m\u001b[38;5;124;43mI have eaten \u001b[39;49m\u001b[38;5;124;43m'\u001b[39;49m\u001b[43m \u001b[49m\u001b[38;5;241;43m+\u001b[39;49m\u001b[43m \u001b[49m\u001b[38;5;241;43m99\u001b[39;49m \u001b[38;5;241m+\u001b[39m \u001b[38;5;124m'\u001b[39m\u001b[38;5;124mburritos.\u001b[39m\u001b[38;5;124m'\u001b[39m\n",
      "\u001b[1;31mTypeError\u001b[0m: can only concatenate str (not \"int\") to str"
     ]
    }
   ],
   "source": [
    "'I have eaten ' + 99 + 'burritos.' #it will give error because 99 is integer and others are string so we can't concatenate int with string"
   ]
  },
  {
   "cell_type": "code",
   "execution_count": 8,
   "id": "4b1c2b09",
   "metadata": {},
   "outputs": [
    {
     "data": {
      "text/plain": [
       "'I have eaten 99 burritos.'"
      ]
     },
     "execution_count": 8,
     "metadata": {},
     "output_type": "execute_result"
    }
   ],
   "source": [
    "'I have eaten ' + '99 ' + 'burritos.' #to remove the error we have to convert 99 into string"
   ]
  }
 ],
 "metadata": {
  "kernelspec": {
   "display_name": "Python 3 (ipykernel)",
   "language": "python",
   "name": "python3"
  },
  "language_info": {
   "codemirror_mode": {
    "name": "ipython",
    "version": 3
   },
   "file_extension": ".py",
   "mimetype": "text/x-python",
   "name": "python",
   "nbconvert_exporter": "python",
   "pygments_lexer": "ipython3",
   "version": "3.9.12"
  }
 },
 "nbformat": 4,
 "nbformat_minor": 5
}
