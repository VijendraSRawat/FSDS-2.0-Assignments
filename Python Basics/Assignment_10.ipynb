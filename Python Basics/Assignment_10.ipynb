{
 "cells": [
  {
   "cell_type": "markdown",
   "id": "9992b33f",
   "metadata": {},
   "source": [
    "### 1). How do you distinguish between shutil.copy() and shutil.copytree()?"
   ]
  },
  {
   "cell_type": "markdown",
   "id": "0c23f429",
   "metadata": {},
   "source": [
    "**`shutil.copy()`** will copy a single file and **`shutil.copytree()`** will copy an entire folder and every folder and file contained in it."
   ]
  },
  {
   "cell_type": "markdown",
   "id": "c029e420",
   "metadata": {},
   "source": [
    "### 2). What function is used to rename files?"
   ]
  },
  {
   "cell_type": "markdown",
   "id": "c9b11c66",
   "metadata": {},
   "source": [
    "**`os.rename()`** is used to rename files"
   ]
  },
  {
   "cell_type": "markdown",
   "id": "833df3a4",
   "metadata": {},
   "source": [
    "### 3). What is the difference between the delete functions in the send2trash and shutil modules?"
   ]
  },
  {
   "cell_type": "markdown",
   "id": "c35c96b9",
   "metadata": {},
   "source": [
    "**`send2trash`** function move a file or folder to the recycle bin, while **`shutil`** function permanently delete file or folder."
   ]
  },
  {
   "cell_type": "markdown",
   "id": "339cd585",
   "metadata": {},
   "source": [
    "### 4). ZipFile objects have a close() method just like File objects’ close() method. What ZipFile method is equivalent to File objects’ open() method?"
   ]
  },
  {
   "cell_type": "markdown",
   "id": "03ffc8d5",
   "metadata": {},
   "source": [
    "The equivalent to method File objects' **`open()`** method for ZipFile is objects the **`ZipFile()`** constructor method."
   ]
  },
  {
   "cell_type": "markdown",
   "id": "14ae94dc",
   "metadata": {},
   "source": [
    "### 5). Create a programme that searches a folder tree for files with a certain file extension (such as .pdf or .jpg). Copy these files from whatever location they are in to a new folder."
   ]
  },
  {
   "cell_type": "code",
   "execution_count": 23,
   "id": "cf94b36f",
   "metadata": {},
   "outputs": [
    {
     "name": "stdout",
     "output_type": "stream",
     "text": [
      "Files have been successfully copied from C:\\Users\\rawat\\2. Python Basics to C:\\Users\\rawat\\2. Python Basics\\new destination\n"
     ]
    }
   ],
   "source": [
    "def copyFile(src,dst,ext):\n",
    "    try:\n",
    "        import os,shutil\n",
    "        for file in os.listdir(src):\n",
    "            if file.endswith(ext):\n",
    "                shutil.copy(os.path.join(src,file),dst)\n",
    "        print(f'Files have been successfully copied from {src} to {dst}')\n",
    "    except Exception as e:\n",
    "        print(e)\n",
    "\n",
    "copyFile(r'C:\\Users\\rawat\\2. Python Basics', r'C:\\Users\\rawat\\2. Python Basics\\new destination', '.pdf')"
   ]
  },
  {
   "cell_type": "code",
   "execution_count": null,
   "id": "82100801",
   "metadata": {},
   "outputs": [],
   "source": []
  }
 ],
 "metadata": {
  "kernelspec": {
   "display_name": "Python 3 (ipykernel)",
   "language": "python",
   "name": "python3"
  },
  "language_info": {
   "codemirror_mode": {
    "name": "ipython",
    "version": 3
   },
   "file_extension": ".py",
   "mimetype": "text/x-python",
   "name": "python",
   "nbconvert_exporter": "python",
   "pygments_lexer": "ipython3",
   "version": "3.9.12"
  }
 },
 "nbformat": 4,
 "nbformat_minor": 5
}
