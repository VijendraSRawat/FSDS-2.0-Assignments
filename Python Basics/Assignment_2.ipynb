{
 "cells": [
  {
   "cell_type": "markdown",
   "id": "5b8ae6c7",
   "metadata": {},
   "source": [
    "## 1). What are the two values of the Boolean data type? How do you write them?"
   ]
  },
  {
   "cell_type": "raw",
   "id": "d63b0c93",
   "metadata": {},
   "source": [
    "Two Boolean data types : True and False"
   ]
  },
  {
   "cell_type": "code",
   "execution_count": 18,
   "id": "c2e62f33",
   "metadata": {},
   "outputs": [
    {
     "name": "stdout",
     "output_type": "stream",
     "text": [
      "True False\n"
     ]
    }
   ],
   "source": [
    "#Example\n",
    "a = True\n",
    "b = False\n",
    "print(a,b)"
   ]
  },
  {
   "cell_type": "markdown",
   "id": "2d4ceb24",
   "metadata": {},
   "source": [
    "## 2). What are the three different types of Boolean operators?"
   ]
  },
  {
   "cell_type": "raw",
   "id": "c69c2868",
   "metadata": {},
   "source": [
    "Three types of Boolean operators : or,and,not "
   ]
  },
  {
   "cell_type": "markdown",
   "id": "43566b56",
   "metadata": {},
   "source": [
    "## 3). Make a list of each Boolean operator's truth tables (i.e. every possible combination of Boolean values for the operator and what it evaluate ). "
   ]
  },
  {
   "cell_type": "markdown",
   "id": "914c800f",
   "metadata": {},
   "source": [
    "### (i). Truth table for 'or' operator"
   ]
  },
  {
   "cell_type": "raw",
   "id": "156381b0",
   "metadata": {},
   "source": [
    "True or True is True\n",
    "True or False is True\n",
    "False or True is True\n",
    "False or False is False"
   ]
  },
  {
   "cell_type": "markdown",
   "id": "717bbaa0",
   "metadata": {},
   "source": [
    "### (ii). Truth table for 'and' operator "
   ]
  },
  {
   "cell_type": "raw",
   "id": "d0937012",
   "metadata": {},
   "source": [
    "True and True is True\n",
    "True and False is False\n",
    "False and True is False\n",
    "False and False is False"
   ]
  },
  {
   "cell_type": "markdown",
   "id": "cdbdfdac",
   "metadata": {},
   "source": [
    "### (iii). Truth table for 'not' operator "
   ]
  },
  {
   "cell_type": "raw",
   "id": "efa7693a",
   "metadata": {},
   "source": [
    "not True is False\n",
    "not False is True"
   ]
  },
  {
   "cell_type": "markdown",
   "id": "2320c3c1",
   "metadata": {},
   "source": [
    "## 4). What are the values of the following expressions?"
   ]
  },
  {
   "cell_type": "code",
   "execution_count": 19,
   "id": "cf13bf45",
   "metadata": {},
   "outputs": [
    {
     "name": "stdout",
     "output_type": "stream",
     "text": [
      "False\n",
      "False\n",
      "True\n",
      "False\n",
      "False\n",
      "True\n"
     ]
    }
   ],
   "source": [
    "print((5>4) and (3==5))\n",
    "print(not(5>4))\n",
    "print((5>4) or (3==5))\n",
    "print(not(5>4) or (3==5))\n",
    "print((True and True) and (True==False))\n",
    "print((not(False))or(not(True)))"
   ]
  },
  {
   "cell_type": "markdown",
   "id": "d179bbf0",
   "metadata": {},
   "source": [
    "## 5). What are the six comparison operators?"
   ]
  },
  {
   "cell_type": "raw",
   "id": "8e3aeef0",
   "metadata": {},
   "source": [
    "Six comparison operators : ==,!=,<,>,<=,>="
   ]
  },
  {
   "cell_type": "markdown",
   "id": "e1fdbaca",
   "metadata": {},
   "source": [
    "## 6). How do you tell the difference between the equal to and assignment operators?Describe a condition and when you would use one."
   ]
  },
  {
   "cell_type": "raw",
   "id": "c165f7cd",
   "metadata": {},
   "source": [
    "== comapres two values and evaluates to a boolean and  = stores a value in a variable."
   ]
  },
  {
   "cell_type": "code",
   "execution_count": 20,
   "id": "cca93752",
   "metadata": {},
   "outputs": [
    {
     "name": "stdout",
     "output_type": "stream",
     "text": [
      "True\n"
     ]
    }
   ],
   "source": [
    "a = 8 # assigning operator that stores 8 value in a\n",
    "if a == 8 : # comparing the values of a variable and 8\n",
    "    print(a==8)"
   ]
  },
  {
   "cell_type": "markdown",
   "id": "3d3d5e8d",
   "metadata": {},
   "source": [
    "## 7). Identify the three blocks in this code:"
   ]
  },
  {
   "cell_type": "code",
   "execution_count": 21,
   "id": "447ebc32",
   "metadata": {},
   "outputs": [
    {
     "name": "stdout",
     "output_type": "stream",
     "text": [
      "ham\n",
      "spam\n",
      "spam\n"
     ]
    }
   ],
   "source": [
    "spam = 0\n",
    "if spam == 10:\n",
    "    print('eggs') # Block 1\n",
    "if spam > 5:\n",
    "    print('bacon') # Block 2\n",
    "else:\n",
    "    print('ham') # Block 3\n",
    "print('spam')\n",
    "print('spam')"
   ]
  },
  {
   "cell_type": "markdown",
   "id": "ca5c6717",
   "metadata": {},
   "source": [
    "## 8).  Write code that prints Hello if 1 is stored in spam, prints Howdy if 2 is stored in spam, and prints Greetings! if anything else is stored in spam."
   ]
  },
  {
   "cell_type": "code",
   "execution_count": 22,
   "id": "d6b93337",
   "metadata": {},
   "outputs": [
    {
     "name": "stdout",
     "output_type": "stream",
     "text": [
      "Enter a number : 2\n",
      "Howdy\n"
     ]
    }
   ],
   "source": [
    "spam = int(input('Enter a number : '))\n",
    "if spam == 1 :\n",
    "    print('Hello')\n",
    "elif spam == 2 :\n",
    "    print('Howdy')\n",
    "else :\n",
    "    print('Greetings!')"
   ]
  },
  {
   "cell_type": "markdown",
   "id": "b1a75944",
   "metadata": {},
   "source": [
    "## 9). If your programme is stuck in an endless loop, what keys you’ll press?"
   ]
  },
  {
   "cell_type": "raw",
   "id": "dc01910d",
   "metadata": {},
   "source": [
    "if our programme will stuck in an endless loop then we will press 'Ctrl+c'"
   ]
  },
  {
   "cell_type": "markdown",
   "id": "697bdb8b",
   "metadata": {},
   "source": [
    "## 10). How can you tell the difference between break and continue?"
   ]
  },
  {
   "cell_type": "raw",
   "id": "4dcc680c",
   "metadata": {},
   "source": [
    "break statement stops the entire process of the loop but continue statement only stops the current iteration of the loop."
   ]
  },
  {
   "cell_type": "code",
   "execution_count": 23,
   "id": "653782ae",
   "metadata": {},
   "outputs": [
    {
     "name": "stdout",
     "output_type": "stream",
     "text": [
      "1\n",
      "2\n",
      "3\n",
      "4\n",
      "6\n",
      "7\n",
      "8\n",
      "9\n",
      "10\n",
      "11\n"
     ]
    }
   ],
   "source": [
    "# Example\n",
    "for i in range(1,16) :\n",
    "    if i == 5 :\n",
    "        continue\n",
    "    elif i == 12 :\n",
    "        break\n",
    "    print(i)"
   ]
  },
  {
   "cell_type": "markdown",
   "id": "8c88e7b0",
   "metadata": {},
   "source": [
    "## 11). In a for loop, what is the difference between range(10), range(0, 10), and range(0, 10, 1)?"
   ]
  },
  {
   "cell_type": "raw",
   "id": "91eb1fde",
   "metadata": {},
   "source": [
    "range(10) : call range from 0 to 9 (not include 10)\n",
    "range (0,10) : explicitly tells the loop to start from 0 to 9 (not include 10)\n",
    "range(0,10,1) : explicitly tells the loop to start from 0 to 9 (not include 10) and increase the variable by 1 on each iteration"
   ]
  },
  {
   "cell_type": "markdown",
   "id": "be0d42d1",
   "metadata": {},
   "source": [
    "## 12). Write a short program that prints the numbers 1 to 10 using a for loop. Then write an equivalent program that prints the numbers 1 to 10 using a while loop."
   ]
  },
  {
   "cell_type": "code",
   "execution_count": 24,
   "id": "932b95ed",
   "metadata": {},
   "outputs": [
    {
     "name": "stdout",
     "output_type": "stream",
     "text": [
      "prints the numbers 1 to 10 using for loop\n",
      "1\n",
      "2\n",
      "3\n",
      "4\n",
      "5\n",
      "6\n",
      "7\n",
      "8\n",
      "9\n",
      "10\n",
      "prints the numbers 1 to 10 using while loop\n",
      "1\n",
      "2\n",
      "3\n",
      "4\n",
      "5\n",
      "6\n",
      "7\n",
      "8\n",
      "9\n",
      "10\n"
     ]
    }
   ],
   "source": [
    "print('prints the numbers 1 to 10 using for loop')\n",
    "for i in range(1,11) :\n",
    "    print(i)\n",
    "    \n",
    "print('prints the numbers 1 to 10 using while loop')\n",
    "a = 1\n",
    "while(a<=10) :\n",
    "    print(a)\n",
    "    a = a+1"
   ]
  },
  {
   "cell_type": "markdown",
   "id": "e2f1eb9d",
   "metadata": {},
   "source": [
    "## 13). If you had a function named bacon() inside a module named spam, how would you call it after importing spam?"
   ]
  },
  {
   "cell_type": "raw",
   "id": "1c02a355",
   "metadata": {},
   "source": [
    "This function can be called with spam.bacon()"
   ]
  },
  {
   "cell_type": "code",
   "execution_count": null,
   "id": "e51387ee",
   "metadata": {},
   "outputs": [],
   "source": []
  }
 ],
 "metadata": {
  "kernelspec": {
   "display_name": "Python 3 (ipykernel)",
   "language": "python",
   "name": "python3"
  },
  "language_info": {
   "codemirror_mode": {
    "name": "ipython",
    "version": 3
   },
   "file_extension": ".py",
   "mimetype": "text/x-python",
   "name": "python",
   "nbconvert_exporter": "python",
   "pygments_lexer": "ipython3",
   "version": "3.9.12"
  }
 },
 "nbformat": 4,
 "nbformat_minor": 5
}
