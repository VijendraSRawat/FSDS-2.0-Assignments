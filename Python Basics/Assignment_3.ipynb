{
 "cells": [
  {
   "cell_type": "markdown",
   "id": "5cd7ee2e",
   "metadata": {},
   "source": [
    "## 1). Why are functions advantageous to have in your programs?"
   ]
  },
  {
   "cell_type": "markdown",
   "id": "e2b968da",
   "metadata": {},
   "source": [
    "Functions enable reuse of code, improve maintainability and scalability.\n",
    "Functions reduce the need for duplicate code. This makes programs shorter, easier to read, and easier to update."
   ]
  },
  {
   "cell_type": "markdown",
   "id": "ca56ad66",
   "metadata": {},
   "source": [
    "## 2). When does the code in a function run: when it's specified or when it's called?"
   ]
  },
  {
   "cell_type": "markdown",
   "id": "4680b233",
   "metadata": {},
   "source": [
    "The code in a function executes when the function is called, not when the function is specified."
   ]
  },
  {
   "cell_type": "markdown",
   "id": "21252e07",
   "metadata": {},
   "source": [
    "## 3). What statement creates a function?"
   ]
  },
  {
   "cell_type": "markdown",
   "id": "90771c0b",
   "metadata": {},
   "source": [
    "The **def** statement defines a function"
   ]
  },
  {
   "cell_type": "markdown",
   "id": "3f495b13",
   "metadata": {},
   "source": [
    "## 4). What is the difference between a function and a function call?"
   ]
  },
  {
   "cell_type": "markdown",
   "id": "c461041f",
   "metadata": {},
   "source": [
    "Function --> A function is a block of code that does a particular operation and returns a result. It usually accepts inputs as parameters and returns a result. &ensp; The parameters are not mandatory.<br>\n",
    "Function Call --> A function call is the code used to pass control to a function."
   ]
  },
  {
   "cell_type": "markdown",
   "id": "1fb0bf5b",
   "metadata": {},
   "source": [
    "## 5). How many global scopes are there in a Python program? How many local scopes?"
   ]
  },
  {
   "cell_type": "markdown",
   "id": "f84eb275",
   "metadata": {},
   "source": [
    "There's only one global Python scope per program execution. This scope remains in existence until the program terminates , and a local scope is created whenever a function is called."
   ]
  },
  {
   "cell_type": "markdown",
   "id": "831369dd",
   "metadata": {},
   "source": [
    "## 6). What happens to variables in a local scope when the function call returns?"
   ]
  },
  {
   "cell_type": "markdown",
   "id": "d9e6ef29",
   "metadata": {},
   "source": [
    "When a function returns, the local scope is destroyed."
   ]
  },
  {
   "cell_type": "markdown",
   "id": "9f3c6d68",
   "metadata": {},
   "source": [
    "## 7). What is the concept of a return value? Is it possible to have a return value in an expression?"
   ]
  },
  {
   "cell_type": "markdown",
   "id": "a830a88a",
   "metadata": {},
   "source": [
    "A return value is the value that a function call evaluates to. Like any value, a return value can be used as part of an expression."
   ]
  },
  {
   "cell_type": "markdown",
   "id": "1e617918",
   "metadata": {},
   "source": [
    "## 8). If a function does not have a return statement, what is the return value of a call to that function?"
   ]
  },
  {
   "cell_type": "markdown",
   "id": "25778681",
   "metadata": {},
   "source": [
    "If a function doesn't specify a return value, it returns **None**."
   ]
  },
  {
   "cell_type": "markdown",
   "id": "587fcc89",
   "metadata": {},
   "source": [
    "## 9). How do you make a function variable refer to the global variable? "
   ]
  },
  {
   "cell_type": "markdown",
   "id": "15d160a5",
   "metadata": {},
   "source": [
    "To make function variable as a global variable we can use the **global** keyword to declare which variables are global."
   ]
  },
  {
   "cell_type": "markdown",
   "id": "8accc937",
   "metadata": {},
   "source": [
    "## 10). What is the data type of None? "
   ]
  },
  {
   "cell_type": "markdown",
   "id": "947d44a9",
   "metadata": {},
   "source": [
    "The data type of None is **NoneType**."
   ]
  },
  {
   "cell_type": "markdown",
   "id": "9abcda77",
   "metadata": {},
   "source": [
    "## 11). What does the sentence import areallyourpetsnamederic do?"
   ]
  },
  {
   "cell_type": "markdown",
   "id": "69194ccc",
   "metadata": {},
   "source": [
    "That import statement imports a module named areallyourpetsnamederic."
   ]
  },
  {
   "cell_type": "markdown",
   "id": "28bfd4b7",
   "metadata": {},
   "source": [
    "## 12). If you had a bacon() feature in a spam module, what would you call it after importing spam? "
   ]
  },
  {
   "cell_type": "markdown",
   "id": "a4b53f7e",
   "metadata": {},
   "source": [
    "This function can be called with **spam.bacon()**."
   ]
  },
  {
   "cell_type": "markdown",
   "id": "b11bfca6",
   "metadata": {},
   "source": [
    "## 13). What can you do to save a programme from crashing if it encounters an error?"
   ]
  },
  {
   "cell_type": "markdown",
   "id": "cc1d3597",
   "metadata": {},
   "source": [
    "Place the line of code that might cause an error in a **try** clause."
   ]
  },
  {
   "cell_type": "markdown",
   "id": "18f19a66",
   "metadata": {},
   "source": [
    "## 14). What is the purpose of the try clause? What is the purpose of the except clause?"
   ]
  },
  {
   "cell_type": "markdown",
   "id": "5b283dc7",
   "metadata": {},
   "source": [
    "The code that could potentially cause an error goes in the **try** clause.<br>\n",
    "The code that executes if an error happens goes in the **except** clause."
   ]
  },
  {
   "cell_type": "code",
   "execution_count": null,
   "id": "450d7c63",
   "metadata": {},
   "outputs": [],
   "source": []
  }
 ],
 "metadata": {
  "kernelspec": {
   "display_name": "Python 3 (ipykernel)",
   "language": "python",
   "name": "python3"
  },
  "language_info": {
   "codemirror_mode": {
    "name": "ipython",
    "version": 3
   },
   "file_extension": ".py",
   "mimetype": "text/x-python",
   "name": "python",
   "nbconvert_exporter": "python",
   "pygments_lexer": "ipython3",
   "version": "3.9.12"
  }
 },
 "nbformat": 4,
 "nbformat_minor": 5
}
