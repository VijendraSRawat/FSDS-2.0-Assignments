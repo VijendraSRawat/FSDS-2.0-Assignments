{
 "cells": [
  {
   "cell_type": "markdown",
   "id": "927c53ec",
   "metadata": {},
   "source": [
    "## 1). What exactly is []?"
   ]
  },
  {
   "cell_type": "markdown",
   "id": "dc4bafac",
   "metadata": {},
   "source": [
    "The empty list value, which is a list value that contains no items."
   ]
  },
  {
   "cell_type": "markdown",
   "id": "3962ee01",
   "metadata": {},
   "source": [
    "## 2). In a list of values stored in a variable called spam, how would you assign the value &#39;hello&#39; as the third value? (Assume [2, 4, 6, 8, 10] are in spam.)"
   ]
  },
  {
   "cell_type": "code",
   "execution_count": 1,
   "id": "7b224845",
   "metadata": {},
   "outputs": [
    {
     "name": "stdout",
     "output_type": "stream",
     "text": [
      "[2, 4, 6, 8, 10]\n",
      "[2, 4, 'hello', 8, 10]\n"
     ]
    }
   ],
   "source": [
    "# Solution\n",
    "\n",
    "spam = [2,4,6,8,10]\n",
    "print(spam)\n",
    "spam[2] = 'hello'\n",
    "print(spam)"
   ]
  },
  {
   "cell_type": "markdown",
   "id": "5431f1cd",
   "metadata": {},
   "source": [
    "## Lets pretend the spam includes the list ['a', 'b','c','d'] for the next three queries.<br><br><br>3). What is the value of spam[int(int(3 * 2) / 11)]?"
   ]
  },
  {
   "cell_type": "code",
   "execution_count": 2,
   "id": "496987d3",
   "metadata": {},
   "outputs": [
    {
     "data": {
      "text/plain": [
       "'d'"
      ]
     },
     "execution_count": 2,
     "metadata": {},
     "output_type": "execute_result"
    }
   ],
   "source": [
    "spam = ['a', 'b','c','d']\n",
    "spam[int(int('3'*2)/11)]   # spam[int(int(33)/11)] = spam[3] = d"
   ]
  },
  {
   "cell_type": "markdown",
   "id": "cdf9d8c3",
   "metadata": {},
   "source": [
    "## 4). What is the value of spam[-1]?"
   ]
  },
  {
   "cell_type": "code",
   "execution_count": 3,
   "id": "be085a39",
   "metadata": {},
   "outputs": [
    {
     "data": {
      "text/plain": [
       "'d'"
      ]
     },
     "execution_count": 3,
     "metadata": {},
     "output_type": "execute_result"
    }
   ],
   "source": [
    "spam[-1]  # negative index start from last"
   ]
  },
  {
   "cell_type": "markdown",
   "id": "bf51abaf",
   "metadata": {},
   "source": [
    "## 5). What is the value of spam[:2]?"
   ]
  },
  {
   "cell_type": "code",
   "execution_count": 4,
   "id": "73339551",
   "metadata": {},
   "outputs": [
    {
     "data": {
      "text/plain": [
       "['a', 'b']"
      ]
     },
     "execution_count": 4,
     "metadata": {},
     "output_type": "execute_result"
    }
   ],
   "source": [
    "spam[:2]  # it will count from start(0 index) to first index"
   ]
  },
  {
   "cell_type": "markdown",
   "id": "75d2cd41",
   "metadata": {},
   "source": [
    "## Let's pretend bacon has the list [3.14, 'cat' 11, 'cat' True] for the next three questions.<br><br><br>6). What is the value of bacon.index('cat')?"
   ]
  },
  {
   "cell_type": "code",
   "execution_count": 5,
   "id": "10e31fd6",
   "metadata": {},
   "outputs": [
    {
     "data": {
      "text/plain": [
       "1"
      ]
     },
     "execution_count": 5,
     "metadata": {},
     "output_type": "execute_result"
    }
   ],
   "source": [
    "bacon = [3.14,'cat',11,'cat',True]\n",
    "bacon.index('cat')  # will return the index of first occurence"
   ]
  },
  {
   "cell_type": "markdown",
   "id": "57489c9c",
   "metadata": {},
   "source": [
    "## 7). How does bacon.append(99) change the look of the list value in bacon?"
   ]
  },
  {
   "cell_type": "markdown",
   "id": "76b3c87b",
   "metadata": {},
   "source": [
    "**bacon.append(99)** will add 99 in the end of the **bacon** list"
   ]
  },
  {
   "cell_type": "code",
   "execution_count": 6,
   "id": "4ebf59f5",
   "metadata": {},
   "outputs": [
    {
     "name": "stdout",
     "output_type": "stream",
     "text": [
      "[3.14, 'cat', 11, 'cat', True]\n",
      "[3.14, 'cat', 11, 'cat', True, 99]\n"
     ]
    }
   ],
   "source": [
    "# Solution\n",
    "\n",
    "print(bacon)\n",
    "bacon.append(99)\n",
    "print(bacon)"
   ]
  },
  {
   "cell_type": "markdown",
   "id": "a266749c",
   "metadata": {},
   "source": [
    "## 8). How does bacon.remove('cat') change the look of the list in bacon?"
   ]
  },
  {
   "cell_type": "markdown",
   "id": "0c85a31f",
   "metadata": {},
   "source": [
    "**bacon.remove('cat')** will remove first occurence of cat from **bacon** list"
   ]
  },
  {
   "cell_type": "code",
   "execution_count": 7,
   "id": "78487497",
   "metadata": {},
   "outputs": [
    {
     "name": "stdout",
     "output_type": "stream",
     "text": [
      "[3.14, 'cat', 11, 'cat', True, 99]\n",
      "[3.14, 11, 'cat', True, 99]\n"
     ]
    }
   ],
   "source": [
    "# Solution\n",
    "\n",
    "print(bacon)\n",
    "bacon.remove('cat')\n",
    "print(bacon)"
   ]
  },
  {
   "cell_type": "markdown",
   "id": "7adde5eb",
   "metadata": {},
   "source": [
    "## 9). What are the list concatenation and list replication operators?"
   ]
  },
  {
   "cell_type": "markdown",
   "id": "a4efee80",
   "metadata": {},
   "source": [
    "The operators for list concatenation is `+` and for replication `*`"
   ]
  },
  {
   "cell_type": "code",
   "execution_count": 9,
   "id": "2e5aa0de",
   "metadata": {},
   "outputs": [
    {
     "name": "stdout",
     "output_type": "stream",
     "text": [
      "Concatenation of both list :  ['DL', 'UP', 'UK', 'GJ', 'BR', 'MH', 'JK', 'HR', 'CH', 'KA', 'MP', 'KL', 'PB', 'WB']\n",
      "Replication of the first list :  ['DL', 'UP', 'UK', 'GJ', 'BR', 'MH', 'JK', 'DL', 'UP', 'UK', 'GJ', 'BR', 'MH', 'JK']\n"
     ]
    }
   ],
   "source": [
    "# Example\n",
    "\n",
    "list1 = ['DL','UP','UK','GJ','BR','MH','JK']\n",
    "list2 = ['HR','CH','KA','MP','KL','PB','WB']\n",
    "print('Concatenation of both list : ',list1 + list2)\n",
    "print('Replication of the first list : ',list1 * 2)"
   ]
  },
  {
   "cell_type": "markdown",
   "id": "4556ac0e",
   "metadata": {},
   "source": [
    "## 10). What is difference between the list methods append() and insert()?"
   ]
  },
  {
   "cell_type": "markdown",
   "id": "21fcd560",
   "metadata": {},
   "source": [
    "**append()** --> it will add the values at the end of a list<br>\n",
    "**insert()** --> it will add the values anywhere in the list"
   ]
  },
  {
   "cell_type": "markdown",
   "id": "dab145dd",
   "metadata": {},
   "source": [
    "## 11). What are the two methods for removing items from a list? "
   ]
  },
  {
   "cell_type": "markdown",
   "id": "7dc55659",
   "metadata": {},
   "source": [
    "The **del** statement and the **remove()** method are the two methods for removing items from a list"
   ]
  },
  {
   "cell_type": "markdown",
   "id": "bc50c54a",
   "metadata": {},
   "source": [
    "## 12). Describe how list values and string values are identical."
   ]
  },
  {
   "cell_type": "markdown",
   "id": "609971c1",
   "metadata": {},
   "source": [
    "**1**). Can be used in **for** loops<br>\n",
    "**2**). Have indexes and slices<br>\n",
    "**3**). Can be concatenated or replicated<br>\n",
    "**4**). Both lists and strings can be passed to **len()**<br>\n",
    "**5**). Can be used with the **in** and **not in** operators"
   ]
  },
  {
   "cell_type": "markdown",
   "id": "cecaff15",
   "metadata": {},
   "source": [
    "## 13). What's the difference between tuples and lists?"
   ]
  },
  {
   "cell_type": "markdown",
   "id": "bcdd99d5",
   "metadata": {},
   "source": [
    "**Tuples** --> tuples are immutable; they cannot be changed at all. Tuples are written using parentheses, ( and )<br>\n",
    "**Lists** --> lists are mutable - they can have values added, removed, or changed. lists use the square brackets, [ and ]"
   ]
  },
  {
   "cell_type": "markdown",
   "id": "5f74793a",
   "metadata": {},
   "source": [
    "## 14). How do you type a tuple value that only contains the integer 42?"
   ]
  },
  {
   "cell_type": "code",
   "execution_count": 12,
   "id": "c0aece05",
   "metadata": {},
   "outputs": [
    {
     "name": "stdout",
     "output_type": "stream",
     "text": [
      "<class 'tuple'>\n",
      "<class 'int'>\n"
     ]
    }
   ],
   "source": [
    "tuple = (42,)\n",
    "tuple1 = (42)\n",
    "print(type(tuple))\n",
    "print(type(tuple1)) # without trailing comma python interpreter will consider it as integer"
   ]
  },
  {
   "cell_type": "markdown",
   "id": "d87f12d3",
   "metadata": {},
   "source": [
    "## 15). How do you get a list value's tuple form? How do you get a tuple value's list form?"
   ]
  },
  {
   "cell_type": "markdown",
   "id": "4b8cbc56",
   "metadata": {},
   "source": [
    "The **tuple()** and **list()** functions, respectively are used to convert a list to tuple and vice versa"
   ]
  },
  {
   "cell_type": "markdown",
   "id": "b7ad6edd",
   "metadata": {},
   "source": [
    "## 16). Variables that \"contain\" list values are not necessarily lists themselves. Instead, what do they contain?"
   ]
  },
  {
   "cell_type": "markdown",
   "id": "e8424de0",
   "metadata": {},
   "source": [
    "They contain references to list values"
   ]
  },
  {
   "cell_type": "markdown",
   "id": "7606add3",
   "metadata": {},
   "source": [
    "## 17). How do you distinguish between copy.copy() and copy.deepcopy()?"
   ]
  },
  {
   "cell_type": "markdown",
   "id": "4aa4fbe4",
   "metadata": {},
   "source": [
    "The **copy.copy()** function will do a shallow copy of a list, while the **copy.deepcopy()** function will do a deep copy of a list. That is, only **copy.deepcopy()** will duplicate any lists inside the list."
   ]
  },
  {
   "cell_type": "code",
   "execution_count": null,
   "id": "3d584b7d",
   "metadata": {},
   "outputs": [],
   "source": []
  }
 ],
 "metadata": {
  "kernelspec": {
   "display_name": "Python 3 (ipykernel)",
   "language": "python",
   "name": "python3"
  },
  "language_info": {
   "codemirror_mode": {
    "name": "ipython",
    "version": 3
   },
   "file_extension": ".py",
   "mimetype": "text/x-python",
   "name": "python",
   "nbconvert_exporter": "python",
   "pygments_lexer": "ipython3",
   "version": "3.9.12"
  }
 },
 "nbformat": 4,
 "nbformat_minor": 5
}
