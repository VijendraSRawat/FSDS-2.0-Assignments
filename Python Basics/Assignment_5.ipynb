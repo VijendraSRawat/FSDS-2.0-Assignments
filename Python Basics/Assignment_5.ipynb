{
 "cells": [
  {
   "cell_type": "markdown",
   "id": "b72235c3",
   "metadata": {},
   "source": [
    "## 1). What does an empty dictionary's code look like?"
   ]
  },
  {
   "cell_type": "markdown",
   "id": "e748539a",
   "metadata": {},
   "source": [
    "An empty dictionary is represented by two empty curly brackets **{}** "
   ]
  },
  {
   "cell_type": "code",
   "execution_count": 1,
   "id": "bfd4be1d",
   "metadata": {},
   "outputs": [
    {
     "data": {
      "text/plain": [
       "dict"
      ]
     },
     "execution_count": 1,
     "metadata": {},
     "output_type": "execute_result"
    }
   ],
   "source": [
    "# Example\n",
    "\n",
    "dictionary = {}\n",
    "type(dictionary)"
   ]
  },
  {
   "cell_type": "markdown",
   "id": "1a296fcd",
   "metadata": {},
   "source": [
    "## 2). What is the value of a dictionary value with the key 'foo' and the value 42?"
   ]
  },
  {
   "cell_type": "code",
   "execution_count": 2,
   "id": "f83ac51e",
   "metadata": {},
   "outputs": [
    {
     "data": {
      "text/plain": [
       "{'foo': 42}"
      ]
     },
     "execution_count": 2,
     "metadata": {},
     "output_type": "execute_result"
    }
   ],
   "source": [
    "{'foo':42}"
   ]
  },
  {
   "cell_type": "markdown",
   "id": "d135bb1b",
   "metadata": {},
   "source": [
    "## 3). What is the most significant distinction between a dictionary and a list?"
   ]
  },
  {
   "cell_type": "markdown",
   "id": "2d1c83cb",
   "metadata": {},
   "source": [
    "**Dictionary** --> It is represented by **{}** and items in dictionary are **unordered** <br>\n",
    "**List** --> It is represented by **[]** and items in list are **ordered**"
   ]
  },
  {
   "cell_type": "markdown",
   "id": "958c9f90",
   "metadata": {},
   "source": [
    "## 4). What happens if you try to access spam['foo'] if spam is {'bar': 100}? "
   ]
  },
  {
   "cell_type": "code",
   "execution_count": 3,
   "id": "ec57a23f",
   "metadata": {},
   "outputs": [
    {
     "ename": "KeyError",
     "evalue": "'foo'",
     "output_type": "error",
     "traceback": [
      "\u001b[1;31m---------------------------------------------------------------------------\u001b[0m",
      "\u001b[1;31mKeyError\u001b[0m                                  Traceback (most recent call last)",
      "Input \u001b[1;32mIn [3]\u001b[0m, in \u001b[0;36m<cell line: 5>\u001b[1;34m()\u001b[0m\n\u001b[0;32m      1\u001b[0m \u001b[38;5;66;03m# Solution\u001b[39;00m\n\u001b[0;32m      4\u001b[0m spam \u001b[38;5;241m=\u001b[39m {\u001b[38;5;124m'\u001b[39m\u001b[38;5;124mbar\u001b[39m\u001b[38;5;124m'\u001b[39m:\u001b[38;5;241m100\u001b[39m}\n\u001b[1;32m----> 5\u001b[0m \u001b[43mspam\u001b[49m\u001b[43m[\u001b[49m\u001b[38;5;124;43m'\u001b[39;49m\u001b[38;5;124;43mfoo\u001b[39;49m\u001b[38;5;124;43m'\u001b[39;49m\u001b[43m]\u001b[49m\n",
      "\u001b[1;31mKeyError\u001b[0m: 'foo'"
     ]
    }
   ],
   "source": [
    "# Solution\n",
    "\n",
    "\n",
    "spam = {'bar':100}\n",
    "spam['foo'] # Will give KeyError"
   ]
  },
  {
   "cell_type": "markdown",
   "id": "624e8d7c",
   "metadata": {},
   "source": [
    "## 5). If a dictionary is stored in spam, what is the difference between the expressions 'cat' in spam and 'cat' in spam.keys()?"
   ]
  },
  {
   "cell_type": "code",
   "execution_count": 4,
   "id": "8e993fe4",
   "metadata": {},
   "outputs": [
    {
     "name": "stdout",
     "output_type": "stream",
     "text": [
      "True\n",
      "True\n"
     ]
    }
   ],
   "source": [
    "# Solution\n",
    "\n",
    "spam ={'cat':100}\n",
    "print('cat' in spam)\n",
    "\n",
    "print('cat' in spam.keys())\n",
    "\n",
    "# No differnce, both check if 'cat' is key of the dictionary and if its a key, returns True."
   ]
  },
  {
   "cell_type": "markdown",
   "id": "9a0cb95e",
   "metadata": {},
   "source": [
    "## 6). If a dictionary is stored in spam, what is the difference between the expressions 'cat' in spam and 'cat' in spam.values()?"
   ]
  },
  {
   "cell_type": "code",
   "execution_count": 5,
   "id": "f8fd7e0b",
   "metadata": {},
   "outputs": [
    {
     "name": "stdout",
     "output_type": "stream",
     "text": [
      "True\n",
      "False\n"
     ]
    }
   ],
   "source": [
    "# Solution\n",
    "\n",
    "\n",
    "spam ={'cat':100}\n",
    "print('cat' in spam) # checks whether there is a 'cat' key in the dictionary\n",
    "\n",
    "spam ={'cat':100}\n",
    "print('cat' in spam.values()) # checks whether there is a value 'cat' for one of the keys in spam."
   ]
  },
  {
   "cell_type": "markdown",
   "id": "33ce32a1",
   "metadata": {},
   "source": [
    "## 7). What is a shortcut for the following code?<br><br>                                                                     if 'color' not in spam:<br>                                                                                                                 spam['color'] ='black'"
   ]
  },
  {
   "cell_type": "code",
   "execution_count": 6,
   "id": "7c09c9f3",
   "metadata": {},
   "outputs": [
    {
     "data": {
      "text/plain": [
       "{'cat': 100, 'color': 'black'}"
      ]
     },
     "execution_count": 6,
     "metadata": {},
     "output_type": "execute_result"
    }
   ],
   "source": [
    "spam ={'cat':100}\n",
    "spam.setdefault('color','black')\n",
    "spam"
   ]
  },
  {
   "cell_type": "markdown",
   "id": "29bb174f",
   "metadata": {},
   "source": [
    "## 8).How do you 'pretty print' dictionary values using which module and function?"
   ]
  },
  {
   "cell_type": "code",
   "execution_count": 7,
   "id": "b00613ac",
   "metadata": {},
   "outputs": [
    {
     "name": "stdout",
     "output_type": "stream",
     "text": [
      "[{'Age': '25', 'Name': 'Vijju', 'State': 'Uttarakhand'},\n",
      " {'Age': '44', 'Name': 'Aditya', 'State': 'Uttar Pradesh'},\n",
      " {'Age': '29', 'Name': 'Sijo', 'State': 'Kerala'},\n",
      " {'Age': '35', 'Name': 'Sameer', 'State': 'West Bengal'}]\n"
     ]
    }
   ],
   "source": [
    "import pprint\n",
    "dictn = [ {'Name': 'Vijju', 'Age': '25', 'State': 'Uttarakhand'},\n",
    "  {'Name': 'Aditya', 'Age': '44', 'State': 'Uttar Pradesh'},\n",
    "  {'Name': 'Sijo', 'Age': '29', 'State': 'Kerala'},\n",
    "  {'Name': 'Sameer', 'Age': '35', 'State': 'West Bengal'}\n",
    "]\n",
    "pprint.pprint(dictn)"
   ]
  },
  {
   "cell_type": "code",
   "execution_count": null,
   "id": "81d87be9",
   "metadata": {},
   "outputs": [],
   "source": []
  }
 ],
 "metadata": {
  "kernelspec": {
   "display_name": "Python 3 (ipykernel)",
   "language": "python",
   "name": "python3"
  },
  "language_info": {
   "codemirror_mode": {
    "name": "ipython",
    "version": 3
   },
   "file_extension": ".py",
   "mimetype": "text/x-python",
   "name": "python",
   "nbconvert_exporter": "python",
   "pygments_lexer": "ipython3",
   "version": "3.9.12"
  }
 },
 "nbformat": 4,
 "nbformat_minor": 5
}
