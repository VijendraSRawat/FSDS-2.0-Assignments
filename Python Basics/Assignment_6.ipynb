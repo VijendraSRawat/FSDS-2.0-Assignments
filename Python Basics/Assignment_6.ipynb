{
 "cells": [
  {
   "cell_type": "markdown",
   "id": "e5da10ce",
   "metadata": {},
   "source": [
    "## 1). What are escape characters, and how do you use them?"
   ]
  },
  {
   "cell_type": "markdown",
   "id": "71bfd46e",
   "metadata": {},
   "source": [
    "An escape character is a backslash `\\` followed by the character you want to insert."
   ]
  },
  {
   "cell_type": "code",
   "execution_count": 1,
   "id": "522f37fb",
   "metadata": {},
   "outputs": [
    {
     "name": "stdout",
     "output_type": "stream",
     "text": [
      "Full stack Data Science 2.0\n"
     ]
    }
   ],
   "source": [
    "# Example\n",
    "\n",
    "print('Full \\\n",
    "stack \\\n",
    "Data \\\n",
    "Science \\\n",
    "2.0')"
   ]
  },
  {
   "cell_type": "markdown",
   "id": "315c9b7a",
   "metadata": {},
   "source": [
    "## 2). What do the escape characters n and t stand for?"
   ]
  },
  {
   "cell_type": "markdown",
   "id": "0068f93b",
   "metadata": {},
   "source": [
    "**\\n** is a newline and **\\t** is a tab"
   ]
  },
  {
   "cell_type": "code",
   "execution_count": 2,
   "id": "235e5d87",
   "metadata": {},
   "outputs": [
    {
     "name": "stdout",
     "output_type": "stream",
     "text": [
      "Full Stack Data Science 2.0 \n",
      "\tSeptember Batch\n"
     ]
    }
   ],
   "source": [
    "# Example\n",
    "\n",
    "print('Full Stack Data Science 2.0 \\n\\tSeptember Batch')"
   ]
  },
  {
   "cell_type": "markdown",
   "id": "64d2330d",
   "metadata": {},
   "source": [
    "## 3). What is the way to include backslash characters in a string?"
   ]
  },
  {
   "cell_type": "markdown",
   "id": "dd9beab2",
   "metadata": {},
   "source": [
    "The `\\\\` escape character will represent the backslash character in a string"
   ]
  },
  {
   "cell_type": "markdown",
   "id": "e93b63d3",
   "metadata": {},
   "source": [
    "## 4). The string \"Howl's Moving Castle\" is a correct value. Why isn't the single quote character in the word Howl's not escaped a problem? "
   ]
  },
  {
   "cell_type": "markdown",
   "id": "3e837c5e",
   "metadata": {},
   "source": [
    "The string **\"Howl's Moving Castle\"** escaped the problem because it is wrapped inside double quotes. if its wrapped inside single quotes then we have to use escape character `\\'` to show single quote in the final output"
   ]
  },
  {
   "cell_type": "code",
   "execution_count": 3,
   "id": "86434f42",
   "metadata": {},
   "outputs": [
    {
     "data": {
      "text/plain": [
       "\"Howl's Moving Castle\""
      ]
     },
     "execution_count": 3,
     "metadata": {},
     "output_type": "execute_result"
    }
   ],
   "source": [
    "# Example\n",
    "\n",
    "'Howl\\'s Moving Castle'"
   ]
  },
  {
   "cell_type": "markdown",
   "id": "2e8f3b38",
   "metadata": {},
   "source": [
    "## 5). How do you write a string of newlines if you don't want to use the n character?"
   ]
  },
  {
   "cell_type": "markdown",
   "id": "115feb42",
   "metadata": {},
   "source": [
    "Multiline strings allow you to use newlines in string without the `\\n` escape character"
   ]
  },
  {
   "cell_type": "code",
   "execution_count": 4,
   "id": "31bec332",
   "metadata": {},
   "outputs": [
    {
     "name": "stdout",
     "output_type": "stream",
     "text": [
      "iNeuron Full Stack\n",
      "Data Science 2.0\n"
     ]
    }
   ],
   "source": [
    "# Example\n",
    "\n",
    "course = '''iNeuron Full Stack\n",
    "Data Science 2.0'''\n",
    "\n",
    "print(course)"
   ]
  },
  {
   "cell_type": "markdown",
   "id": "02200746",
   "metadata": {},
   "source": [
    "## 6). What are the values of the given expressions ?<br><br>'Hello, world!'[1]<br>'Hello, world!'[0:5]<br>'Hello, world!'[:5]<br>'Hello, world!'[3:]"
   ]
  },
  {
   "cell_type": "code",
   "execution_count": 6,
   "id": "5a371022",
   "metadata": {},
   "outputs": [
    {
     "name": "stdout",
     "output_type": "stream",
     "text": [
      "e\n",
      "Hello\n",
      "Hello\n",
      "lo, world!\n"
     ]
    }
   ],
   "source": [
    "# Solution\n",
    "\n",
    "print('Hello, world!'[1]) # indexing start from 0 and 1 index in e\n",
    "print('Hello, world!'[0:5])  # indexing start from 0 and it will print till (last-1) index \n",
    "print('Hello, world!'[:5]) # by default index start from 0\n",
    "print('Hello, world!'[3:]) # # indexing start from 3 till end"
   ]
  },
  {
   "cell_type": "markdown",
   "id": "9af25f81",
   "metadata": {},
   "source": [
    "## 7). What are the values of the following expressions ?<br><br>'Hello'.upper()<br>'Hello'.upper().isupper()<br>'Hello'.upper().lower()"
   ]
  },
  {
   "cell_type": "code",
   "execution_count": 13,
   "id": "e0402778",
   "metadata": {},
   "outputs": [
    {
     "name": "stdout",
     "output_type": "stream",
     "text": [
      "HELLO\n",
      "True\n",
      "hello\n"
     ]
    }
   ],
   "source": [
    "# Solution\n",
    "\n",
    "print('Hello'.upper()) # it will convert all characters in upper case\n",
    "print('Hello'.upper().isupper()) # first it will convert all characters in upper case then it will check all characters are upper case or not\n",
    "print('Hello'.upper().lower()) # first it will convert all characters in upper case then it will convert all characters in lower case"
   ]
  },
  {
   "cell_type": "markdown",
   "id": "31d4f97b",
   "metadata": {},
   "source": [
    "## 8). What are the values of the following expressions?<br><br>'Remember, remember, the fifith of July.'.split()<br>'-'.join('There can only one'.split())"
   ]
  },
  {
   "cell_type": "code",
   "execution_count": 21,
   "id": "453c27de",
   "metadata": {},
   "outputs": [
    {
     "name": "stdout",
     "output_type": "stream",
     "text": [
      "['Remember,', 'remember,', 'the', 'fifith', 'of', 'July.']\n",
      "There-can-only-one\n"
     ]
    }
   ],
   "source": [
    "print('Remember, remember, the fifith of July.'.split()) # it will split\n",
    "print('-'.join('There can only one'.split())) # first it will split then it will join"
   ]
  },
  {
   "cell_type": "markdown",
   "id": "2e683e81",
   "metadata": {},
   "source": [
    "## 9). What are the methods for right-justifying, left-justifying and centering a string?"
   ]
  },
  {
   "cell_type": "markdown",
   "id": "816aea94",
   "metadata": {},
   "source": [
    "The `rjust()`,`ljust()`,`center()` string methods, respectively"
   ]
  },
  {
   "cell_type": "markdown",
   "id": "c20d5b6d",
   "metadata": {},
   "source": [
    "## 10). What is the best way to remove whitespace characters from the start or end ? "
   ]
  },
  {
   "cell_type": "markdown",
   "id": "68162b3f",
   "metadata": {},
   "source": [
    "The `lstrip()` and `rstrip()` methods remove whitesapce characters from the left and right ends of a string respectively"
   ]
  },
  {
   "cell_type": "code",
   "execution_count": null,
   "id": "56700c05",
   "metadata": {},
   "outputs": [],
   "source": []
  }
 ],
 "metadata": {
  "kernelspec": {
   "display_name": "Python 3 (ipykernel)",
   "language": "python",
   "name": "python3"
  },
  "language_info": {
   "codemirror_mode": {
    "name": "ipython",
    "version": 3
   },
   "file_extension": ".py",
   "mimetype": "text/x-python",
   "name": "python",
   "nbconvert_exporter": "python",
   "pygments_lexer": "ipython3",
   "version": "3.9.12"
  }
 },
 "nbformat": 4,
 "nbformat_minor": 5
}
