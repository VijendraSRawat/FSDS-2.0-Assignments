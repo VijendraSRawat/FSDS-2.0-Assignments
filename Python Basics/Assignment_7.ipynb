{
 "cells": [
  {
   "cell_type": "markdown",
   "id": "101a5634",
   "metadata": {},
   "source": [
    "### 1). What is the name of the feature responsible for generating Regex objects?"
   ]
  },
  {
   "cell_type": "markdown",
   "id": "d312c8d7",
   "metadata": {},
   "source": [
    "The **`re.compile()`** function returns **`Regex`** objects."
   ]
  },
  {
   "cell_type": "code",
   "execution_count": 1,
   "id": "20ecaa3f",
   "metadata": {},
   "outputs": [
    {
     "name": "stdout",
     "output_type": "stream",
     "text": [
      "re.compile('FSDS 2.0')\n"
     ]
    }
   ],
   "source": [
    "# Example\n",
    "\n",
    "import re\n",
    "a = re.compile(\"FSDS 2.0\")\n",
    "print(a)"
   ]
  },
  {
   "cell_type": "markdown",
   "id": "c85b7265",
   "metadata": {},
   "source": [
    "### 2). Why do raw strings often appear in Regex objects?"
   ]
  },
  {
   "cell_type": "markdown",
   "id": "25f61af0",
   "metadata": {},
   "source": [
    "Raw strings are used so that backslashes do not have to be escaped."
   ]
  },
  {
   "cell_type": "markdown",
   "id": "5de1b1ac",
   "metadata": {},
   "source": [
    "### 3). What is the return value of the `search()` method? "
   ]
  },
  {
   "cell_type": "markdown",
   "id": "6900f25e",
   "metadata": {},
   "source": [
    "The **`search()`** method returns **`Match`** objects, if the pattern is observed in the string else it returns a None"
   ]
  },
  {
   "cell_type": "markdown",
   "id": "8efa05bb",
   "metadata": {},
   "source": [
    "### 4). From a Match item, how do you get the actual strings that match the pattern?"
   ]
  },
  {
   "cell_type": "markdown",
   "id": "36368e73",
   "metadata": {},
   "source": [
    "The **`group()`** method returns strings of the matched text"
   ]
  },
  {
   "cell_type": "code",
   "execution_count": 2,
   "id": "f637c45b",
   "metadata": {},
   "outputs": [
    {
     "name": "stdout",
     "output_type": "stream",
     "text": [
      "Show :  Ineuron\n"
     ]
    }
   ],
   "source": [
    "# Example\n",
    "\n",
    "import re\n",
    "match = re.search('ineuron','Ineuron FSDS 2.0', flags=re.IGNORECASE)\n",
    "print('Show : ',match.group())"
   ]
  },
  {
   "cell_type": "markdown",
   "id": "0b0565cb",
   "metadata": {},
   "source": [
    "### 5). In the regex which created from the `r'(\\d\\d\\d)-(\\d\\d\\d-\\d\\d\\d\\d)'`, what does group zero cover? Group 2? Group 1? "
   ]
  },
  {
   "cell_type": "markdown",
   "id": "75e59ef9",
   "metadata": {},
   "source": [
    " In the Regex **`r'(\\d\\d\\d)-(\\d\\d\\d-\\d\\d\\d\\d)'`** the zero group covers the entire pattern match where as the first group cover **`(\\d\\d\\d)`** and the second group cover **`(\\d\\d\\d-\\d\\d\\d\\d)`**"
   ]
  },
  {
   "cell_type": "code",
   "execution_count": 13,
   "id": "2f0abbf8",
   "metadata": {},
   "outputs": [
    {
     "name": "stdout",
     "output_type": "stream",
     "text": [
      "('091', '865-9087')\n",
      "091-865-9087\n",
      "091\n",
      "865-9087\n"
     ]
    }
   ],
   "source": [
    "# Example\n",
    "\n",
    "import re\n",
    "PhNoRegex = re.compile(r'(\\d\\d\\d)-(\\d\\d\\d-\\d\\d\\d\\d)')\n",
    "Num = PhNoRegex.search('Phone no. 091-865-9087')\n",
    "print(Num.groups()) # Prints all groups in a tuple format\n",
    "print(Num.group()) # Always returns the fully matched string \n",
    "print(Num.group(1)) # Returns the first group\n",
    "print(Num.group(2)) # Returns the second group"
   ]
  },
  {
   "cell_type": "markdown",
   "id": "b3407ab1",
   "metadata": {},
   "source": [
    "### 6). In standard expression syntax, parentheses and intervals have distinct meanings. How can you tell a regex that you want it to fit real parentheses and periods?"
   ]
  },
  {
   "cell_type": "markdown",
   "id": "7acd3f37",
   "metadata": {},
   "source": [
    "Periods and parentheses can be escaped with a backslash: **`\\., \\(, and \\).`**"
   ]
  },
  {
   "cell_type": "code",
   "execution_count": 19,
   "id": "5c807a4c",
   "metadata": {},
   "outputs": [
    {
     "name": "stdout",
     "output_type": "stream",
     "text": [
      "(091) 865-9087\n"
     ]
    }
   ],
   "source": [
    "# Example\n",
    "\n",
    "import re\n",
    "PhNoRegex = re.compile(r'(\\(\\d\\d\\d\\)) (\\d\\d\\d-\\d\\d\\d\\d)')\n",
    "Num = PhNoRegex.search('Phone no. (091) 865-9087')\n",
    "print(Num.group())"
   ]
  },
  {
   "cell_type": "markdown",
   "id": "c2118784",
   "metadata": {},
   "source": [
    "### 7). The `findall()` method returns a string list or a list of string tuples. What causes it to return one of the two options?"
   ]
  },
  {
   "cell_type": "markdown",
   "id": "6767f5a5",
   "metadata": {},
   "source": [
    "If there is a no group, __`findall()`__ returns list of strings. If there is group, __`findall()`__ returns tuple of strings."
   ]
  },
  {
   "cell_type": "code",
   "execution_count": 25,
   "id": "06daf4e3",
   "metadata": {},
   "outputs": [
    {
     "name": "stdout",
     "output_type": "stream",
     "text": [
      "[('(091)', '865-9087')]\n",
      "['091-865-9087']\n"
     ]
    }
   ],
   "source": [
    "# Example\n",
    "\n",
    "import re\n",
    "PhNoRegex = re.compile(r'(\\(\\d\\d\\d\\)) (\\d\\d\\d-\\d\\d\\d\\d)')\n",
    "Num = PhNoRegex.findall('Phone no. (091) 865-9087')\n",
    "print(Num)\n",
    "\n",
    "\n",
    "\n",
    "import re\n",
    "PhNoRegex = re.compile(r'\\d{3}-\\d{3}-\\d{4}')\n",
    "Num = PhNoRegex.findall('Phone no. 091-865-9087')\n",
    "print(Num) # Prints all groups in a tuple format"
   ]
  },
  {
   "cell_type": "markdown",
   "id": "93b9b4ea",
   "metadata": {},
   "source": [
    "### 8). In standard expressions, what does the `|` character mean?"
   ]
  },
  {
   "cell_type": "markdown",
   "id": "9bf470ab",
   "metadata": {},
   "source": [
    "In standard expressions,the **`|`** character mean **`or`**"
   ]
  },
  {
   "cell_type": "markdown",
   "id": "d815db41",
   "metadata": {},
   "source": [
    "### 9). In regular expressions, what does the `?` character stand for?"
   ]
  },
  {
   "cell_type": "markdown",
   "id": "34675e14",
   "metadata": {},
   "source": [
    "In regular expressions,the **`?`** character stands for match zero or one of the preceding group"
   ]
  },
  {
   "cell_type": "code",
   "execution_count": 29,
   "id": "43377056",
   "metadata": {},
   "outputs": [
    {
     "name": "stdout",
     "output_type": "stream",
     "text": [
      "<re.Match object; span=(0, 17), match='IneuronRevolution'>\n",
      "<re.Match object; span=(0, 19), match='IneuronPWRevolution'>\n"
     ]
    }
   ],
   "source": [
    "# Example\n",
    "\n",
    "import re\n",
    "match_1 = re.search(\"Ineuron(PW)?Revolution\",\"IneuronRevolution returns\")\n",
    "print(match_1)\n",
    "match_2 = re.search(\"Ineuron(PW)?Revolution\",\"IneuronPWRevolution returns\")\n",
    "print(match_2)"
   ]
  },
  {
   "cell_type": "markdown",
   "id": "157197e0",
   "metadata": {},
   "source": [
    "### 10). In regular expressions, what is the difference between the `+` and `*` characters?"
   ]
  },
  {
   "cell_type": "markdown",
   "id": "68dd6e39",
   "metadata": {},
   "source": [
    "In regular expressions,**`*`** means zero or more occurances of the preceeding group and **`+`** means one or more occurances of the preceeding group"
   ]
  },
  {
   "cell_type": "code",
   "execution_count": 31,
   "id": "9acd28cb",
   "metadata": {},
   "outputs": [
    {
     "name": "stdout",
     "output_type": "stream",
     "text": [
      "<re.Match object; span=(0, 17), match='IneuronRevolution'>\n",
      "None\n"
     ]
    }
   ],
   "source": [
    "# Example\n",
    "\n",
    "import re\n",
    "match_1 = re.search(\"Ineuron(PW)*Revolution\",\"IneuronRevolution returns\")\n",
    "print(match_1)\n",
    "match_2 = re.search(\"Ineuron(PW)+Revolution\",\"IneuronRevolution returns\")\n",
    "print(match_2)"
   ]
  },
  {
   "cell_type": "markdown",
   "id": "4e3be631",
   "metadata": {},
   "source": [
    "### 11). What is the difference between `{4}` and `{4,5}` in regular expression?"
   ]
  },
  {
   "cell_type": "markdown",
   "id": "28d4502f",
   "metadata": {},
   "source": [
    "**`{4}`** means preceeding character is to be repeated 4 times and **`{4,5}`** means proceeding character is to be repeated minimum 4 times and maximum 5 times"
   ]
  },
  {
   "cell_type": "code",
   "execution_count": 32,
   "id": "90b8ba09",
   "metadata": {},
   "outputs": [
    {
     "name": "stdout",
     "output_type": "stream",
     "text": [
      "HelloHelloHelloHelloHello\n",
      "None\n"
     ]
    }
   ],
   "source": [
    "# Example\n",
    "\n",
    "import re\n",
    "GreetRegex = re.compile(r'(Hello){5}')\n",
    "G1 = GreetRegex.search('HelloHelloHelloHelloHello')\n",
    "G2 = GreetRegex.search('Hello')\n",
    "print(G1.group())\n",
    "print(G2)"
   ]
  },
  {
   "cell_type": "markdown",
   "id": "fe35b554",
   "metadata": {},
   "source": [
    "### 12). What do you mean by the `\\d`, `\\w`, and `\\s` shorthand character classes signify in regular expressions?"
   ]
  },
  {
   "cell_type": "markdown",
   "id": "4de1d99d",
   "metadata": {},
   "source": [
    "**`\\d`** Matches any non-digits.<br>\n",
    "**`\\w`** Matches any non-word character.<br>\n",
    "**`\\s`** Matches non-whitespace characters."
   ]
  },
  {
   "cell_type": "markdown",
   "id": "27f25368",
   "metadata": {},
   "source": [
    "### 13). What do means by `\\D`, `\\W`, and `\\S` shorthand character classes signify in regular expressions?"
   ]
  },
  {
   "cell_type": "markdown",
   "id": "6a126690",
   "metadata": {},
   "source": [
    "**`\\W`** Matches any non-alphanumeric character<br>\n",
    "**`\\D`** Matches any non-digit character<br>\n",
    "**`\\S`** Matches any non-whitespace character"
   ]
  },
  {
   "cell_type": "markdown",
   "id": "bbd78d58",
   "metadata": {},
   "source": [
    "### 14). What is the difference between `.*?` and `.*`"
   ]
  },
  {
   "cell_type": "markdown",
   "id": "4d12a57d",
   "metadata": {},
   "source": [
    "`.*` is a Greedy mode, which returns the longest string that meets the condition. Whereas `.*?` is a non greedy mode which returns the shortest string that meets the condition."
   ]
  },
  {
   "cell_type": "markdown",
   "id": "b9ab0a67",
   "metadata": {},
   "source": [
    "### 15). What is the syntax for matching both numbers and lowercase letters with a character class?"
   ]
  },
  {
   "cell_type": "markdown",
   "id": "84a23a06",
   "metadata": {},
   "source": [
    "Synatax : **[a-z0-9]** or **[0-9a-z]**"
   ]
  },
  {
   "cell_type": "markdown",
   "id": "1d342580",
   "metadata": {},
   "source": [
    "### 16). What is the procedure for making a normal expression in regax case insensitive?"
   ]
  },
  {
   "cell_type": "markdown",
   "id": "a234e436",
   "metadata": {},
   "source": [
    "**`re.IGNORECASE`** is used to make a normal expression case insensitive"
   ]
  },
  {
   "cell_type": "markdown",
   "id": "5154202a",
   "metadata": {},
   "source": [
    "### 17). What does the . character normally match? What does it match if re.DOTALL is passed as 2nd argument in re.compile()?"
   ]
  },
  {
   "cell_type": "markdown",
   "id": "32a01737",
   "metadata": {},
   "source": [
    "In regular expressions, the **`.`** character normally matches any character except a newline character. However, if you pass **`re.DOTALL`** as the second argument when compiling the regular expression in Python's **`re`** module, the dot character will also match newline characters. This flag changes the behavior of the dot character, making it match any character, including newlines."
   ]
  },
  {
   "cell_type": "markdown",
   "id": "a639f6ee",
   "metadata": {},
   "source": [
    "### 18). If numReg = re.compile(r'\\d+'), what will numRegex.sub('X', '11 drummers, 10 pipers, five rings, 4 hen') return?"
   ]
  },
  {
   "cell_type": "markdown",
   "id": "7defccb6",
   "metadata": {},
   "source": [
    "it will return **`'X drummers, X pipers, five rings, X hen'`**"
   ]
  },
  {
   "cell_type": "code",
   "execution_count": 1,
   "id": "586f4479",
   "metadata": {},
   "outputs": [
    {
     "data": {
      "text/plain": [
       "'X drummers, X pipers, five rings, X hen'"
      ]
     },
     "execution_count": 1,
     "metadata": {},
     "output_type": "execute_result"
    }
   ],
   "source": [
    "import re\n",
    "numReg = re.compile(r'\\d+')\n",
    "numReg.sub('X', '11 drummers, 10 pipers, five rings, 4 hen')"
   ]
  },
  {
   "cell_type": "markdown",
   "id": "3909a97b",
   "metadata": {},
   "source": [
    "### 19). What does passing re.VERBOSE as the 2nd argument to re.compile() allow to do?"
   ]
  },
  {
   "cell_type": "markdown",
   "id": "1a96ecca",
   "metadata": {},
   "source": [
    "passing **`re.VERBOSE`** as the second argument to the **`re.compile()`** function allows you to create a regular expression with whitespace and comments."
   ]
  },
  {
   "cell_type": "code",
   "execution_count": 2,
   "id": "e5357b83",
   "metadata": {},
   "outputs": [
    {
     "name": "stdout",
     "output_type": "stream",
     "text": [
      "123-45-6789\n"
     ]
    }
   ],
   "source": [
    "import re\n",
    "regex = re.compile(r\"\"\"\n",
    "    \\d{3}    # Match three digits\n",
    "    -        # Match a hyphen\n",
    "    \\d{2}    # Match two digits\n",
    "    -        # Match a hyphen\n",
    "    \\d{4}    # Match four digits\n",
    "\"\"\", re.VERBOSE)\n",
    "string = \"My SSN is 123-45-6789\"\n",
    "match = regex.search(string)\n",
    "print(match.group(0))"
   ]
  },
  {
   "cell_type": "markdown",
   "id": "3b7c7fa8",
   "metadata": {},
   "source": [
    "### 20). How would you write a regex that match a number with comma for every three digits? It must match the given following:<br>'42'<br>'1,234'<br> '6,368,745'<br>but not the following:<br>'12,34,567' (which has only two digits between the commas)<br>'1234' (which lacks commas)"
   ]
  },
  {
   "cell_type": "code",
   "execution_count": 5,
   "id": "4420efb1",
   "metadata": {},
   "outputs": [
    {
     "name": "stdout",
     "output_type": "stream",
     "text": [
      "Output: 42 -> <re.Match object; span=(0, 2), match='42'>\n",
      "Output: 1,234 -> <re.Match object; span=(0, 5), match='1,234'>\n",
      "Output: 6,368,745 -> <re.Match object; span=(0, 9), match='6,368,745'>\n",
      "Output: 12,34,567 -> None\n",
      "Output: 1234 -> None\n"
     ]
    }
   ],
   "source": [
    "import re\n",
    "pattern = r'^\\d{1,3}(,\\d{3})*$'\n",
    "pagex = re.compile(pattern)\n",
    "for ele in ['42','1,234', '6,368,745','12,34,567','1234']:\n",
    "    print('Output:',ele, '->', pagex.search(ele))"
   ]
  },
  {
   "cell_type": "markdown",
   "id": "cb9545dd",
   "metadata": {},
   "source": [
    "### 21). How would you write a regex that matches the full name of someone whose last name is Watanabe? You can assume that the first name that comes before it will always be one word that begins with a capital letter. The regex must match the following:<br>'Haruto Watanabe'<br>'Alice Watanabe'<br>'RoboCop Watanabe'<br>but not the following:<br>'haruto Watanabe' (where the first name is not capitalized)<br>'Mr. Watanabe' (where the preceding word has a nonletter character)<br>'Watanabe' (which has no first name)<br>'Haruto watanabe' (where Watanabe is not capitalized)"
   ]
  },
  {
   "cell_type": "markdown",
   "id": "5277cf56",
   "metadata": {},
   "source": [
    "**`arrange = r'[A-Z]{1}[a-z]*\\sWatanabe'`**"
   ]
  },
  {
   "cell_type": "code",
   "execution_count": 7,
   "id": "ab6f27d7",
   "metadata": {},
   "outputs": [
    {
     "name": "stdout",
     "output_type": "stream",
     "text": [
      "Output:  Haruto Watanabe -> <re.Match object; span=(0, 15), match='Haruto Watanabe'>\n",
      "Output:  Alice Watanabe -> <re.Match object; span=(0, 14), match='Alice Watanabe'>\n",
      "Output:  RoboCop Watanabe -> <re.Match object; span=(4, 16), match='Cop Watanabe'>\n",
      "Output:  haruto Watanabe -> None\n",
      "Output:  Mr. Watanabe -> None\n",
      "Output:  Watanabe -> None\n",
      "Output:  Haruto watanabe -> None\n"
     ]
    }
   ],
   "source": [
    "import re\n",
    "arrange = r'[A-Z]{1}[a-z]*\\sWatanabe'\n",
    "namex = re.compile(pattern)\n",
    "for name in ['Haruto Watanabe','Alice Watanabe','RoboCop Watanabe','haruto Watanabe','Mr. Watanabe','Watanabe','Haruto watanabe']:\n",
    "    print('Output: ',name,'->',namex.search(name))"
   ]
  },
  {
   "cell_type": "markdown",
   "id": "b9faf729",
   "metadata": {},
   "source": [
    "### 22). How would you write a regex that matches a sentence where the first word is either Alice, Bob,or Carol; the second word is either eats, pets, or throws; the third word is apples, cats, or baseballs; and the sentence ends with a period? This regex should be case-insensitive. It must match the following:<br>'Alice eats apples.'<br>'Bob pets cats.'<br>'Carol throws baseballs.'<br>'Alice throws Apples.'<br>'BOB EATS CATS.'<br>but not the following:<br>'RoboCop eats apples.'<br>'ALICE THROWS FOOTBALLS.'<br>'Carol eats 7 cats.'"
   ]
  },
  {
   "cell_type": "markdown",
   "id": "6e0592ba",
   "metadata": {},
   "source": [
    "**`arrange = r'(Alice|Bob|Carol)\\s(eats|pets|throws)\\s(apples|cats|baseballs)\\.'`**"
   ]
  },
  {
   "cell_type": "code",
   "execution_count": 8,
   "id": "e7e8ba51",
   "metadata": {},
   "outputs": [
    {
     "name": "stdout",
     "output_type": "stream",
     "text": [
      "Output:  Alice eats apples. -> None\n",
      "Output:  Bob pets cats. -> None\n",
      "Output:  Carol throws baseballs. -> None\n",
      "Output:  Alice throws Apples. -> None\n",
      "Output:  BOB EATS CATS. -> None\n",
      "Output:  RoboCop eats apples. -> None\n",
      "Output:  ALICE THROWS FOOTBALLS. -> None\n",
      "Output:  Carol eats 7 cats. -> None\n"
     ]
    }
   ],
   "source": [
    "import re\n",
    "arrange = r'(Alice|Bob|Carol)\\s(eats|pets|throws)\\s(apples|cats|baseballs)\\.'\n",
    "casex = re.compile(pattern,re.IGNORECASE)\n",
    "for ele in ['Alice eats apples.','Bob pets cats.','Carol throws baseballs.','Alice throws Apples.','BOB EATS CATS.','RoboCop eats apples.'\n",
    ",'ALICE THROWS FOOTBALLS.','Carol eats 7 cats.']:\n",
    "    print('Output: ',ele,'->',casex.search(ele))"
   ]
  },
  {
   "cell_type": "code",
   "execution_count": null,
   "id": "e9ae5c1d",
   "metadata": {},
   "outputs": [],
   "source": []
  }
 ],
 "metadata": {
  "kernelspec": {
   "display_name": "Python 3 (ipykernel)",
   "language": "python",
   "name": "python3"
  },
  "language_info": {
   "codemirror_mode": {
    "name": "ipython",
    "version": 3
   },
   "file_extension": ".py",
   "mimetype": "text/x-python",
   "name": "python",
   "nbconvert_exporter": "python",
   "pygments_lexer": "ipython3",
   "version": "3.9.12"
  }
 },
 "nbformat": 4,
 "nbformat_minor": 5
}
