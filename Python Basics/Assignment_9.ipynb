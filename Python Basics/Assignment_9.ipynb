{
 "cells": [
  {
   "cell_type": "markdown",
   "id": "147e6656",
   "metadata": {},
   "source": [
    "### 1). To what does a relative path refer?"
   ]
  },
  {
   "cell_type": "markdown",
   "id": "0f3ff3b2",
   "metadata": {},
   "source": [
    "Relative paths are relative to the current working directory."
   ]
  },
  {
   "cell_type": "markdown",
   "id": "9c36bda0",
   "metadata": {},
   "source": [
    "### 2). What does an absolute path start with your operating system?"
   ]
  },
  {
   "cell_type": "markdown",
   "id": "ada7512b",
   "metadata": {},
   "source": [
    "Where as in **`Windows`** absolute path starts with **`C:`** and In **`Linux`** the absolute path starts with **`/`**. "
   ]
  },
  {
   "cell_type": "markdown",
   "id": "a18f02c2",
   "metadata": {},
   "source": [
    "### 3). What do the functions `os.getcwd()` and `os.chdir()` do?"
   ]
  },
  {
   "cell_type": "markdown",
   "id": "16742676",
   "metadata": {},
   "source": [
    "**`os.getcwd()`** returns you the current working directory path<br>\n",
    "**`os.chdir()`** is used to change the current working directory while running the program"
   ]
  },
  {
   "cell_type": "code",
   "execution_count": 1,
   "id": "8feb8c1d",
   "metadata": {},
   "outputs": [
    {
     "name": "stdout",
     "output_type": "stream",
     "text": [
      "C:\\Users\\rawat\\2. Python Basics\n"
     ]
    }
   ],
   "source": [
    "import os\n",
    "print(os.getcwd())"
   ]
  },
  {
   "cell_type": "code",
   "execution_count": 2,
   "id": "471dce88",
   "metadata": {},
   "outputs": [
    {
     "name": "stdout",
     "output_type": "stream",
     "text": [
      "C:\\Users\\rawat\n"
     ]
    }
   ],
   "source": [
    "new_path = r'C:\\Users\\rawat'\n",
    "os.chdir(new_path)\n",
    "print(os.getcwd())"
   ]
  },
  {
   "cell_type": "markdown",
   "id": "05200ace",
   "metadata": {},
   "source": [
    "### 4). What are the `.` and `..` folders?"
   ]
  },
  {
   "cell_type": "markdown",
   "id": "d2924daf",
   "metadata": {},
   "source": [
    "**`.`** Represents the Current Directory Whereas<br>\n",
    "**`..`** Represents the Parent Directory of the Current Directory"
   ]
  },
  {
   "cell_type": "markdown",
   "id": "57b81b89",
   "metadata": {},
   "source": [
    "### 5). In `C:\\bacon\\eggs\\spam.txt`, which part is the dir name, and which part is the base name?"
   ]
  },
  {
   "cell_type": "markdown",
   "id": "8a618f78",
   "metadata": {},
   "source": [
    "For **`C:\\bacon\\eggs\\spam.txt`**<br>\n",
    "The dir name is **`C:\\\\bacon\\\\eggs`**<br>\n",
    "The Base name is **`spam.txt`**"
   ]
  },
  {
   "cell_type": "code",
   "execution_count": 3,
   "id": "140ac8a8",
   "metadata": {},
   "outputs": [
    {
     "name": "stdout",
     "output_type": "stream",
     "text": [
      "C:\\bacon\\eggs\n",
      "spam.txt\n"
     ]
    }
   ],
   "source": [
    "import os\n",
    "p = r'C:\\bacon\\eggs\\spam.txt'\n",
    "print(os.path.dirname(p))\n",
    "print(os.path.basename(p))"
   ]
  },
  {
   "cell_type": "markdown",
   "id": "bbba2c2b",
   "metadata": {},
   "source": [
    "### 6). What are the three “mode” arguments that can be passed to the open() function?"
   ]
  },
  {
   "cell_type": "markdown",
   "id": "4ef456cd",
   "metadata": {},
   "source": [
    "The three mode arguments that can be passed to the **`open()`** function are:<br>\n",
    "**`'r'`** for read mode<br>\n",
    "**`'w'`** for write mode<br>\n",
    "**`'a'`** for append mode."
   ]
  },
  {
   "cell_type": "markdown",
   "id": "e17fde15",
   "metadata": {},
   "source": [
    "### 7). What happens if an existing file is opened in write mode?"
   ]
  },
  {
   "cell_type": "markdown",
   "id": "f44c9060",
   "metadata": {},
   "source": [
    "If an existing file is opened in write mode, then all the existing content from the file will be erased and the new content will be added."
   ]
  },
  {
   "cell_type": "markdown",
   "id": "e4ced74c",
   "metadata": {},
   "source": [
    "### 8). How do you tell the difference between read() and readlines()?"
   ]
  },
  {
   "cell_type": "markdown",
   "id": "ed8d554c",
   "metadata": {},
   "source": [
    "The **`read()`** method returns the file’s entire contents as a single string value.<br>\n",
    "The **`readlines()`** method returns a list of strings, where each string is a line from the file’s contents."
   ]
  },
  {
   "cell_type": "markdown",
   "id": "9b8b58d7",
   "metadata": {},
   "source": [
    "### 9). What data structure does a shelf value resemble?"
   ]
  },
  {
   "cell_type": "markdown",
   "id": "dd6ad4a4",
   "metadata": {},
   "source": [
    "A shelf value resembles a dictionary value; it has keys and values, along with keys() and values() methods that work similarly to the dictionary methods of the same names."
   ]
  },
  {
   "cell_type": "code",
   "execution_count": null,
   "id": "b757f381",
   "metadata": {},
   "outputs": [],
   "source": []
  }
 ],
 "metadata": {
  "kernelspec": {
   "display_name": "Python 3 (ipykernel)",
   "language": "python",
   "name": "python3"
  },
  "language_info": {
   "codemirror_mode": {
    "name": "ipython",
    "version": 3
   },
   "file_extension": ".py",
   "mimetype": "text/x-python",
   "name": "python",
   "nbconvert_exporter": "python",
   "pygments_lexer": "ipython3",
   "version": "3.9.12"
  }
 },
 "nbformat": 4,
 "nbformat_minor": 5
}
