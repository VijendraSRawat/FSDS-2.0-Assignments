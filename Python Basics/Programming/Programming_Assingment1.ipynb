{
 "cells": [
  {
   "cell_type": "markdown",
   "id": "99e16c2c",
   "metadata": {},
   "source": [
    "## 1). Write a Python program to print \"Hello Python\"?"
   ]
  },
  {
   "cell_type": "code",
   "execution_count": 1,
   "id": "d23ba5ca",
   "metadata": {},
   "outputs": [
    {
     "name": "stdout",
     "output_type": "stream",
     "text": [
      "Hello Python\n"
     ]
    }
   ],
   "source": [
    "print('Hello Python')"
   ]
  },
  {
   "cell_type": "markdown",
   "id": "d80af0e0",
   "metadata": {},
   "source": [
    "## 2). Write a Python program to do arithmetic operations addition and division?"
   ]
  },
  {
   "cell_type": "code",
   "execution_count": 2,
   "id": "17a93be8",
   "metadata": {},
   "outputs": [
    {
     "name": "stdout",
     "output_type": "stream",
     "text": [
      "Enter first number : 786\n",
      "Enter second number : 23\n",
      "addition of the numbers : 809\n",
      "division of the the numbers : 34.17391304347826\n"
     ]
    }
   ],
   "source": [
    "first_number = int(input(\"Enter first number : \"))\n",
    "second_number = int(input(\"Enter second number : \"))\n",
    "add = print('addition of the numbers :',first_number + second_number)\n",
    "divisopn = print('division of the the numbers :',first_number/second_number)"
   ]
  },
  {
   "cell_type": "markdown",
   "id": "b9ebf4ea",
   "metadata": {},
   "source": [
    "## 3). Write a Python program to find the area of a triangle?"
   ]
  },
  {
   "cell_type": "code",
   "execution_count": 3,
   "id": "afada481",
   "metadata": {},
   "outputs": [
    {
     "name": "stdout",
     "output_type": "stream",
     "text": [
      "Base of triangle : 12\n",
      "Height of triangle : 18\n",
      "Area of this triangle : 108.0\n"
     ]
    }
   ],
   "source": [
    "b = int(input('Base of triangle : '))\n",
    "h = int(input('Height of triangle : '))\n",
    "area = print('Area of this triangle :',0.5*b*h)"
   ]
  },
  {
   "cell_type": "markdown",
   "id": "e400073c",
   "metadata": {},
   "source": [
    "## 4). Write a Python program to swap two variables?"
   ]
  },
  {
   "cell_type": "code",
   "execution_count": 4,
   "id": "340c6583",
   "metadata": {},
   "outputs": [
    {
     "name": "stdout",
     "output_type": "stream",
     "text": [
      "Enter first variable : 34\n",
      "Enter second variable : 89\n",
      "value of first variable after swapping : 89\n",
      "value of second variable after swapping : 34\n"
     ]
    }
   ],
   "source": [
    "var1 = int(input('Enter first variable : '))\n",
    "var2 = int(input('Enter second variable : '))\n",
    "temp = var1\n",
    "var1 = var2\n",
    "var2 = temp\n",
    "print('value of first variable after swapping :',var1)\n",
    "print('value of second variable after swapping :',var2)"
   ]
  },
  {
   "cell_type": "markdown",
   "id": "4cacbc67",
   "metadata": {},
   "source": [
    "## 5). Write a Python program to generate a random number?"
   ]
  },
  {
   "cell_type": "code",
   "execution_count": 5,
   "id": "aae0f18e",
   "metadata": {},
   "outputs": [
    {
     "name": "stdout",
     "output_type": "stream",
     "text": [
      "Random number ->  19649\n",
      "Random number ->  27\n"
     ]
    }
   ],
   "source": [
    "from random import randint\n",
    "def generateRandomNumber(start=0, end=100000):\n",
    "    print('Random number -> ',randint(start,end))   \n",
    "generateRandomNumber()   \n",
    "generateRandomNumber(0,100)"
   ]
  },
  {
   "cell_type": "code",
   "execution_count": null,
   "id": "2275c1da",
   "metadata": {},
   "outputs": [],
   "source": []
  }
 ],
 "metadata": {
  "kernelspec": {
   "display_name": "Python 3 (ipykernel)",
   "language": "python",
   "name": "python3"
  },
  "language_info": {
   "codemirror_mode": {
    "name": "ipython",
    "version": 3
   },
   "file_extension": ".py",
   "mimetype": "text/x-python",
   "name": "python",
   "nbconvert_exporter": "python",
   "pygments_lexer": "ipython3",
   "version": "3.9.12"
  }
 },
 "nbformat": 4,
 "nbformat_minor": 5
}
