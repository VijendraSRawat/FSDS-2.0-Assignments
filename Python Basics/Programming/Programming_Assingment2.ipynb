{
 "cells": [
  {
   "cell_type": "markdown",
   "id": "9637b333",
   "metadata": {},
   "source": [
    "## 1). Write a Python program to convert kilometers to miles?"
   ]
  },
  {
   "cell_type": "code",
   "execution_count": 3,
   "id": "8611dc92",
   "metadata": {},
   "outputs": [
    {
     "name": "stdout",
     "output_type": "stream",
     "text": [
      "Enter the distance in kilometers : 3.5\n",
      "3.5 km into miles is equal to :  2.174799165\n"
     ]
    }
   ],
   "source": [
    "km = float(input(\"Enter the distance in kilometers : \"))\n",
    "print(f'{km} km into miles is equal to : ',km * 0.62137119)"
   ]
  },
  {
   "cell_type": "markdown",
   "id": "d2c95783",
   "metadata": {},
   "source": [
    "## 2). Write a Python program to convert Celsius to Fahrenheit?"
   ]
  },
  {
   "cell_type": "code",
   "execution_count": 4,
   "id": "71a0ea24",
   "metadata": {},
   "outputs": [
    {
     "name": "stdout",
     "output_type": "stream",
     "text": [
      "Enter the temperature in Celsius : 35\n",
      "35.0 degree Celsius into Fahrenheit is equal to :  95.0\n"
     ]
    }
   ],
   "source": [
    "temp = float(input('Enter the temperature in Celsius : '))\n",
    "print(f'{temp} degree Celsius into Fahrenheit is equal to : ',(temp*1.8)+32)"
   ]
  },
  {
   "cell_type": "markdown",
   "id": "a3394ea4",
   "metadata": {},
   "source": [
    "## 3). Write a Python program to display calendar?"
   ]
  },
  {
   "cell_type": "code",
   "execution_count": 5,
   "id": "34413704",
   "metadata": {},
   "outputs": [
    {
     "name": "stdout",
     "output_type": "stream",
     "text": [
      "Enter year: 2023\n",
      "                                  2023\n",
      "\n",
      "      January                   February                   March\n",
      "Mo Tu We Th Fr Sa Su      Mo Tu We Th Fr Sa Su      Mo Tu We Th Fr Sa Su\n",
      "                   1             1  2  3  4  5             1  2  3  4  5\n",
      " 2  3  4  5  6  7  8       6  7  8  9 10 11 12       6  7  8  9 10 11 12\n",
      " 9 10 11 12 13 14 15      13 14 15 16 17 18 19      13 14 15 16 17 18 19\n",
      "16 17 18 19 20 21 22      20 21 22 23 24 25 26      20 21 22 23 24 25 26\n",
      "23 24 25 26 27 28 29      27 28                     27 28 29 30 31\n",
      "30 31\n",
      "\n",
      "       April                      May                       June\n",
      "Mo Tu We Th Fr Sa Su      Mo Tu We Th Fr Sa Su      Mo Tu We Th Fr Sa Su\n",
      "                1  2       1  2  3  4  5  6  7                1  2  3  4\n",
      " 3  4  5  6  7  8  9       8  9 10 11 12 13 14       5  6  7  8  9 10 11\n",
      "10 11 12 13 14 15 16      15 16 17 18 19 20 21      12 13 14 15 16 17 18\n",
      "17 18 19 20 21 22 23      22 23 24 25 26 27 28      19 20 21 22 23 24 25\n",
      "24 25 26 27 28 29 30      29 30 31                  26 27 28 29 30\n",
      "\n",
      "        July                     August                  September\n",
      "Mo Tu We Th Fr Sa Su      Mo Tu We Th Fr Sa Su      Mo Tu We Th Fr Sa Su\n",
      "                1  2          1  2  3  4  5  6                   1  2  3\n",
      " 3  4  5  6  7  8  9       7  8  9 10 11 12 13       4  5  6  7  8  9 10\n",
      "10 11 12 13 14 15 16      14 15 16 17 18 19 20      11 12 13 14 15 16 17\n",
      "17 18 19 20 21 22 23      21 22 23 24 25 26 27      18 19 20 21 22 23 24\n",
      "24 25 26 27 28 29 30      28 29 30 31               25 26 27 28 29 30\n",
      "31\n",
      "\n",
      "      October                   November                  December\n",
      "Mo Tu We Th Fr Sa Su      Mo Tu We Th Fr Sa Su      Mo Tu We Th Fr Sa Su\n",
      "                   1             1  2  3  4  5                   1  2  3\n",
      " 2  3  4  5  6  7  8       6  7  8  9 10 11 12       4  5  6  7  8  9 10\n",
      " 9 10 11 12 13 14 15      13 14 15 16 17 18 19      11 12 13 14 15 16 17\n",
      "16 17 18 19 20 21 22      20 21 22 23 24 25 26      18 19 20 21 22 23 24\n",
      "23 24 25 26 27 28 29      27 28 29 30               25 26 27 28 29 30 31\n",
      "30 31\n",
      "\n"
     ]
    }
   ],
   "source": [
    "import calendar\n",
    "year = int(input(\"Enter year: \"))\n",
    "print(calendar.calendar(year))"
   ]
  },
  {
   "cell_type": "markdown",
   "id": "ef8fe49f",
   "metadata": {},
   "source": [
    "## 4). Write a Python program to solve quadratic equation?"
   ]
  },
  {
   "cell_type": "code",
   "execution_count": 6,
   "id": "758855e3",
   "metadata": {},
   "outputs": [
    {
     "name": "stdout",
     "output_type": "stream",
     "text": [
      "Enter coefficient of X^2 : 1\n",
      "Enter coefficient of X : -3\n",
      "Enter constant of C : -4\n",
      "The solution are (-1+0j) and (4+0j)\n"
     ]
    }
   ],
   "source": [
    "import cmath\n",
    "a = int(input('Enter coefficient of X^2 : '))\n",
    "b = int(input('Enter coefficient of X : '))\n",
    "c = int(input('Enter constant of C : '))\n",
    "d = (b**2) - (4*a*c)\n",
    "soln1 = (-b-cmath.sqrt(d))/(2*a)\n",
    "soln2 = (-b+cmath.sqrt(d))/(2*a)\n",
    "print('The solution are {0} and {1}'.format(soln1,soln2))"
   ]
  },
  {
   "cell_type": "markdown",
   "id": "0373ab6d",
   "metadata": {},
   "source": [
    "## 5). Write a Python program to swap two variables without temp variable?"
   ]
  },
  {
   "cell_type": "code",
   "execution_count": 7,
   "id": "7ac5714e",
   "metadata": {},
   "outputs": [
    {
     "name": "stdout",
     "output_type": "stream",
     "text": [
      "Enter the first variable : 9\n",
      "Enter the second variable : 5\n",
      "Before swapping: \n",
      "Value of a :  9  and b :  5\n",
      "After swapping: \n",
      "Value of a :  5  and b :  9\n"
     ]
    }
   ],
   "source": [
    "a = input('Enter the first variable : ')\n",
    "b = input('Enter the second variable : ')\n",
    "print (\"Before swapping: \")\n",
    "print(\"Value of a : \", a, \" and b : \", b)\n",
    "a, b = b, a\n",
    "print (\"After swapping: \")\n",
    "print(\"Value of a : \", a, \" and b : \", b)"
   ]
  },
  {
   "cell_type": "code",
   "execution_count": null,
   "id": "d0ae58cb",
   "metadata": {},
   "outputs": [],
   "source": []
  }
 ],
 "metadata": {
  "kernelspec": {
   "display_name": "Python 3 (ipykernel)",
   "language": "python",
   "name": "python3"
  },
  "language_info": {
   "codemirror_mode": {
    "name": "ipython",
    "version": 3
   },
   "file_extension": ".py",
   "mimetype": "text/x-python",
   "name": "python",
   "nbconvert_exporter": "python",
   "pygments_lexer": "ipython3",
   "version": "3.9.12"
  }
 },
 "nbformat": 4,
 "nbformat_minor": 5
}
