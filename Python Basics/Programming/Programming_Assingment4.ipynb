{
 "cells": [
  {
   "cell_type": "markdown",
   "id": "2c702a24",
   "metadata": {},
   "source": [
    "## 1). Write a Python Program to find the factorial of a number?"
   ]
  },
  {
   "cell_type": "code",
   "execution_count": 3,
   "id": "dbace884",
   "metadata": {},
   "outputs": [
    {
     "name": "stdout",
     "output_type": "stream",
     "text": [
      "Enter a number : 12\n",
      "The factorial of 12 is 479001600\n"
     ]
    }
   ],
   "source": [
    "n = int(input('Enter a number : '))\n",
    "fact = 1\n",
    "if n < 0:\n",
    "    print(\"Doesn't exist for negative numbers\")\n",
    "elif n == 0:\n",
    "    print(\"The factorial of 0 is 1\")\n",
    "else:\n",
    "    for i in range(1,n + 1):\n",
    "        fact = fact*i\n",
    "    print(\"The factorial of\",n,\"is\",fact)"
   ]
  },
  {
   "cell_type": "markdown",
   "id": "23510904",
   "metadata": {},
   "source": [
    "## 2). Write a Python Program to display the multiplication table?"
   ]
  },
  {
   "cell_type": "code",
   "execution_count": 2,
   "id": "29927e32",
   "metadata": {},
   "outputs": [
    {
     "name": "stdout",
     "output_type": "stream",
     "text": [
      "Enter a number to display the multiplication table : 3\n",
      "Enter a number for multiplication times : 10\n",
      "3 x 1 = 3\n",
      "3 x 2 = 6\n",
      "3 x 3 = 9\n",
      "3 x 4 = 12\n",
      "3 x 5 = 15\n",
      "3 x 6 = 18\n",
      "3 x 7 = 21\n",
      "3 x 8 = 24\n",
      "3 x 9 = 27\n",
      "3 x 10 = 30\n"
     ]
    }
   ],
   "source": [
    "num = int(input('Enter a number to display the multiplication table : '))\n",
    "mul = int(input('Enter a number for multiplication times : '))\n",
    "for i in range (1,mul + 1) :\n",
    "    print(num, 'x', i, '=', num*i)"
   ]
  },
  {
   "cell_type": "markdown",
   "id": "bf8ba039",
   "metadata": {},
   "source": [
    "## 3). Write a Python Program to print the fibonacci sequence?"
   ]
  },
  {
   "cell_type": "code",
   "execution_count": 13,
   "id": "910a7755",
   "metadata": {},
   "outputs": [
    {
     "name": "stdout",
     "output_type": "stream",
     "text": [
      "Enter a number for fibonacci sequence you want : 9\n",
      "0  1  1  2  3  5  8  13  21  34  "
     ]
    }
   ],
   "source": [
    "N = int(input('Enter a number for fibonacci sequence you want : '))\n",
    "dp = [0,1]\n",
    "for i in range(N-1):\n",
    "    dp.append(dp[-1] + dp[-2])\n",
    "for i in dp:\n",
    "    print(i,\" \",end=\"\")"
   ]
  },
  {
   "cell_type": "markdown",
   "id": "e5108414",
   "metadata": {},
   "source": [
    "## 4). Write a Python Program to check Armstrong number?"
   ]
  },
  {
   "cell_type": "code",
   "execution_count": 21,
   "id": "e15e15b8",
   "metadata": {},
   "outputs": [
    {
     "name": "stdout",
     "output_type": "stream",
     "text": [
      "Enter a number : 87069\n",
      "87069 is not a Armstrong number\n"
     ]
    }
   ],
   "source": [
    "n = int(input('Enter a number : '))\n",
    "temp = n\n",
    "l = len(str(n))\n",
    "add = 0\n",
    "while n != 0:\n",
    "    r = n % 10\n",
    "    add = add+(r**l)\n",
    "    n = n//10\n",
    "if temp == add:\n",
    "    print(f'{temp} is a Armstrong number')\n",
    "else:\n",
    "    print(f'{temp} is not a Armstrong number')"
   ]
  },
  {
   "cell_type": "markdown",
   "id": "8440b4e6",
   "metadata": {},
   "source": [
    "## 5). Write a Python Program to Find Armstrong number in an interval?"
   ]
  },
  {
   "cell_type": "code",
   "execution_count": 25,
   "id": "a4a75dd6",
   "metadata": {},
   "outputs": [
    {
     "name": "stdout",
     "output_type": "stream",
     "text": [
      "Enter start of the interval : 100\n",
      "Enter end of the interval : 10000\n",
      "153\n",
      "370\n",
      "371\n",
      "407\n",
      "1634\n",
      "8208\n",
      "9474\n"
     ]
    }
   ],
   "source": [
    "start = int(input('Enter start of the interval : '))\n",
    "end = int(input('Enter end of the interval : '))\n",
    "for num in range(start, end + 1):\n",
    "    order = len(str(num))\n",
    "    add = 0\n",
    "    temp = num\n",
    "    while temp > 0:\n",
    "        digit = temp % 10\n",
    "        add += digit ** order\n",
    "        temp //= 10\n",
    "    if num == add:\n",
    "        print(num)\n"
   ]
  },
  {
   "cell_type": "markdown",
   "id": "6934c56d",
   "metadata": {},
   "source": [
    "## 6). Write a Python Program to sum of natural numbers?"
   ]
  },
  {
   "cell_type": "code",
   "execution_count": 27,
   "id": "dbc2e972",
   "metadata": {},
   "outputs": [
    {
     "name": "stdout",
     "output_type": "stream",
     "text": [
      "Enter a number : 54\n",
      "Sum of 54 natural number is 1485.0\n"
     ]
    }
   ],
   "source": [
    "number = int(input('Enter a number : '))\n",
    "add = number*((number+1)/2)\n",
    "print(f'Sum of {number} natural number is {add}')"
   ]
  },
  {
   "cell_type": "code",
   "execution_count": null,
   "id": "1c6485d1",
   "metadata": {},
   "outputs": [],
   "source": []
  }
 ],
 "metadata": {
  "kernelspec": {
   "display_name": "Python 3 (ipykernel)",
   "language": "python",
   "name": "python3"
  },
  "language_info": {
   "codemirror_mode": {
    "name": "ipython",
    "version": 3
   },
   "file_extension": ".py",
   "mimetype": "text/x-python",
   "name": "python",
   "nbconvert_exporter": "python",
   "pygments_lexer": "ipython3",
   "version": "3.9.12"
  }
 },
 "nbformat": 4,
 "nbformat_minor": 5
}
